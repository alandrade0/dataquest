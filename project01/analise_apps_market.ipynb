{
 "cells": [
  {
   "cell_type": "markdown",
   "metadata": {},
   "source": [
    "# Análise de dados para empresa que produz aplicativos móveis"
   ]
  },
  {
   "cell_type": "markdown",
   "metadata": {},
   "source": [
    "**Descrição da companhia**\n",
    "\n",
    "*Nós construímos apps que são grátis para baixar e instalar, e nossa principal fonte de receita são as publicidades (ads) dentro dos aplicativos. Isso quer dizer que nossa receita é influenciada pelo número de usuários que usam nosso aplicativo, ou seja, quanto mais usuários olham e clicam nas propagandas, melhor.* - Tradução livre da descrição do projeto 01 curso Python for Data Science: Fundamentals da Dataquest.\n",
    "\n",
    "**Sobre o que é projeto?**\n",
    "\n",
    "Uma análise dos dados de app's da App Store e Google Play.\n",
    "\n",
    "**Qual o objetivo?**\n",
    "\n",
    "O objetivo do projeto é realizar a análise de dados para ajudar os desenvolvedores entender que tipos de aplicativos grátis podem ser mais rentáveis."
   ]
  },
  {
   "cell_type": "markdown",
   "metadata": {},
   "source": [
    "## Funções auxiliares para a análise"
   ]
  },
  {
   "cell_type": "code",
   "execution_count": 1,
   "metadata": {},
   "outputs": [],
   "source": [
    "def csv_to_list(path, encoding='utf-8'):\n",
    "    file_csv = open(path, encoding=encoding )\n",
    "    from csv import reader\n",
    "    \n",
    "    return list(reader(file_csv))"
   ]
  },
  {
   "cell_type": "code",
   "execution_count": 2,
   "metadata": {},
   "outputs": [],
   "source": [
    "# return header and dataset without header\n",
    "def remove_header(dataset_list):\n",
    "    return dataset_list[0], dataset_list[1:]"
   ]
  },
  {
   "cell_type": "code",
   "execution_count": 3,
   "metadata": {},
   "outputs": [],
   "source": [
    "def explore_data(dataset, start, end, rows_and_columns=False):\n",
    "    dataset_slice = dataset[start:end]    \n",
    "    for row in dataset_slice:\n",
    "        print(row)\n",
    "        print('\\n') # adds a new (empty) line after each row\n",
    "\n",
    "    if rows_and_columns:\n",
    "        print('Number of rows:', len(dataset))\n",
    "        print('Number of columns:', len(dataset[0]))"
   ]
  },
  {
   "cell_type": "markdown",
   "metadata": {},
   "source": [
    "## Abrindo os arquivos e explorando os dados"
   ]
  },
  {
   "cell_type": "markdown",
   "metadata": {},
   "source": [
    "Para a análise serão utilizados 2 datasets: um da App Store e outro da Google Play.\n",
    "Eles estão no formato csv, então abriremos e converteremos para lista utilizando a função auxiliar csv_to_list."
   ]
  },
  {
   "cell_type": "code",
   "execution_count": 4,
   "metadata": {},
   "outputs": [],
   "source": [
    "apple_list = csv_to_list('data/AppleStore.csv')\n",
    "google_list = csv_to_list('data/googleplaystore.csv')"
   ]
  },
  {
   "cell_type": "markdown",
   "metadata": {},
   "source": [
    "Os arquivos possuem cabeçalho, então para facilitar a análise o cabeçalho será separado dos dados."
   ]
  },
  {
   "cell_type": "code",
   "execution_count": 5,
   "metadata": {},
   "outputs": [],
   "source": [
    "apple_header, apple_list = remove_header(apple_list)\n",
    "google_header, google_list = remove_header(google_list)"
   ]
  },
  {
   "cell_type": "markdown",
   "metadata": {},
   "source": [
    "Com os dados devidamente separados, vamos deixar registrado o que significa cada coluna com a sua respectiva descrição.\n"
   ]
  },
  {
   "cell_type": "code",
   "execution_count": 6,
   "metadata": {},
   "outputs": [
    {
     "name": "stdout",
     "output_type": "stream",
     "text": [
      "['id', 'track_name', 'size_bytes', 'currency', 'price', 'rating_count_tot', 'rating_count_ver', 'user_rating', 'user_rating_ver', 'ver', 'cont_rating', 'prime_genre', 'sup_devices.num', 'ipadSc_urls.num', 'lang.num', 'vpp_lic']\n"
     ]
    }
   ],
   "source": [
    "print(apple_header)"
   ]
  },
  {
   "cell_type": "markdown",
   "metadata": {},
   "source": [
    "|Column          | Description                                     |\n",
    "|--------------- | ----------------------------------------------- |\n",
    "|id              | App ID                                          |\n",
    "|track_name      | App Name                                        |\n",
    "|size_bytes      | Size (in Bytes)                                 |\n",
    "|currency        | Currency Type                                   |\n",
    "|price           | Price amount                                    |\n",
    "|ratingcounttot  | User Rating counts (for all version)            |\n",
    "|ratingcountver  | User Rating counts (for current version)        |\n",
    "|user_rating     | Average User Rating value (for all version)     |\n",
    "|userratingver   | Average User Rating value (for current version) |\n",
    "|ver             | Latest version code                             |\n",
    "|cont_rating     | Content Rating                                  |\n",
    "|prime_genre     | Primary Genre                                   |\n",
    "|sup_devices.num | Number of supporting devices                    |\n",
    "|ipadSc_urls.num | Number of screenshots showed for display        |\n",
    "|lang.num        | Number of supported languages                   |\n",
    "|vpp_lic         | Vpp Device Based Licensing Enabled              |\n",
    "\n",
    "Fonte dos dados da App Store: [Kaggle Mobile App Store](https://www.kaggle.com/ramamet4/app-store-apple-data-set-10k-apps)"
   ]
  },
  {
   "cell_type": "markdown",
   "metadata": {},
   "source": [
    "Imprimindo alguns exemplos de dados do conjunto App Store."
   ]
  },
  {
   "cell_type": "code",
   "execution_count": 7,
   "metadata": {},
   "outputs": [
    {
     "name": "stdout",
     "output_type": "stream",
     "text": [
      "['284882215', 'Facebook', '389879808', 'USD', '0.0', '2974676', '212', '3.5', '3.5', '95.0', '4+', 'Social Networking', '37', '1', '29', '1']\n",
      "\n",
      "\n",
      "['389801252', 'Instagram', '113954816', 'USD', '0.0', '2161558', '1289', '4.5', '4.0', '10.23', '12+', 'Photo & Video', '37', '0', '29', '1']\n",
      "\n",
      "\n",
      "['529479190', 'Clash of Clans', '116476928', 'USD', '0.0', '2130805', '579', '4.5', '4.5', '9.24.12', '9+', 'Games', '38', '5', '18', '1']\n",
      "\n",
      "\n",
      "['420009108', 'Temple Run', '65921024', 'USD', '0.0', '1724546', '3842', '4.5', '4.0', '1.6.2', '9+', 'Games', '40', '5', '1', '1']\n",
      "\n",
      "\n",
      "['284035177', 'Pandora - Music & Radio', '130242560', 'USD', '0.0', '1126879', '3594', '4.0', '4.5', '8.4.1', '12+', 'Music', '37', '4', '1', '1']\n",
      "\n",
      "\n",
      "Number of rows: 7197\n",
      "Number of columns: 16\n",
      "None\n"
     ]
    }
   ],
   "source": [
    "print(explore_data(apple_list, 0, 5, True))"
   ]
  },
  {
   "cell_type": "markdown",
   "metadata": {},
   "source": [
    "Num primeiro momento, acredito que as colunas mais relevantes são:\n",
    "- track_name\n",
    "- size_bytes\n",
    "- price (somente os grátis)\n",
    "- user_rating\n",
    "- cont_rating\n",
    "- prime_genre\n",
    "- sup_devices.num\n",
    "- lang.num"
   ]
  },
  {
   "cell_type": "markdown",
   "metadata": {},
   "source": [
    "Agora verificaremos as informações para os dados do Google Play:"
   ]
  },
  {
   "cell_type": "code",
   "execution_count": 8,
   "metadata": {},
   "outputs": [
    {
     "name": "stdout",
     "output_type": "stream",
     "text": [
      "['App', 'Category', 'Rating', 'Reviews', 'Size', 'Installs', 'Type', 'Price', 'Content Rating', 'Genres', 'Last Updated', 'Current Ver', 'Android Ver']\n"
     ]
    }
   ],
   "source": [
    "print(google_header)"
   ]
  },
  {
   "cell_type": "markdown",
   "metadata": {},
   "source": [
    "|Column | Description|\n",
    "|-------|------------|\n",
    "App | Application name\n",
    "Category | Category the app belongs to\n",
    "Rating | Overall user rating of the app (as when scraped)\n",
    "Reviews | Number of user reviews for the app (as when scraped)\n",
    "Size | Size of the app (as when scraped)\n",
    "Installs | Number of user downloads/installs for the app (as when scraped)\n",
    "Type | Paid or Free\n",
    "Price | Price of the app (as when scraped)\n",
    "Content Rating | Age group the app is targeted at - Children / Mature 21+ / Adult\n",
    "Genres | An app can belong to multiple genres (apart from its main category). For eg, a musical family game will belong to Music, Game, Family genres.\n",
    "Last Updated | Date when the app was last updated on Play Store (as when scraped)\n",
    "Current Ver | Current version of the app available on Play Store (as when scraped)\n",
    "Android Ver | Min required Android version (as when scraped)\n",
    "\n",
    "\n",
    "Fonte dos dados da Google Play: [Kaggle Google Play Store Apps](https://www.kaggle.com/lava18/google-play-store-apps)"
   ]
  },
  {
   "cell_type": "markdown",
   "metadata": {},
   "source": [
    "Imprimindo alguns exemplos de dados do conjunto App Store."
   ]
  },
  {
   "cell_type": "code",
   "execution_count": 9,
   "metadata": {},
   "outputs": [
    {
     "name": "stdout",
     "output_type": "stream",
     "text": [
      "\n",
      "\n",
      "['Photo Editor & Candy Camera & Grid & ScrapBook', 'ART_AND_DESIGN', '4.1', '159', '19M', '10,000+', 'Free', '0', 'Everyone', 'Art & Design', 'January 7, 2018', '1.0.0', '4.0.3 and up']\n",
      "\n",
      "\n",
      "['Coloring book moana', 'ART_AND_DESIGN', '3.9', '967', '14M', '500,000+', 'Free', '0', 'Everyone', 'Art & Design;Pretend Play', 'January 15, 2018', '2.0.0', '4.0.3 and up']\n",
      "\n",
      "\n",
      "['U Launcher Lite – FREE Live Cool Themes, Hide Apps', 'ART_AND_DESIGN', '4.7', '87510', '8.7M', '5,000,000+', 'Free', '0', 'Everyone', 'Art & Design', 'August 1, 2018', '1.2.4', '4.0.3 and up']\n",
      "\n",
      "\n",
      "['Sketch - Draw & Paint', 'ART_AND_DESIGN', '4.5', '215644', '25M', '50,000,000+', 'Free', '0', 'Teen', 'Art & Design', 'June 8, 2018', 'Varies with device', '4.2 and up']\n",
      "\n",
      "\n",
      "['Pixel Draw - Number Art Coloring Book', 'ART_AND_DESIGN', '4.3', '967', '2.8M', '100,000+', 'Free', '0', 'Everyone', 'Art & Design;Creativity', 'June 20, 2018', '1.1', '4.4 and up']\n",
      "\n",
      "\n",
      "Number of rows: 10841\n",
      "Number of columns: 13\n",
      "None\n"
     ]
    }
   ],
   "source": [
    "print('\\n')\n",
    "print(explore_data(google_list, 0, 5, True))"
   ]
  },
  {
   "cell_type": "markdown",
   "metadata": {},
   "source": [
    "Para o conjunto de dados do Google Play, identifiquei que as colunas abaixo são mais relevantes.\n",
    "- app\n",
    "- category\n",
    "- rating\n",
    "- size\n",
    "- type\n",
    "- content rating\n",
    "- genres"
   ]
  },
  {
   "cell_type": "markdown",
   "metadata": {},
   "source": [
    "Identifiquei também que os arquivos `AppleStore.csv` e `googleplaystore.csv` contém layout e informações diferentes."
   ]
  },
  {
   "cell_type": "markdown",
   "metadata": {},
   "source": [
    "## Data Cleaning (Limpeza dos dados)"
   ]
  },
  {
   "cell_type": "markdown",
   "metadata": {},
   "source": [
    "\"*This process of preparing our data for analysis is called data cleaning. Data cleaning is done before the analysis; it includes removing or correcting wrong data, removing duplicate data, and modifying the data to fit the purpose of our analysis.*\n",
    "\n",
    "*It's often said that data scientists spend around 80% of their time cleaning data, and only about 20% actually analyzing (cleaned) data. In this project, we'll see that this is not far from the truth.*\""
   ]
  },
  {
   "cell_type": "markdown",
   "metadata": {},
   "source": [
    "No passo anterior, abri os dois datasets e fiz uma breve exploração dos dados. Nesse passo, verificarei algumas inconsistências nos dados e realizarei o ajuste/limpeza nos dados."
   ]
  },
  {
   "cell_type": "markdown",
   "metadata": {},
   "source": [
    "### Removendo dados incorretos"
   ]
  },
  {
   "cell_type": "markdown",
   "metadata": {},
   "source": [
    "O conjunto de dados do Google Play possui uma [sessão de discução](https://www.kaggle.com/lava18/google-play-store-apps/discussion) e [uma dessas discuções](https://www.kaggle.com/lava18/google-play-store-apps/discussion/66015) descreve um erro para uma certa linha."
   ]
  },
  {
   "cell_type": "markdown",
   "metadata": {},
   "source": [
    "\n",
    "\n",
    ">**Wrong rating for entry 10472**\n",
    ">\n",
    "> this entry has missing 'Rating' and a column shift happened for next columns..\n",
    "10472 Life Made WI-Fi Touchscreen Photo Frame 1.9 19.0 3.0M 1,000+ Free 0 Everyone NaN February 11, 2018 1.0.19 4.0 and up NaN"
   ]
  },
  {
   "cell_type": "markdown",
   "metadata": {},
   "source": [
    "Sendo assim, busco esse registro e removo-o do conjunto de dados, pois faltando uma informação as outras colunas acabaram ficando inconsistentes."
   ]
  },
  {
   "cell_type": "code",
   "execution_count": 10,
   "metadata": {},
   "outputs": [
    {
     "name": "stdout",
     "output_type": "stream",
     "text": [
      "['Life Made WI-Fi Touchscreen Photo Frame', '1.9', '19', '3.0M', '1,000+', 'Free', '0', 'Everyone', '', 'February 11, 2018', '1.0.19', '4.0 and up']\n",
      "12\n"
     ]
    }
   ],
   "source": [
    "print(google_list[10472])\n",
    "print(len(google_list[10472]))"
   ]
  },
  {
   "cell_type": "code",
   "execution_count": 11,
   "metadata": {},
   "outputs": [
    {
     "name": "stdout",
     "output_type": "stream",
     "text": [
      "['Photo Editor & Candy Camera & Grid & ScrapBook', 'ART_AND_DESIGN', '4.1', '159', '19M', '10,000+', 'Free', '0', 'Everyone', 'Art & Design', 'January 7, 2018', '1.0.0', '4.0.3 and up']\n",
      "13\n"
     ]
    }
   ],
   "source": [
    "print(google_list[0])\n",
    "print(len(google_list[0]))"
   ]
  },
  {
   "cell_type": "markdown",
   "metadata": {},
   "source": [
    "De fato, falta o registro em uma coluna no indice 10472, pois no **indice 10472 temos 12 colunas** e no **indice 0 temos 13 colunas**."
   ]
  },
  {
   "cell_type": "markdown",
   "metadata": {},
   "source": [
    "Dessa forma será necessário remover o registro de indice 10472."
   ]
  },
  {
   "cell_type": "code",
   "execution_count": 12,
   "metadata": {},
   "outputs": [],
   "source": [
    "del(google_list[10472])"
   ]
  },
  {
   "cell_type": "markdown",
   "metadata": {},
   "source": [
    "### Removendo registros duplicados"
   ]
  },
  {
   "cell_type": "markdown",
   "metadata": {},
   "source": [
    "Podemos verificar no dataset do Google Play se existem registros duplicados:"
   ]
  },
  {
   "cell_type": "code",
   "execution_count": 13,
   "metadata": {},
   "outputs": [
    {
     "name": "stdout",
     "output_type": "stream",
     "text": [
      "Quantidade duplicada:  1181\n",
      "Exemplos duplicados:  ['Quick PDF Scanner + OCR FREE', 'Box', 'Google My Business', 'ZOOM Cloud Meetings', 'join.me - Simple Meetings', 'Box', 'Zenefits', 'Google Ads', 'Google My Business', 'Slack']\n"
     ]
    }
   ],
   "source": [
    "duplicate_apps = []\n",
    "unique_apps = []\n",
    "\n",
    "for app in google_list:\n",
    "    name = app[0]\n",
    "    if name in unique_apps:\n",
    "        duplicate_apps.append(name)\n",
    "    else:\n",
    "        unique_apps.append(name)\n",
    "\n",
    "print(\"Quantidade duplicada: \", len(duplicate_apps))\n",
    "print(\"Exemplos duplicados: \", duplicate_apps[:10])"
   ]
  },
  {
   "cell_type": "markdown",
   "metadata": {},
   "source": [
    "O resultado anterior mostra que existem algumas duplicidades de registros. Pegaremos como exemplo o app Slack e verificaremos quantas vezes ele aparece duplicado."
   ]
  },
  {
   "cell_type": "code",
   "execution_count": 14,
   "metadata": {},
   "outputs": [
    {
     "name": "stdout",
     "output_type": "stream",
     "text": [
      "['Slack', 'BUSINESS', '4.4', '51507', 'Varies with device', '5,000,000+', 'Free', '0', 'Everyone', 'Business', 'August 2, 2018', 'Varies with device', 'Varies with device']\n",
      "['Slack', 'BUSINESS', '4.4', '51507', 'Varies with device', '5,000,000+', 'Free', '0', 'Everyone', 'Business', 'August 2, 2018', 'Varies with device', 'Varies with device']\n",
      "['Slack', 'BUSINESS', '4.4', '51510', 'Varies with device', '5,000,000+', 'Free', '0', 'Everyone', 'Business', 'August 2, 2018', 'Varies with device', 'Varies with device']\n"
     ]
    }
   ],
   "source": [
    "for app in google_list:\n",
    "    name = app[0]\n",
    "    \n",
    "    if name == 'Slack':\n",
    "        print(app)"
   ]
  },
  {
   "cell_type": "markdown",
   "metadata": {},
   "source": [
    "O Slack aparece duplicado 3 vezes mudando apenas o valor na coluna de indice 3, que corresponde a quantide de Reviews. Dessa forma, podemos manter apenas o registro que tiver a maior quantidade de reviews, pois parece ser o mais recente, e descartar os outros."
   ]
  },
  {
   "cell_type": "code",
   "execution_count": 15,
   "metadata": {},
   "outputs": [
    {
     "name": "stdout",
     "output_type": "stream",
     "text": [
      "Quantidade esperada sem repetição:  9659\n"
     ]
    }
   ],
   "source": [
    "print('Quantidade esperada sem repetição: ', len(google_list) - len(duplicate_apps))"
   ]
  },
  {
   "cell_type": "code",
   "execution_count": 16,
   "metadata": {},
   "outputs": [
    {
     "name": "stdout",
     "output_type": "stream",
     "text": [
      "Quantidades únicas:  9659\n"
     ]
    }
   ],
   "source": [
    "reviews_max = {}\n",
    "\n",
    "for app in google_list:\n",
    "    name = app[0]\n",
    "    n_reviews = float(app[3])\n",
    "    \n",
    "    if name in reviews_max and reviews_max[name] < n_reviews:\n",
    "        reviews_max[name] = n_reviews\n",
    "    elif name not in reviews_max:\n",
    "        reviews_max[name] = n_reviews\n",
    "\n",
    "print('Quantidades únicas: ', len(reviews_max))"
   ]
  },
  {
   "cell_type": "markdown",
   "metadata": {},
   "source": [
    "Veja que o algoritmo funcionou pois o registro Slack ficou com a quantidade maior de reviews"
   ]
  },
  {
   "cell_type": "code",
   "execution_count": 17,
   "metadata": {},
   "outputs": [
    {
     "data": {
      "text/plain": [
       "51510.0"
      ]
     },
     "execution_count": 17,
     "metadata": {},
     "output_type": "execute_result"
    }
   ],
   "source": [
    "reviews_max['Slack']"
   ]
  },
  {
   "cell_type": "markdown",
   "metadata": {},
   "source": [
    "Com os registros únicos em mãos, o próximo passo é criar uma nova lista limpa e adicionar somente os registros únicos, com a maior quantidade de reviews"
   ]
  },
  {
   "cell_type": "code",
   "execution_count": 18,
   "metadata": {},
   "outputs": [
    {
     "name": "stdout",
     "output_type": "stream",
     "text": [
      "Nova lista:  9659\n"
     ]
    }
   ],
   "source": [
    "android_clean = []\n",
    "already_added = []\n",
    "\n",
    "for app in google_list:\n",
    "    name = app[0]\n",
    "    n_reviews = float(app[3])\n",
    "    \n",
    "    if name not in already_added:\n",
    "        if reviews_max[name] == n_reviews:\n",
    "            already_added.append(name)\n",
    "            android_clean.append(app)\n",
    "            \n",
    "print('Nova lista: ', len(android_clean))"
   ]
  },
  {
   "cell_type": "markdown",
   "metadata": {},
   "source": [
    "A nova lista possui 9659 registros únicos conforme esperado anteriormente."
   ]
  },
  {
   "cell_type": "markdown",
   "metadata": {},
   "source": [
    "### Removendo apps que não estão em inglês"
   ]
  },
  {
   "cell_type": "markdown",
   "metadata": {},
   "source": [
    "Como o estudo se refere a apps do idioma inglês, removerei os apps que não são desse idioma.\n",
    "Alguns exemplos:"
   ]
  },
  {
   "cell_type": "code",
   "execution_count": 19,
   "metadata": {},
   "outputs": [
    {
     "name": "stdout",
     "output_type": "stream",
     "text": [
      "爱奇艺PPS -《欢乐颂2》电视剧热播\n",
      "【脱出ゲーム】絶対に最後までプレイしないで 〜謎解き＆ブロックパズル〜\n"
     ]
    }
   ],
   "source": [
    "print(apple_list[813][1])\n",
    "print(apple_list[6731][1])"
   ]
  },
  {
   "cell_type": "markdown",
   "metadata": {},
   "source": [
    "Para facilitar o processo, crio uma função auxiliar para identificar se o título está inglês. Nesse caso, uma palavra será considerada em inglês se tiver mais que 3 letras fora do da tabela [ASCII](http://www.asciitable.com/)."
   ]
  },
  {
   "cell_type": "code",
   "execution_count": 20,
   "metadata": {},
   "outputs": [],
   "source": [
    "# Returns True if outside_letters < 3\n",
    "def is_english(title):\n",
    "    outside_letters = 0\n",
    "    \n",
    "    for letter in title:\n",
    "        if ord(letter) > 127:\n",
    "            outside_letters += 1\n",
    "            \n",
    "    return outside_letters <= 3"
   ]
  },
  {
   "cell_type": "code",
   "execution_count": 21,
   "metadata": {},
   "outputs": [
    {
     "name": "stdout",
     "output_type": "stream",
     "text": [
      "True\n",
      "False\n",
      "True\n",
      "True\n"
     ]
    }
   ],
   "source": [
    "# Teste da função\n",
    "print(is_english('Instagram'))\n",
    "print(is_english('爱奇艺PPS -《欢乐颂2》电视剧热播'))\n",
    "print(is_english('Docs To Go™ Free Office Suite'))\n",
    "print(is_english('Instachat 😜'))"
   ]
  },
  {
   "cell_type": "markdown",
   "metadata": {},
   "source": [
    "Com a função auxiliar criada, filtraremos apenas os app que tem o nome em inglês."
   ]
  },
  {
   "cell_type": "code",
   "execution_count": 22,
   "metadata": {},
   "outputs": [],
   "source": [
    "android_english = []\n",
    "ios_english = []\n",
    "\n",
    "for app in android_clean:\n",
    "    if is_english(app[0]):\n",
    "        android_english.append(app)\n",
    "        \n",
    "for app in apple_list:\n",
    "    if is_english(app[1]):\n",
    "        ios_english.append(app)"
   ]
  },
  {
   "cell_type": "code",
   "execution_count": 23,
   "metadata": {},
   "outputs": [
    {
     "name": "stdout",
     "output_type": "stream",
     "text": [
      "['Photo Editor & Candy Camera & Grid & ScrapBook', 'ART_AND_DESIGN', '4.1', '159', '19M', '10,000+', 'Free', '0', 'Everyone', 'Art & Design', 'January 7, 2018', '1.0.0', '4.0.3 and up']\n",
      "\n",
      "\n",
      "['U Launcher Lite – FREE Live Cool Themes, Hide Apps', 'ART_AND_DESIGN', '4.7', '87510', '8.7M', '5,000,000+', 'Free', '0', 'Everyone', 'Art & Design', 'August 1, 2018', '1.2.4', '4.0.3 and up']\n",
      "\n",
      "\n",
      "['Sketch - Draw & Paint', 'ART_AND_DESIGN', '4.5', '215644', '25M', '50,000,000+', 'Free', '0', 'Teen', 'Art & Design', 'June 8, 2018', 'Varies with device', '4.2 and up']\n",
      "\n",
      "\n",
      "Number of rows: 9614\n",
      "Number of columns: 13\n"
     ]
    }
   ],
   "source": [
    "explore_data(android_english, 0, 3, True)"
   ]
  },
  {
   "cell_type": "code",
   "execution_count": 24,
   "metadata": {},
   "outputs": [
    {
     "name": "stdout",
     "output_type": "stream",
     "text": [
      "['284882215', 'Facebook', '389879808', 'USD', '0.0', '2974676', '212', '3.5', '3.5', '95.0', '4+', 'Social Networking', '37', '1', '29', '1']\n",
      "\n",
      "\n",
      "['389801252', 'Instagram', '113954816', 'USD', '0.0', '2161558', '1289', '4.5', '4.0', '10.23', '12+', 'Photo & Video', '37', '0', '29', '1']\n",
      "\n",
      "\n",
      "['529479190', 'Clash of Clans', '116476928', 'USD', '0.0', '2130805', '579', '4.5', '4.5', '9.24.12', '9+', 'Games', '38', '5', '18', '1']\n",
      "\n",
      "\n",
      "Number of rows: 6183\n",
      "Number of columns: 16\n"
     ]
    }
   ],
   "source": [
    "explore_data(ios_english, 0, 3, True)"
   ]
  },
  {
   "cell_type": "markdown",
   "metadata": {},
   "source": [
    "## Filtrando os apps free"
   ]
  },
  {
   "cell_type": "markdown",
   "metadata": {},
   "source": [
    "Como mencionado na introdução, o estudo será feiro com apps que são grátis para baixar e instalar. Dessa forma, filtro as listas geradas até aqui para manter apenas os app's free."
   ]
  },
  {
   "cell_type": "code",
   "execution_count": 25,
   "metadata": {},
   "outputs": [],
   "source": [
    "android_final = []\n",
    "ios_final = []\n",
    "\n",
    "for app in android_english:\n",
    "    if app[6] == 'Free':\n",
    "        android_final.append(app)\n",
    "        \n",
    "for app in ios_english:    \n",
    "    if float(app[4]) == 0:\n",
    "        ios_final.append(app)"
   ]
  },
  {
   "cell_type": "code",
   "execution_count": 26,
   "metadata": {},
   "outputs": [
    {
     "name": "stdout",
     "output_type": "stream",
     "text": [
      "['Photo Editor & Candy Camera & Grid & ScrapBook', 'ART_AND_DESIGN', '4.1', '159', '19M', '10,000+', 'Free', '0', 'Everyone', 'Art & Design', 'January 7, 2018', '1.0.0', '4.0.3 and up']\n",
      "\n",
      "\n",
      "['U Launcher Lite – FREE Live Cool Themes, Hide Apps', 'ART_AND_DESIGN', '4.7', '87510', '8.7M', '5,000,000+', 'Free', '0', 'Everyone', 'Art & Design', 'August 1, 2018', '1.2.4', '4.0.3 and up']\n",
      "\n",
      "\n",
      "['Sketch - Draw & Paint', 'ART_AND_DESIGN', '4.5', '215644', '25M', '50,000,000+', 'Free', '0', 'Teen', 'Art & Design', 'June 8, 2018', 'Varies with device', '4.2 and up']\n",
      "\n",
      "\n",
      "Number of rows: 8863\n",
      "Number of columns: 13\n"
     ]
    }
   ],
   "source": [
    "explore_data(android_final, 0, 3, True)"
   ]
  },
  {
   "cell_type": "code",
   "execution_count": 27,
   "metadata": {},
   "outputs": [
    {
     "name": "stdout",
     "output_type": "stream",
     "text": [
      "['284882215', 'Facebook', '389879808', 'USD', '0.0', '2974676', '212', '3.5', '3.5', '95.0', '4+', 'Social Networking', '37', '1', '29', '1']\n",
      "\n",
      "\n",
      "['389801252', 'Instagram', '113954816', 'USD', '0.0', '2161558', '1289', '4.5', '4.0', '10.23', '12+', 'Photo & Video', '37', '0', '29', '1']\n",
      "\n",
      "\n",
      "['529479190', 'Clash of Clans', '116476928', 'USD', '0.0', '2130805', '579', '4.5', '4.5', '9.24.12', '9+', 'Games', '38', '5', '18', '1']\n",
      "\n",
      "\n",
      "Number of rows: 3222\n",
      "Number of columns: 16\n"
     ]
    }
   ],
   "source": [
    "explore_data(ios_final, 0, 3, True)"
   ]
  },
  {
   "cell_type": "markdown",
   "metadata": {},
   "source": [
    "## Data Analysis"
   ]
  },
  {
   "cell_type": "markdown",
   "metadata": {},
   "source": [
    "O objetivo da análise é determinar que tipo de aplicativos grátis podem ser mais rentáveis.\n",
    "\n",
    "Para minimizar os riscos, a estratégia de validação consiste em 3 passos:\n",
    "\n",
    "- Desenvolver um app android e colocá-lo no Google Play\n",
    "- Se tiver uma boa resposta, continua com o desenvolvimento\n",
    "- Se o aplicativo for lucrativo depois de 6 meses, desenvolve-se uma versão iOS. Por conta disso, precisamos identificar oportunidades de desenvolvimento em apps em ambas as lojas."
   ]
  },
  {
   "cell_type": "markdown",
   "metadata": {},
   "source": [
    "### Mais populares na App Store"
   ]
  },
  {
   "cell_type": "markdown",
   "metadata": {},
   "source": [
    "Dessa forma, verificaremos os gêneros mais cadastrados em cada loja de aplicativos, começando pela App Store."
   ]
  },
  {
   "cell_type": "code",
   "execution_count": 28,
   "metadata": {},
   "outputs": [],
   "source": [
    "def freq_table(dataset, index):\n",
    "    frequency_table = {}\n",
    "    \n",
    "    for data in dataset:\n",
    "        if data[index] in frequency_table:\n",
    "            frequency_table[data[index]] += 1\n",
    "        else:\n",
    "            frequency_table[data[index]] = 1\n",
    "    \n",
    "    return frequency_table"
   ]
  },
  {
   "cell_type": "code",
   "execution_count": 29,
   "metadata": {},
   "outputs": [],
   "source": [
    "def display_table(dataset, index):\n",
    "    table = freq_table(dataset, index)\n",
    "    table_display = []\n",
    "    for key in table:\n",
    "        key_val_as_tuple = (table[key], key)\n",
    "        table_display.append(key_val_as_tuple)\n",
    "\n",
    "    table_sorted = sorted(table_display, reverse = True)\n",
    "    for entry in table_sorted:\n",
    "        print(entry[1], ':', entry[0])"
   ]
  },
  {
   "cell_type": "code",
   "execution_count": 30,
   "metadata": {},
   "outputs": [
    {
     "name": "stdout",
     "output_type": "stream",
     "text": [
      "Games : 1874\n",
      "Entertainment : 254\n",
      "Photo & Video : 160\n",
      "Education : 118\n",
      "Social Networking : 106\n",
      "Shopping : 84\n",
      "Utilities : 81\n",
      "Sports : 69\n",
      "Music : 66\n",
      "Health & Fitness : 65\n",
      "Productivity : 56\n",
      "Lifestyle : 51\n",
      "News : 43\n",
      "Travel : 40\n",
      "Finance : 36\n",
      "Weather : 28\n",
      "Food & Drink : 26\n",
      "Reference : 18\n",
      "Business : 17\n",
      "Book : 14\n",
      "Navigation : 6\n",
      "Medical : 6\n",
      "Catalogs : 4\n"
     ]
    }
   ],
   "source": [
    "# Frequency table columns : Primary Genre\n",
    "display_table(ios_final, 11) "
   ]
  },
  {
   "cell_type": "markdown",
   "metadata": {},
   "source": [
    "As 5 categorias que mais aparecem na loja da App Store são:\n",
    "\n",
    "1. Games\n",
    "2. Entertainment \n",
    "3. Photo & Video\n",
    "4. Education\n",
    "5. Social Networking \n",
    "\n",
    "A grande maioria se refere ao entretimento (Games, Entertainment e Photo & Video). Não quer dizer que essa quantidade de aplicativos possuem a mesma quantidade de usuários. Como não temos a quantidade de aplicativos instalados no dataset da App Store, analisaremos média de avaliações para cada categoria."
   ]
  },
  {
   "cell_type": "code",
   "execution_count": 31,
   "metadata": {},
   "outputs": [],
   "source": [
    "average_ratings_by_genre = {}\n",
    "\n",
    "for genre in freq_table(ios_final, 11):\n",
    "    total = 0\n",
    "    len_genre = 0\n",
    "    \n",
    "    for app in ios_final:\n",
    "        if genre == app[11]:\n",
    "            len_genre += 1\n",
    "            total += float(app[5])\n",
    "            \n",
    "    if len_genre == 0:\n",
    "        len_genre = 1\n",
    "\n",
    "    average_ratings_by_genre[genre] = total / len_genre  "
   ]
  },
  {
   "cell_type": "code",
   "execution_count": 32,
   "metadata": {},
   "outputs": [],
   "source": [
    "def display_freq_table(freq):\n",
    "    table = freq\n",
    "    table_display = []\n",
    "    for key in table:\n",
    "        key_val_as_tuple = (table[key], key)\n",
    "        table_display.append(key_val_as_tuple)\n",
    "\n",
    "    table_sorted = sorted(table_display, reverse = True)\n",
    "    for entry in table_sorted:\n",
    "        print(entry[1], ':', entry[0])"
   ]
  },
  {
   "cell_type": "code",
   "execution_count": 33,
   "metadata": {},
   "outputs": [
    {
     "name": "stdout",
     "output_type": "stream",
     "text": [
      "Navigation : 86090.33333333333\n",
      "Reference : 74942.11111111111\n",
      "Social Networking : 71548.34905660378\n",
      "Music : 57326.530303030304\n",
      "Weather : 52279.892857142855\n",
      "Book : 39758.5\n",
      "Food & Drink : 33333.92307692308\n",
      "Finance : 31467.944444444445\n",
      "Photo & Video : 28441.54375\n",
      "Travel : 28243.8\n",
      "Shopping : 26919.690476190477\n",
      "Health & Fitness : 23298.015384615384\n",
      "Sports : 23008.898550724636\n",
      "Games : 22788.6696905016\n",
      "News : 21248.023255813954\n",
      "Productivity : 21028.410714285714\n",
      "Utilities : 18684.456790123455\n",
      "Lifestyle : 16485.764705882353\n",
      "Entertainment : 14029.830708661417\n",
      "Business : 7491.117647058823\n",
      "Education : 7003.983050847458\n",
      "Catalogs : 4004.0\n",
      "Medical : 612.0\n"
     ]
    }
   ],
   "source": [
    "display_freq_table(average_ratings_by_genre)"
   ]
  },
  {
   "cell_type": "markdown",
   "metadata": {},
   "source": [
    "Os apps da categoria Navigation foram os mais avaliados. Vamos ver o por quê:"
   ]
  },
  {
   "cell_type": "code",
   "execution_count": 34,
   "metadata": {},
   "outputs": [
    {
     "name": "stdout",
     "output_type": "stream",
     "text": [
      "Waze - GPS Navigation, Maps & Real-time Traffic : 345046\n",
      "Google Maps - Navigation & Transit : 154911\n",
      "Geocaching® : 12811\n",
      "CoPilot GPS – Car Navigation & Offline Maps : 3582\n",
      "ImmobilienScout24: Real Estate Search in Germany : 187\n",
      "Railway Route Search : 5\n"
     ]
    }
   ],
   "source": [
    "for app in ios_final:\n",
    "    if app[11] == 'Navigation':\n",
    "        print(app[1], ':', app[5])"
   ]
  },
  {
   "cell_type": "markdown",
   "metadata": {},
   "source": [
    "Os apps Waze e Google Maps inflaram o número de classificações. Apresenta-se uma falsa impressão de que a categoria Navigation seja popular."
   ]
  },
  {
   "cell_type": "markdown",
   "metadata": {},
   "source": [
    "Outra categoria que apresentou um alto número de classificações foi a Reference:"
   ]
  },
  {
   "cell_type": "code",
   "execution_count": 35,
   "metadata": {},
   "outputs": [
    {
     "name": "stdout",
     "output_type": "stream",
     "text": [
      "Bible : 985920\n",
      "Dictionary.com Dictionary & Thesaurus : 200047\n",
      "Dictionary.com Dictionary & Thesaurus for iPad : 54175\n",
      "Google Translate : 26786\n",
      "Muslim Pro: Ramadan 2017 Prayer Times, Azan, Quran : 18418\n",
      "New Furniture Mods - Pocket Wiki & Game Tools for Minecraft PC Edition : 17588\n",
      "Merriam-Webster Dictionary : 16849\n",
      "Night Sky : 12122\n",
      "City Maps for Minecraft PE - The Best Maps for Minecraft Pocket Edition (MCPE) : 8535\n",
      "LUCKY BLOCK MOD ™ for Minecraft PC Edition - The Best Pocket Wiki & Mods Installer Tools : 4693\n",
      "GUNS MODS for Minecraft PC Edition - Mods Tools : 1497\n",
      "Guides for Pokémon GO - Pokemon GO News and Cheats : 826\n",
      "WWDC : 762\n",
      "Horror Maps for Minecraft PE - Download The Scariest Maps for Minecraft Pocket Edition (MCPE) Free : 718\n",
      "VPN Express : 14\n",
      "Real Bike Traffic Rider Virtual Reality Glasses : 8\n",
      "教えて!goo : 0\n",
      "Jishokun-Japanese English Dictionary & Translator : 0\n"
     ]
    }
   ],
   "source": [
    "for app in ios_final:\n",
    "    if app[11] == 'Reference':\n",
    "        print(app[1], ':', app[5])"
   ]
  },
  {
   "cell_type": "markdown",
   "metadata": {},
   "source": [
    "Os apps Bible e Dictionary.com também distorceram a categoria."
   ]
  },
  {
   "cell_type": "markdown",
   "metadata": {},
   "source": [
    "### Análise do conjunto de dados da App Store"
   ]
  },
  {
   "cell_type": "markdown",
   "metadata": {},
   "source": [
    "A categoria de Games possui muitos concorrentes no App Market, então acredito ser uma categoria difícil de entrar.\n",
    "\n",
    "As categoria Businesse e Lifestyle possuem poucos concorrentes e poucas avaliações. Por conta disso, talvez tenhamos uma oportunidade de entrar nesses ramos, já que app's desse tipo prendem a atenção do usuário e fazem com que seja mais fácil ele clicar em uma propaganda e gerar receita para a empresa."
   ]
  },
  {
   "cell_type": "markdown",
   "metadata": {},
   "source": [
    "### Mais populares na Google Play"
   ]
  },
  {
   "cell_type": "markdown",
   "metadata": {},
   "source": [
    "Verificando as categorias mais cadastradas no Google Play."
   ]
  },
  {
   "cell_type": "code",
   "execution_count": 36,
   "metadata": {
    "scrolled": true
   },
   "outputs": [
    {
     "name": "stdout",
     "output_type": "stream",
     "text": [
      "FAMILY : 1675\n",
      "GAME : 862\n",
      "TOOLS : 750\n",
      "BUSINESS : 407\n",
      "LIFESTYLE : 346\n",
      "PRODUCTIVITY : 345\n",
      "FINANCE : 328\n",
      "MEDICAL : 313\n",
      "SPORTS : 301\n",
      "PERSONALIZATION : 294\n",
      "COMMUNICATION : 287\n",
      "HEALTH_AND_FITNESS : 273\n",
      "PHOTOGRAPHY : 261\n",
      "NEWS_AND_MAGAZINES : 248\n",
      "SOCIAL : 236\n",
      "TRAVEL_AND_LOCAL : 207\n",
      "SHOPPING : 199\n",
      "BOOKS_AND_REFERENCE : 190\n",
      "DATING : 165\n",
      "VIDEO_PLAYERS : 159\n",
      "MAPS_AND_NAVIGATION : 124\n",
      "FOOD_AND_DRINK : 110\n",
      "EDUCATION : 103\n",
      "ENTERTAINMENT : 85\n",
      "LIBRARIES_AND_DEMO : 83\n",
      "AUTO_AND_VEHICLES : 82\n",
      "HOUSE_AND_HOME : 73\n",
      "WEATHER : 71\n",
      "EVENTS : 63\n",
      "PARENTING : 58\n",
      "ART_AND_DESIGN : 57\n",
      "COMICS : 55\n",
      "BEAUTY : 53\n"
     ]
    }
   ],
   "source": [
    "# Frequency table columns : Category\n",
    "display_table(android_final, 1) "
   ]
  },
  {
   "cell_type": "markdown",
   "metadata": {},
   "source": [
    "As 5 categorias que possuem mais aparecem na loja da Google Play são:\n",
    "\n",
    "1. FAMILY : 1675\n",
    "2. GAME : 862\n",
    "3. TOOLS : 750\n",
    "4. BUSINESS : 407\n",
    "5. LIFESTYLE : 346\n",
    "\n",
    "Aqui já podemos notar um comportamento um pouco mais distribuído. Apesar do entretenimento (GAME) ter uma grande quantidade, a parte de ferramentas (FAMILY, TOOLS, BUSINESS, LIFESTYLE) possui a grande maioria."
   ]
  },
  {
   "cell_type": "markdown",
   "metadata": {},
   "source": [
    "O dataset do Google Play possui uma coluna de quantidade de instalação. Ela não é precisa, pois possui categorias (100.000+) por exemplo, que pode indicar 100.000 ou 150.000. Para fins didáticos vamos utilizar a quantidade da categoria. Logo será necessário tratar as informações, removendo os caracteres '+' e ','."
   ]
  },
  {
   "cell_type": "code",
   "execution_count": 37,
   "metadata": {},
   "outputs": [],
   "source": [
    "average_installs_by_category = {}\n",
    "\n",
    "for category in freq_table(android_final, 1):\n",
    "    total = 0\n",
    "    len_category = 0\n",
    "    \n",
    "    for app in android_final:\n",
    "        if app[1] == category:\n",
    "            total += int(app[5].replace('+', '').replace(',', ''))\n",
    "            len_category += 1\n",
    "            \n",
    "    average_installs_by_category[category] = total / len_category"
   ]
  },
  {
   "cell_type": "code",
   "execution_count": 38,
   "metadata": {
    "scrolled": true
   },
   "outputs": [
    {
     "name": "stdout",
     "output_type": "stream",
     "text": [
      "COMMUNICATION : 38456119.167247385\n",
      "VIDEO_PLAYERS : 24727872.452830188\n",
      "SOCIAL : 23253652.127118643\n",
      "PHOTOGRAPHY : 17840110.40229885\n",
      "PRODUCTIVITY : 16787331.344927534\n",
      "GAME : 15588015.603248259\n",
      "TRAVEL_AND_LOCAL : 13984077.710144928\n",
      "ENTERTAINMENT : 11640705.88235294\n",
      "TOOLS : 10801391.298666667\n",
      "NEWS_AND_MAGAZINES : 9549178.467741935\n",
      "BOOKS_AND_REFERENCE : 8767811.894736841\n",
      "SHOPPING : 7036877.311557789\n",
      "PERSONALIZATION : 5201482.6122448975\n",
      "WEATHER : 5074486.197183099\n",
      "HEALTH_AND_FITNESS : 4188821.9853479853\n",
      "MAPS_AND_NAVIGATION : 4056941.7741935486\n",
      "FAMILY : 3697848.1731343283\n",
      "SPORTS : 3638640.1428571427\n",
      "ART_AND_DESIGN : 1986335.0877192982\n",
      "FOOD_AND_DRINK : 1924897.7363636363\n",
      "EDUCATION : 1833495.145631068\n",
      "BUSINESS : 1712290.1474201474\n",
      "LIFESTYLE : 1437816.2687861272\n",
      "FINANCE : 1387692.475609756\n",
      "HOUSE_AND_HOME : 1331540.5616438356\n",
      "DATING : 854028.8303030303\n",
      "COMICS : 817657.2727272727\n",
      "AUTO_AND_VEHICLES : 647317.8170731707\n",
      "LIBRARIES_AND_DEMO : 638503.734939759\n",
      "PARENTING : 542603.6206896552\n",
      "BEAUTY : 513151.88679245283\n",
      "EVENTS : 253542.22222222222\n",
      "MEDICAL : 120550.61980830671\n"
     ]
    }
   ],
   "source": [
    "display_freq_table(average_installs_by_category)"
   ]
  },
  {
   "cell_type": "markdown",
   "metadata": {},
   "source": [
    "As categorias que possuem mais instalações são:\n",
    "\n",
    "1. COMMUNICATION\n",
    "2. VIDEO_PLAYERS\n",
    "3. SOCIAL\n",
    "4. PHOTOGRAPHY\n",
    "5. PRODUCTIVITY\n",
    "\n",
    "Analisaremos mais a fundo as primeiras:"
   ]
  },
  {
   "cell_type": "code",
   "execution_count": 39,
   "metadata": {},
   "outputs": [
    {
     "name": "stdout",
     "output_type": "stream",
     "text": [
      "['WhatsApp Messenger', 'COMMUNICATION', '4.4', '69119316', 'Varies with device', '1,000,000,000+', 'Free', '0', 'Everyone', 'Communication', 'August 3, 2018', 'Varies with device', 'Varies with device']\n",
      "\n",
      "\n",
      "['Messenger for SMS', 'COMMUNICATION', '4.3', '125257', '17M', '10,000,000+', 'Free', '0', 'Teen', 'Communication', 'June 6, 2018', '1.8.9', '4.1 and up']\n",
      "\n",
      "\n",
      "['My Tele2', 'COMMUNICATION', '4.3', '158679', '8.8M', '5,000,000+', 'Free', '0', 'Everyone', 'Communication', 'August 3, 2018', '2.4.1', '4.4 and up']\n",
      "\n",
      "\n",
      "['imo beta free calls and text', 'COMMUNICATION', '4.3', '659395', '11M', '100,000,000+', 'Free', '0', 'Everyone', 'Communication', 'June 7, 2018', '9.8.000000010492', '4.0 and up']\n",
      "\n",
      "\n",
      "['Contacts', 'COMMUNICATION', '4.3', '66602', 'Varies with device', '50,000,000+', 'Free', '0', 'Everyone', 'Communication', 'June 26, 2018', '2.8.4.201036949', '5.0 and up']\n",
      "\n",
      "\n",
      "['Call Free – Free Call', 'COMMUNICATION', '4.3', '30209', '15M', '5,000,000+', 'Free', '0', 'Everyone', 'Communication', 'July 28, 2018', '1.3.4', '4.1 and up']\n",
      "\n",
      "\n",
      "['Web Browser & Explorer', 'COMMUNICATION', '4.0', '36901', '6.6M', '5,000,000+', 'Free', '0', 'Everyone', 'Communication', 'July 4, 2018', '11.8.6', '4.0.3 - 7.1.1']\n",
      "\n",
      "\n",
      "['Browser 4G', 'COMMUNICATION', '4.3', '192948', '6.6M', '10,000,000+', 'Free', '0', 'Everyone', 'Communication', 'June 19, 2018', '24.6.6', '4.0.3 - 7.1.1']\n",
      "\n",
      "\n",
      "['MegaFon Dashboard', 'COMMUNICATION', '3.7', '99559', 'Varies with device', '10,000,000+', 'Free', '0', 'Everyone', 'Communication', 'July 30, 2018', 'Varies with device', 'Varies with device']\n",
      "\n",
      "\n",
      "['ZenUI Dialer & Contacts', 'COMMUNICATION', '4.5', '437674', 'Varies with device', '10,000,000+', 'Free', '0', 'Everyone', 'Communication', 'August 1, 2018', 'Varies with device', 'Varies with device']\n",
      "\n",
      "\n",
      "['Cricket Visual Voicemail', 'COMMUNICATION', '3.9', '13698', '5.1M', '10,000,000+', 'Free', '0', 'Everyone', 'Communication', 'July 2, 2018', '3.2.0.100171', '4.1 and up']\n",
      "\n",
      "\n",
      "['TracFone My Account', 'COMMUNICATION', '3.6', '20769', '18M', '1,000,000+', 'Free', '0', 'Everyone', 'Communication', 'July 11, 2018', 'R6.0.3', '4.1 and up']\n",
      "\n",
      "\n",
      "['Xperia Link™', 'COMMUNICATION', '4.1', '45487', 'Varies with device', '10,000,000+', 'Free', '0', 'Everyone', 'Communication', 'October 27, 2016', 'Varies with device', 'Varies with device']\n",
      "\n",
      "\n",
      "['TouchPal Keyboard - Fun Emoji & Android Keyboard', 'COMMUNICATION', '4.4', '615381', '37M', '10,000,000+', 'Free', '0', 'Mature 17+', 'Communication', 'August 2, 2018', '6.7.9.1', '4.0.3 and up']\n",
      "\n",
      "\n",
      "['Skype Lite - Free Video Call & Chat', 'COMMUNICATION', '4.2', '33053', '22M', '5,000,000+', 'Free', '0', 'Everyone', 'Communication', 'July 31, 2018', '1.60.0.31354-release', '4.0.3 and up']\n",
      "\n",
      "\n",
      "['My magenta', 'COMMUNICATION', '3.9', '42370', '37M', '1,000,000+', 'Free', '0', 'Everyone', 'Communication', 'June 25, 2018', '7.5.1', '5.0 and up']\n",
      "\n",
      "\n",
      "['Android Messages', 'COMMUNICATION', '4.2', '781810', 'Varies with device', '100,000,000+', 'Free', '0', 'Everyone', 'Communication', 'August 1, 2018', 'Varies with device', 'Varies with device']\n",
      "\n",
      "\n",
      "['Google Duo - High Quality Video Calls', 'COMMUNICATION', '4.6', '2083237', 'Varies with device', '500,000,000+', 'Free', '0', 'Everyone', 'Communication', 'July 31, 2018', '37.1.206017801.DR37_RC14', '4.4 and up']\n",
      "\n",
      "\n",
      "['Seznam.cz', 'COMMUNICATION', '4.3', '46702', 'Varies with device', '1,000,000+', 'Free', '0', 'Everyone', 'Communication', 'July 4, 2018', 'Varies with device', 'Varies with device']\n",
      "\n",
      "\n",
      "['Antillean Gold Telegram (original version)', 'COMMUNICATION', '4.4', '2939', '17M', '100,000+', 'Free', '0', 'Everyone', 'Communication', 'July 16, 2018', '2.1', '4.1 and up']\n",
      "\n",
      "\n",
      "['AT&T Visual Voicemail', 'COMMUNICATION', '3.7', '13761', 'Varies with device', '10,000,000+', 'Free', '0', 'Everyone', 'Communication', 'June 27, 2018', 'Varies with device', 'Varies with device']\n",
      "\n",
      "\n",
      "['GMX Mail', 'COMMUNICATION', '4.3', '258556', 'Varies with device', '10,000,000+', 'Free', '0', 'Everyone', 'Communication', 'July 25, 2018', 'Varies with device', 'Varies with device']\n",
      "\n",
      "\n",
      "['Omlet Chat', 'COMMUNICATION', '3.9', '40751', '35M', '10,000,000+', 'Free', '0', 'Teen', 'Communication', 'November 4, 2016', '2.2.7600', '4.0.3 and up']\n",
      "\n",
      "\n",
      "['My Vodacom SA', 'COMMUNICATION', '3.7', '25021', '61M', '5,000,000+', 'Free', '0', 'Everyone', 'Communication', 'June 26, 2018', '9.9.0', '4.3 and up']\n",
      "\n",
      "\n",
      "['Microsoft Edge', 'COMMUNICATION', '4.3', '27187', '66M', '5,000,000+', 'Free', '0', 'Everyone', 'Communication', 'July 28, 2018', '42.0.0.2059', '4.4 and up']\n",
      "\n",
      "\n",
      "['Messenger – Text and Video Chat for Free', 'COMMUNICATION', '4.0', '56646578', 'Varies with device', '1,000,000,000+', 'Free', '0', 'Everyone', 'Communication', 'August 1, 2018', 'Varies with device', 'Varies with device']\n",
      "\n",
      "\n",
      "['imo free video calls and chat', 'COMMUNICATION', '4.3', '4785988', '11M', '500,000,000+', 'Free', '0', 'Everyone', 'Communication', 'June 8, 2018', '9.8.000000010501', '4.0 and up']\n",
      "\n",
      "\n",
      "['Calls & Text by Mo+', 'COMMUNICATION', '4.2', '83239', '14M', '5,000,000+', 'Free', '0', 'Everyone', 'Communication', 'April 19, 2018', '3.0.4', '4.0 and up']\n",
      "\n",
      "\n",
      "['free video calls and chat', 'COMMUNICATION', '4.2', '594728', 'Varies with device', '50,000,000+', 'Free', '0', 'Everyone', 'Communication', 'July 19, 2018', '7.3(800241)', '4.4 and up']\n",
      "\n",
      "\n",
      "['Skype - free IM & video calls', 'COMMUNICATION', '4.1', '10484169', 'Varies with device', '1,000,000,000+', 'Free', '0', 'Everyone', 'Communication', 'August 3, 2018', 'Varies with device', 'Varies with device']\n",
      "\n",
      "\n",
      "['Who', 'COMMUNICATION', '4.3', '2451093', 'Varies with device', '100,000,000+', 'Free', '0', 'Teen', 'Communication', 'August 3, 2018', 'Varies with device', 'Varies with device']\n",
      "\n",
      "\n",
      "['GO SMS Pro - Messenger, Free Themes, Emoji', 'COMMUNICATION', '4.4', '2876500', '24M', '100,000,000+', 'Free', '0', 'Everyone', 'Communication', 'August 1, 2018', '7.73', '4.0 and up']\n",
      "\n",
      "\n",
      "['Messaging+ SMS, MMS Free', 'COMMUNICATION', '4.1', '28238', '17M', '1,000,000+', 'Free', '0', 'Everyone', 'Communication', 'August 2, 2018', '4.98', '2.3 and up']\n",
      "\n",
      "\n",
      "['chomp SMS', 'COMMUNICATION', '4.3', '335646', '8.3M', '10,000,000+', 'Free', '0', 'Everyone', 'Communication', 'July 26, 2018', '7.21', '2.3 and up']\n",
      "\n",
      "\n",
      "['Glide - Video Chat Messenger', 'COMMUNICATION', '4.3', '350154', 'Varies with device', '10,000,000+', 'Free', '0', 'Everyone', 'Communication', 'July 29, 2018', 'Varies with device', 'Varies with device']\n",
      "\n",
      "\n",
      "['Text SMS', 'COMMUNICATION', '4.5', '349384', '8.2M', '10,000,000+', 'Free', '0', 'Everyone', 'Communication', 'July 24, 2018', '3.47', '4.0.3 and up']\n",
      "\n",
      "\n",
      "['Talkray - Free Calls & Texts', 'COMMUNICATION', '4.2', '244863', 'Varies with device', '10,000,000+', 'Free', '0', 'Everyone', 'Communication', 'May 29, 2018', 'Varies with device', 'Varies with device']\n",
      "\n",
      "\n",
      "['LINE: Free Calls & Messages', 'COMMUNICATION', '4.2', '10790289', 'Varies with device', '500,000,000+', 'Free', '0', 'Everyone', 'Communication', 'July 26, 2018', 'Varies with device', 'Varies with device']\n",
      "\n",
      "\n",
      "['GroupMe', 'COMMUNICATION', '4.5', '330761', 'Varies with device', '10,000,000+', 'Free', '0', 'Everyone', 'Communication', 'July 3, 2018', 'Varies with device', 'Varies with device']\n",
      "\n",
      "\n",
      "['mysms SMS Text Messaging Sync', 'COMMUNICATION', '4.3', '37320', '8.4M', '1,000,000+', 'Free', '0', 'Everyone', 'Communication', 'July 30, 2018', '6.5.1', '4.0.3 and up']\n",
      "\n",
      "\n",
      "['2ndLine - Second Phone Number', 'COMMUNICATION', '4.2', '15880', '32M', '1,000,000+', 'Free', '0', 'Everyone', 'Communication', 'August 3, 2018', '5.65.0', '4.0 and up']\n",
      "\n",
      "\n",
      "['Google Chrome: Fast & Secure', 'COMMUNICATION', '4.3', '9643041', 'Varies with device', '1,000,000,000+', 'Free', '0', 'Everyone', 'Communication', 'August 1, 2018', 'Varies with device', 'Varies with device']\n",
      "\n",
      "\n",
      "['Firefox Browser fast & private', 'COMMUNICATION', '4.4', '3075118', 'Varies with device', '100,000,000+', 'Free', '0', 'Everyone', 'Communication', 'July 10, 2018', 'Varies with device', 'Varies with device']\n",
      "\n",
      "\n",
      "['Ninesky Browser', 'COMMUNICATION', '4.2', '42925', '2.8M', '1,000,000+', 'Free', '0', 'Everyone', 'Communication', 'August 27, 2017', '6.1', '2.3 and up']\n",
      "\n",
      "\n",
      "['Dolphin Browser - Fast, Private & Adblock🐬', 'COMMUNICATION', '4.5', '2511130', 'Varies with device', '50,000,000+', 'Free', '0', 'Everyone', 'Communication', 'July 2, 2018', 'Varies with device', 'Varies with device']\n",
      "\n",
      "\n",
      "['UC Browser - Fast Download Private & Secure', 'COMMUNICATION', '4.5', '17714850', '40M', '500,000,000+', 'Free', '0', 'Teen', 'Communication', 'August 2, 2018', '12.8.5.1121', '4.0 and up']\n",
      "\n",
      "\n",
      "['Ghostery Privacy Browser', 'COMMUNICATION', '4.1', '13100', '2.2M', '1,000,000+', 'Free', '0', 'Everyone', 'Communication', 'March 20, 2018', '1.4.1.0', '4.0.3 and up']\n",
      "\n",
      "\n",
      "['InBrowser - Incognito Browsing', 'COMMUNICATION', '4.2', '27156', 'Varies with device', '1,000,000+', 'Free', '0', 'Everyone', 'Communication', 'May 31, 2018', 'Varies with device', 'Varies with device']\n",
      "\n",
      "\n",
      "['Lightning Web Browser', 'COMMUNICATION', '4.1', '12578', '2.3M', '500,000+', 'Free', '0', 'Everyone', 'Communication', 'July 10, 2017', '4.5.1', '4.0 and up']\n",
      "\n",
      "\n",
      "['Web Browser', 'COMMUNICATION', '4.2', '10965', '2.3M', '500,000+', 'Free', '0', 'Everyone', 'Communication', 'February 2, 2015', '2.0', '3.0 and up']\n",
      "\n",
      "\n",
      "['Contacts+', 'COMMUNICATION', '4.2', '190613', '11M', '10,000,000+', 'Free', '0', 'Everyone', 'Communication', 'July 31, 2018', '5.85.1', '4.0.3 and up']\n",
      "\n",
      "\n",
      "['ExDialer - Dialer & Contacts', 'COMMUNICATION', '4.2', '125232', '2.7M', '10,000,000+', 'Free', '0', 'Everyone', 'Communication', 'March 5, 2017', '196', '2.1 and up']\n",
      "\n",
      "\n",
      "['PHONE for Google Voice & GTalk', 'COMMUNICATION', '4.3', '72065', '13M', '1,000,000+', 'Free', '0', 'Everyone', 'Communication', 'April 18, 2018', '3.0.7', '4.0 and up']\n",
      "\n",
      "\n",
      "['Safest Call Blocker', 'COMMUNICATION', '4.4', '27540', '3.7M', '1,000,000+', 'Free', '0', 'Everyone', 'Communication', 'January 5, 2018', '1.26.001', '4.0 and up']\n",
      "\n",
      "\n",
      "['Full Screen Caller ID', 'COMMUNICATION', '4.2', '104990', '10M', '5,000,000+', 'Free', '0', 'Everyone', 'Communication', 'May 15, 2018', '3.5.0', '4.0.3 and up']\n",
      "\n",
      "\n",
      "['Hiya - Caller ID & Block', 'COMMUNICATION', '4.4', '177703', '13M', '10,000,000+', 'Free', '0', 'Mature 17+', 'Communication', 'July 25, 2018', '8.1.2-6310', '5.0 and up']\n",
      "\n",
      "\n",
      "['Mr. Number-Block calls & spam', 'COMMUNICATION', '4.2', '177263', '13M', '10,000,000+', 'Free', '0', 'Mature 17+', 'Communication', 'July 13, 2018', '5.1.2-6310', '5.0 and up']\n",
      "\n",
      "\n",
      "['Should I Answer?', 'COMMUNICATION', '4.8', '237468', '8.8M', '1,000,000+', 'Free', '0', 'Everyone', 'Communication', 'July 26, 2018', '2018.1.715', '4.0 and up']\n",
      "\n",
      "\n",
      "['RocketDial Dialer & Contacts', 'COMMUNICATION', '4.4', '32254', '5.5M', '1,000,000+', 'Free', '0', 'Everyone', 'Communication', 'December 4, 2017', '3.9.7', '2.1 and up']\n",
      "\n",
      "\n",
      "['CIA - Caller ID & Call Blocker', 'COMMUNICATION', '4.0', '60308', 'Varies with device', '5,000,000+', 'Free', '0', 'Everyone', 'Communication', 'June 22, 2018', 'Varies with device', 'Varies with device']\n",
      "\n",
      "\n",
      "['Calls Blacklist - Call Blocker', 'COMMUNICATION', '4.5', '457283', 'Varies with device', '10,000,000+', 'Free', '0', 'Everyone', 'Communication', 'May 24, 2018', 'Varies with device', 'Varies with device']\n",
      "\n",
      "\n",
      "['Call Control - Call Blocker', 'COMMUNICATION', '4.4', '93825', '11M', '5,000,000+', 'Free', '0', 'Everyone', 'Communication', 'July 5, 2018', '2.17.3', '4.1 and up']\n",
      "\n",
      "\n",
      "['True Contact - Real Caller ID', 'COMMUNICATION', '4.1', '32283', 'Varies with device', '1,000,000+', 'Free', '0', 'Everyone', 'Communication', 'July 26, 2018', 'Varies with device', 'Varies with device']\n",
      "\n",
      "\n",
      "['Video Caller Id', 'COMMUNICATION', '4.2', '15287', '17M', '1,000,000+', 'Free', '0', 'Everyone', 'Communication', 'January 24, 2018', '2.2.245', '4.0.3 and up']\n",
      "\n",
      "\n",
      "['Sync.ME – Caller ID & Block', 'COMMUNICATION', '4.5', '205739', '17M', '5,000,000+', 'Free', '0', 'Everyone', 'Communication', 'July 26, 2018', '4.5.4', '4.1 and up']\n",
      "\n",
      "\n",
      "['Burner - Free Phone Number', 'COMMUNICATION', '4.3', '14873', 'Varies with device', '1,000,000+', 'Free', '0', 'Everyone', 'Communication', 'July 12, 2018', 'Varies with device', 'Varies with device']\n",
      "\n",
      "\n",
      "['Caller ID +', 'COMMUNICATION', '4.0', '9498', '118k', '1,000,000+', 'Free', '0', 'Everyone', 'Communication', 'June 7, 2016', '5.28.0', '2.3 and up']\n",
      "\n",
      "\n",
      "['Gmail', 'COMMUNICATION', '4.3', '4604483', 'Varies with device', '1,000,000,000+', 'Free', '0', 'Everyone', 'Communication', 'August 2, 2018', 'Varies with device', 'Varies with device']\n",
      "\n",
      "\n",
      "['K-9 Mail', 'COMMUNICATION', '4.2', '88427', '5.1M', '5,000,000+', 'Free', '0', 'Everyone', 'Communication', 'January 6, 2018', '5.403', '4.0.3 and up']\n",
      "\n",
      "\n",
      "['myMail – Email for Hotmail, Gmail and Outlook Mail', 'COMMUNICATION', '4.5', '305218', 'Varies with device', '10,000,000+', 'Free', '0', 'Everyone', 'Communication', 'August 3, 2018', 'Varies with device', 'Varies with device']\n",
      "\n",
      "\n",
      "['Email TypeApp - Mail App', 'COMMUNICATION', '4.6', '183374', '44M', '1,000,000+', 'Free', '0', 'Everyone', 'Communication', 'August 1, 2018', '1.9.4.74', '4.1 and up']\n",
      "\n",
      "\n",
      "['All Email Providers', 'COMMUNICATION', '4.1', '20901', '7.3M', '1,000,000+', 'Free', '0', 'Everyone', 'Communication', 'April 3, 2018', '5.0.9', '4.1 and up']\n",
      "\n",
      "\n",
      "['Newton Mail - Email App for Gmail, Outlook, IMAP', 'COMMUNICATION', '4.0', '122595', '30M', '1,000,000+', 'Free', '0', 'Everyone', 'Communication', 'July 19, 2018', '9.8.376', '5.0 and up']\n",
      "\n",
      "\n",
      "['GO Notifier', 'COMMUNICATION', '4.2', '124346', '695k', '10,000,000+', 'Free', '0', 'Everyone', 'Communication', 'July 6, 2014', '2.8', '2.0 and up']\n",
      "\n",
      "\n",
      "['Mail.Ru - Email App', 'COMMUNICATION', '4.6', '837842', 'Varies with device', '50,000,000+', 'Free', '0', 'Everyone', 'Communication', 'August 3, 2018', 'Varies with device', 'Varies with device']\n",
      "\n",
      "\n",
      "['Mail1Click - Secure Mail', 'COMMUNICATION', '4.1', '255', '1.6M', '10,000+', 'Free', '0', 'Everyone', 'Communication', 'April 11, 2017', '2.3', '2.2 and up']\n",
      "\n",
      "\n",
      "['Daum Mail - Next Mail', 'COMMUNICATION', '4.3', '41420', '19M', '5,000,000+', 'Free', '0', 'Everyone', 'Communication', 'June 21, 2018', '3.2.0', '4.0 and up']\n",
      "\n",
      "\n",
      "['mail.com mail', 'COMMUNICATION', '4.2', '44706', 'Varies with device', '1,000,000+', 'Free', '0', 'Everyone', 'Communication', 'July 25, 2018', 'Varies with device', 'Varies with device']\n",
      "\n",
      "\n",
      "['SolMail - All-in-One email app', 'COMMUNICATION', '4.3', '23707', 'Varies with device', '500,000+', 'Free', '0', 'Everyone', 'Communication', 'August 9, 2017', '2.3.17', 'Varies with device']\n",
      "\n",
      "\n",
      "['Hangouts', 'COMMUNICATION', '4.0', '3419513', 'Varies with device', '1,000,000,000+', 'Free', '0', 'Everyone', 'Communication', 'July 21, 2018', 'Varies with device', 'Varies with device']\n",
      "\n",
      "\n",
      "['Vonage Mobile® Call Video Text', 'COMMUNICATION', '4.1', '29208', '23M', '1,000,000+', 'Free', '0', 'Everyone', 'Communication', 'September 28, 2016', '2.9.8', '2.3.3 and up']\n",
      "\n",
      "\n",
      "['JusTalk - Free Video Calls and Fun Video Chat', 'COMMUNICATION', '4.6', '191032', '26M', '5,000,000+', 'Free', '0', 'Everyone', 'Communication', 'August 4, 2018', '7.2.29', '4.0.3 and up']\n",
      "\n",
      "\n",
      "['Azar', 'COMMUNICATION', '4.2', '1092337', 'Varies with device', '50,000,000+', 'Free', '0', 'Mature 17+', 'Communication', 'July 24, 2018', 'Varies with device', 'Varies with device']\n",
      "\n",
      "\n",
      "['LokLok: Draw on a Lock Screen', 'COMMUNICATION', '4.1', '14766', '16M', '500,000+', 'Free', '0', 'Teen', 'Communication', 'September 20, 2017', '0.81 beta', '4.0.3 and up']\n",
      "\n",
      "\n",
      "['Discord - Chat for Gamers', 'COMMUNICATION', '4.5', '305347', '39M', '10,000,000+', 'Free', '0', 'Teen', 'Communication', 'July 27, 2018', '7.1.8', '4.1 and up']\n",
      "\n",
      "\n",
      "['Messenger Lite: Free Calls & Messages', 'COMMUNICATION', '4.4', '1429038', 'Varies with device', '100,000,000+', 'Free', '0', 'Everyone', 'Communication', 'July 25, 2018', '37.0.0.7.163', '2.3 and up']\n",
      "\n",
      "\n",
      "['AntennaPict β', 'COMMUNICATION', '4.3', '15439', '2.2M', '1,000,000+', 'Free', '0', 'Everyone', 'Communication', 'November 7, 2016', '2.0.0', '2.3 and up']\n",
      "\n",
      "\n",
      "['Talkatone: Free Texts, Calls & Phone Number', 'COMMUNICATION', '4.1', '132015', '25M', '10,000,000+', 'Free', '0', 'Everyone', 'Communication', 'July 18, 2018', '6.1', '4.2 and up']\n",
      "\n",
      "\n",
      "['Kik', 'COMMUNICATION', '4.3', '2451136', 'Varies with device', '100,000,000+', 'Free', '0', 'Teen', 'Communication', 'August 3, 2018', 'Varies with device', 'Varies with device']\n",
      "\n",
      "\n",
      "['K-@ Mail - Email App', 'COMMUNICATION', '4.1', '1760', 'Varies with device', '100,000+', 'Free', '0', 'Everyone', 'Communication', 'July 23, 2016', 'Varies with device', 'Varies with device']\n",
      "\n",
      "\n",
      "['KakaoTalk: Free Calls & Text', 'COMMUNICATION', '4.3', '2546549', 'Varies with device', '100,000,000+', 'Free', '0', 'Everyone', 'Communication', 'August 3, 2018', 'Varies with device', 'Varies with device']\n",
      "\n",
      "\n",
      "['K-9 Material (unofficial)', 'COMMUNICATION', '4.4', '64', '4.5M', '5,000+', 'Free', '0', 'Teen', 'Communication', 'March 27, 2017', '5.206', '5.0 and up']\n",
      "\n",
      "\n",
      "['M star Dialer', 'COMMUNICATION', '3.5', '400', '4.2M', '100,000+', 'Free', '0', 'Everyone', 'Communication', 'March 20, 2017', '3.8.8', '2.2 and up']\n",
      "\n",
      "\n",
      "['Free WiFi Connect', 'COMMUNICATION', '3.9', '167229', '9.7M', '10,000,000+', 'Free', '0', 'Everyone', 'Communication', 'March 31, 2018', '8.1', '4.1 and up']\n",
      "\n",
      "\n",
      "['m:go BiH', 'COMMUNICATION', '3.2', '559', '6.0M', '10,000+', 'Free', '0', 'Everyone', 'Communication', 'July 25, 2018', '3.4', '3.0 and up']\n",
      "\n",
      "\n",
      "['N-Com Wizard', 'COMMUNICATION', '3.3', '960', '3.8M', '50,000+', 'Free', '0', 'Everyone', 'Communication', 'September 21, 2017', '2.1.2', '2.3.3 and up']\n",
      "\n",
      "\n",
      "['Opera Mini - fast web browser', 'COMMUNICATION', '4.5', '5150801', 'Varies with device', '100,000,000+', 'Free', '0', 'Everyone', 'Communication', 'July 19, 2018', 'Varies with device', 'Varies with device']\n",
      "\n",
      "\n",
      "['Opera Browser: Fast and Secure', 'COMMUNICATION', '4.4', '2473795', 'Varies with device', '100,000,000+', 'Free', '0', 'Everyone', 'Communication', 'July 31, 2018', '47.1.2249.129326', 'Varies with device']\n",
      "\n",
      "\n",
      "['Opera Mini browser beta', 'COMMUNICATION', '4.4', '401530', 'Varies with device', '10,000,000+', 'Free', '0', 'Everyone', 'Communication', 'August 3, 2018', 'Varies with device', 'Varies with device']\n",
      "\n",
      "\n",
      "['Psiphon Pro - The Internet Freedom VPN', 'COMMUNICATION', '4.3', '298041', 'Varies with device', '10,000,000+', 'Free', '0', 'Everyone', 'Communication', 'July 3, 2018', 'Varies with device', 'Varies with device']\n",
      "\n",
      "\n",
      "['ICQ — Video Calls & Chat Messenger', 'COMMUNICATION', '4.4', '697939', 'Varies with device', '10,000,000+', 'Free', '0', 'Everyone', 'Communication', 'July 18, 2018', '7.3(823181)', '4.4 and up']\n",
      "\n",
      "\n",
      "['Telegram', 'COMMUNICATION', '4.4', '3128611', 'Varies with device', '100,000,000+', 'Free', '0', 'Mature 17+', 'Communication', 'July 27, 2018', 'Varies with device', 'Varies with device']\n",
      "\n",
      "\n",
      "['AT&T Messages for Tablet', 'COMMUNICATION', '3.3', '3044', 'Varies with device', '1,000,000+', 'Free', '0', 'Everyone', 'Communication', 'April 3, 2017', 'Varies with device', 'Varies with device']\n",
      "\n",
      "\n",
      "['T-Mobile DIGITS', 'COMMUNICATION', '3.0', '1820', '33M', '100,000+', 'Free', '0', 'Everyone', 'Communication', 'February 15, 2018', '1.1.50', '4.4 and up']\n",
      "\n",
      "\n",
      "['Truecaller: Caller ID, SMS spam blocking & Dialer', 'COMMUNICATION', '4.5', '7820775', 'Varies with device', '100,000,000+', 'Free', '0', 'Everyone', 'Communication', 'August 1, 2018', 'Varies with device', 'Varies with device']\n",
      "\n",
      "\n",
      "['Portable Wi-Fi hotspot', 'COMMUNICATION', '3.9', '138129', '2.1M', '10,000,000+', 'Free', '0', 'Everyone', 'Communication', 'May 6, 2018', '1.5.2.4-23', '2.3 and up']\n",
      "\n",
      "\n",
      "['AT&T Call Protect', 'COMMUNICATION', '4.2', '6454', '15M', '5,000,000+', 'Free', '0', 'Everyone', 'Communication', 'May 3, 2018', '1.5.13-3598', '5.0 and up']\n",
      "\n",
      "\n",
      "['U - Webinars, Meetings & Messenger', 'COMMUNICATION', '4.1', '6601', '31M', '500,000+', 'Free', '0', 'Everyone', 'Communication', 'July 2, 2018', '4.7.0', '4.1 and up']\n",
      "\n",
      "\n",
      "['UC Browser Mini -Tiny Fast Private & Secure', 'COMMUNICATION', '4.4', '3648765', '3.3M', '100,000,000+', 'Free', '0', 'Teen', 'Communication', 'July 18, 2018', '11.4.0', '4.0 and up']\n",
      "\n",
      "\n",
      "['/u/app', 'COMMUNICATION', '4.7', '573', '53M', '10,000+', 'Free', '0', 'Mature 17+', 'Communication', 'July 3, 2018', '4.2.4', '4.1 and up']\n",
      "\n",
      "\n",
      "['[verify-U] VideoIdent', 'COMMUNICATION', '2.9', '83', '13M', '10,000+', 'Free', '0', 'Everyone', 'Communication', 'April 26, 2018', '2.4.0', '5.0 and up']\n",
      "\n",
      "\n",
      "['Viber Messenger', 'COMMUNICATION', '4.3', '11335481', 'Varies with device', '500,000,000+', 'Free', '0', 'Everyone', 'Communication', 'July 18, 2018', 'Varies with device', 'Varies with device']\n",
      "\n",
      "\n",
      "['WeChat', 'COMMUNICATION', '4.2', '5387631', 'Varies with device', '100,000,000+', 'Free', '0', 'Everyone', 'Communication', 'July 31, 2018', 'Varies with device', 'Varies with device']\n",
      "\n",
      "\n",
      "['WhatsApp Business', 'COMMUNICATION', '4.4', '137144', '32M', '10,000,000+', 'Free', '0', 'Everyone', 'Communication', 'July 30, 2018', '2.18.116', '4.0.3 and up']\n",
      "\n",
      "\n",
      "['WhatsCall Free Global Phone Call App & Cheap Calls', 'COMMUNICATION', '4.6', '1130966', '27M', '10,000,000+', 'Free', '0', 'Everyone', 'Communication', 'June 6, 2018', '1.9.1.013', '4.0 and up']\n",
      "\n",
      "\n",
      "['X Browser', 'COMMUNICATION', '4.0', '142', '2.5M', '50,000+', 'Free', '0', 'Everyone', 'Communication', 'December 31, 2017', '1.1.1', '4.0 and up']\n",
      "\n",
      "\n",
      "['Yahoo Mail – Stay Organized', 'COMMUNICATION', '4.3', '4188345', '16M', '100,000,000+', 'Free', '0', 'Everyone', 'Communication', 'July 18, 2018', '5.29.3', '4.4 and up']\n",
      "\n",
      "\n",
      "['Free Adblocker Browser - Adblock & Popup Blocker', 'COMMUNICATION', '4.4', '152470', 'Varies with device', '10,000,000+', 'Free', '0', 'Everyone', 'Communication', 'July 19, 2018', 'Varies with device', 'Varies with device']\n",
      "\n",
      "\n",
      "['Adblock Browser for Android', 'COMMUNICATION', '4.1', '121113', '39M', '10,000,000+', 'Free', '0', 'Everyone', 'Communication', 'July 11, 2018', '1.4.0', '4.1 and up']\n",
      "\n",
      "\n",
      "['CM Browser - Ad Blocker , Fast Download , Privacy', 'COMMUNICATION', '4.6', '2265084', '6.1M', '50,000,000+', 'Free', '0', 'Everyone', 'Communication', 'July 31, 2018', '5.22.18.0006', '4.0 and up']\n",
      "\n",
      "\n",
      "['Adblock Plus for Samsung Internet - Browse safe.', 'COMMUNICATION', '4.0', '8769', '2.1M', '1,000,000+', 'Free', '0', 'Everyone', 'Communication', 'April 5, 2018', '1.1.4', '5.0 and up']\n",
      "\n",
      "\n",
      "['Ad Blocker Turbo - Adblocker Browser', 'COMMUNICATION', '3.9', '107', '44M', '10,000+', 'Free', '0', 'Everyone', 'Communication', 'January 29, 2018', '1.0.5', '4.1 and up']\n",
      "\n",
      "\n",
      "['Brave Browser: Fast AdBlocker', 'COMMUNICATION', '4.3', '40241', 'Varies with device', '5,000,000+', 'Free', '0', 'Everyone', 'Communication', 'June 30, 2018', '1.0.52', '4.1 and up']\n",
      "\n",
      "\n",
      "['AG Contacts, Lite edition', 'COMMUNICATION', '4.5', '185', '3.7M', '5,000+', 'Free', '0', 'Everyone', 'Communication', 'May 18, 2018', '8.05.18.14250', '4.0.3 and up']\n",
      "\n",
      "\n",
      "['Oklahoma Ag Co-op Council', 'COMMUNICATION', 'NaN', '0', '4.9M', '10+', 'Free', '0', 'Everyone', 'Communication', 'July 23, 2018', '2.2.3', '4.0.3 and up']\n",
      "\n",
      "\n",
      "[\"Bee'ah Employee App\", 'COMMUNICATION', '4.0', '4', '5.4M', '100+', 'Free', '0', 'Teen', 'Communication', 'December 24, 2017', '2.26.5.0', '5.0 and up']\n",
      "\n",
      "\n",
      "['tournaments and more.aj.2', 'COMMUNICATION', 'NaN', '0', '4.2M', '100+', 'Free', '0', 'Teen', 'Communication', 'September 25, 2017', '4.3', '2.3 and up']\n",
      "\n",
      "\n",
      "['Aj.Petra', 'COMMUNICATION', 'NaN', '5', '14M', '100+', 'Free', '0', 'Everyone', 'Communication', 'September 29, 2017', '1.0.1', '4.1 and up']\n",
      "\n",
      "\n",
      "['AK Phone', 'COMMUNICATION', '4.4', '9', '4.2M', '5,000+', 'Free', '0', 'Everyone', 'Communication', 'May 29, 2017', '3.8.8', '2.2 and up']\n",
      "\n",
      "\n",
      "['PlacarTv Futebol Ao Vivo', 'COMMUNICATION', '4.1', '2063', '4.5M', '100,000+', 'Free', '0', 'Everyone', 'Communication', 'June 3, 2018', '1.0.3', '4.0 and up']\n",
      "\n",
      "\n",
      "['WiFi Access Point (hotspot)', 'COMMUNICATION', '3.9', '684', '61k', '100,000+', 'Free', '0', 'Everyone', 'Communication', 'May 14, 2015', '1.1.2', '2.3 and up']\n",
      "\n",
      "\n",
      "['Access Point Names', 'COMMUNICATION', '4.0', '138', '2.4M', '10,000+', 'Free', '0', 'Everyone', 'Communication', 'August 12, 2014', '1.0', '2.3.3 and up']\n",
      "\n",
      "\n",
      "['Puffin Web Browser', 'COMMUNICATION', '4.3', '541661', 'Varies with device', '10,000,000+', 'Free', '0', 'Everyone', 'Communication', 'July 9, 2018', '7.5.3.20547', '4.1 and up']\n",
      "\n",
      "\n",
      "['ClanHQ', 'COMMUNICATION', '2.7', '560', '37M', '10,000+', 'Free', '0', 'Everyone', 'Communication', 'July 25, 2018', '1.0.21', '4.4 and up']\n",
      "\n",
      "\n",
      "['Ear Agent: Super Hearing', 'COMMUNICATION', '3.7', '42329', 'Varies with device', '5,000,000+', 'Free', '0', 'Everyone', 'Communication', 'June 4, 2018', 'Varies with device', 'Varies with device']\n",
      "\n",
      "\n",
      "['Google Voice', 'COMMUNICATION', '4.2', '171052', 'Varies with device', '10,000,000+', 'Free', '0', 'Everyone', 'Communication', 'August 3, 2018', 'Varies with device', 'Varies with device']\n",
      "\n",
      "\n",
      "['Google Allo', 'COMMUNICATION', '4.3', '347086', 'Varies with device', '10,000,000+', 'Free', '0', 'Everyone', 'Communication', 'January 23, 2018', 'Varies with device', '4.1 and up']\n",
      "\n",
      "\n",
      "['AU Call Blocker - Block Unwanted Calls Texts 2018', 'COMMUNICATION', '4.2', '16', '3.3M', '1,000+', 'Free', '0', 'Everyone', 'Communication', 'April 24, 2018', '1.0.4', '4.1 and up']\n",
      "\n",
      "\n",
      "['Baby Monitor AV', 'COMMUNICATION', '3.3', '1434', '9.5M', '100,000+', 'Free', '0', 'Everyone', 'Communication', 'March 6, 2014', '1.2.5', '2.3 and up']\n",
      "\n",
      "\n",
      "['AV Phone', 'COMMUNICATION', 'NaN', '4', '3.7M', '1,000+', 'Free', '0', 'Everyone', 'Communication', 'July 9, 2018', '2.1.9', '5.1 and up']\n",
      "\n",
      "\n",
      "['AW - free video calls and chat', 'COMMUNICATION', '4.0', '7317', 'Varies with device', '1,000,000+', 'Free', '0', 'Teen', 'Communication', 'July 4, 2018', '1.0.08.73', '4.0.3 and up']\n",
      "\n",
      "\n",
      "['Katalogen.ax', 'COMMUNICATION', 'NaN', '1', '172k', '100+', 'Free', '0', 'Everyone', 'Communication', 'October 2, 2014', '1.0.0', '2.2 and up']\n",
      "\n",
      "\n",
      "['AZ Browser. Private & Download', 'COMMUNICATION', '4.4', '1520', '5.2M', '100,000+', 'Free', '0', 'Everyone', 'Communication', 'December 31, 2016', '1.4', '4.4 and up']\n",
      "\n",
      "\n",
      "['BA SALES', 'COMMUNICATION', 'NaN', '0', '2.9M', '1+', 'Free', '0', 'Everyone', 'Communication', 'January 31, 2018', '1.0', '4.0.3 and up']\n",
      "\n",
      "\n",
      "['BD Data Plan (3G & 4G)', 'COMMUNICATION', '4.4', '10341', '6.9M', '500,000+', 'Free', '0', 'Everyone', 'Communication', 'July 5, 2018', '5.2.4', '4.1 and up']\n",
      "\n",
      "\n",
      "['BD Internet Packages (Updated)', 'COMMUNICATION', '4.0', '474', '3.0M', '50,000+', 'Free', '0', 'Everyone', 'Communication', 'August 5, 2016', '0.0.5', '4.0 and up']\n",
      "\n",
      "\n",
      "['BD Dialer', 'COMMUNICATION', '4.1', '29', '13M', '10,000+', 'Free', '0', 'Everyone', 'Communication', 'July 9, 2018', '1.8.3', '4.1 and up']\n",
      "\n",
      "\n",
      "['BD Live Call', 'COMMUNICATION', '4.4', '7', '308k', '5,000+', 'Free', '0', 'Everyone', 'Communication', 'September 6, 2016', '1.01', '2.0 and up']\n",
      "\n",
      "\n",
      "['Best Browser BD social networking', 'COMMUNICATION', '4.8', '6', '21M', '10+', 'Free', '0', 'Everyone', 'Communication', 'July 4, 2018', '2.0', '4.1 and up']\n",
      "\n",
      "\n",
      "['Traffic signs BD', 'COMMUNICATION', '4.4', '7', '5.3M', '500+', 'Free', '0', 'Everyone', 'Communication', 'October 8, 2015', '1.0', '4.1 and up']\n",
      "\n",
      "\n",
      "['BF Browser by Betfilter - Stop Gambling Today!', 'COMMUNICATION', '3.0', '39', '4.6M', '10,000+', 'Free', '0', 'Everyone', 'Communication', 'September 4, 2017', '1.4', '4.0.3 and up']\n",
      "\n",
      "\n",
      "['My BF App', 'COMMUNICATION', '4.1', '141', '9.9M', '50,000+', 'Free', '0', 'Everyone', 'Communication', 'December 19, 2017', '2.0', '4.0 and up']\n",
      "\n",
      "\n",
      "['BH Mail', 'COMMUNICATION', '3.4', '7', '6.0M', '1,000+', 'Free', '0', 'Everyone', 'Communication', 'April 3, 2018', '5.403', '4.0.3 and up']\n",
      "\n",
      "\n",
      "['Zalo – Video Call', 'COMMUNICATION', '4.2', '1042170', 'Varies with device', '50,000,000+', 'Free', '0', 'Everyone', 'Communication', 'July 27, 2018', 'Varies with device', 'Varies with device']\n",
      "\n",
      "\n",
      "['BJ - Confidential', 'COMMUNICATION', 'NaN', '0', '3.2M', '10+', 'Free', '0', 'Teen', 'Communication', 'April 23, 2018', '1.7', '4.1 and up']\n",
      "\n",
      "\n",
      "['BK Chat', 'COMMUNICATION', 'NaN', '6', '31M', '1,000+', 'Free', '0', 'Teen', 'Communication', 'July 30, 2018', '2.1', '4.1 and up']\n",
      "\n",
      "\n",
      "['Of the wall Arapaho bk', 'COMMUNICATION', 'NaN', '0', '12M', '5+', 'Free', '0', 'Everyone', 'Communication', 'August 18, 2017', '1.0', '4.1 and up']\n",
      "\n",
      "\n",
      "['AC-BL', 'COMMUNICATION', 'NaN', '0', '4.3M', '50+', 'Free', '0', 'Everyone', 'Communication', 'April 20, 2018', '1.7', '2.1 and up']\n",
      "\n",
      "\n",
      "['BBM - Free Calls & Messages', 'COMMUNICATION', '4.3', '12843436', 'Varies with device', '100,000,000+', 'Free', '0', 'Everyone', 'Communication', 'August 2, 2018', 'Varies with device', '4.0.3 and up']\n",
      "\n",
      "\n",
      "['DMR BrandMeister Tool', 'COMMUNICATION', '3.3', '78', '2.5M', '10,000+', 'Free', '0', 'Everyone', 'Communication', 'March 31, 2018', '4.5', '6.0 and up']\n",
      "\n",
      "\n",
      "['BBMoji - Your personalized BBM Stickers', 'COMMUNICATION', '4.3', '8827', 'Varies with device', '1,000,000+', 'Free', '0', 'Everyone', 'Communication', 'May 22, 2018', '1.0.2', '4.0.3 and up']\n",
      "\n",
      "\n",
      "['BN MALLORCA Radio', 'COMMUNICATION', 'NaN', '23', '13M', '1,000+', 'Free', '0', 'Everyone', 'Communication', 'November 29, 2017', '2.0.14.4', '2.3 and up']\n",
      "\n",
      "\n",
      "['BQ Partners', 'COMMUNICATION', 'NaN', '0', 'Varies with device', '1,000+', 'Free', '0', 'Everyone', 'Communication', 'July 27, 2018', 'Varies with device', 'Varies with device']\n",
      "\n",
      "\n",
      "['BS-Mobile', 'COMMUNICATION', '5.0', '1', '683k', '50+', 'Free', '0', 'Everyone', 'Communication', 'September 3, 2015', '0.1', '2.3 and up']\n",
      "\n",
      "\n",
      "['ATC Unico BS', 'COMMUNICATION', 'NaN', '10', '5.3M', '500+', 'Free', '0', 'Everyone', 'Communication', 'October 16, 2015', '0.12', '4.1 and up']\n",
      "\n",
      "\n",
      "['BT One Voice mobile access', 'COMMUNICATION', '4.0', '32', '437k', '5,000+', 'Free', '0', 'Everyone', 'Communication', 'July 30, 2015', 'Version 1.6', '1.6 and up']\n",
      "\n",
      "\n",
      "['BT Messenger', 'COMMUNICATION', '3.9', '97', '598k', '50,000+', 'Free', '0', 'Everyone', 'Communication', 'May 15, 2015', '1.0', '2.2 and up']\n",
      "\n",
      "\n",
      "['BT One Phone Mobile App', 'COMMUNICATION', '3.5', '33', '2.7M', '10,000+', 'Free', '0', 'Everyone', 'Communication', 'September 18, 2017', '2.2.6', '4.1 and up']\n",
      "\n",
      "\n",
      "['SW-100.tch by Callstel', 'COMMUNICATION', '4.0', '1926', '716k', '1,000,000+', 'Free', '0', 'Everyone', 'Communication', 'December 16, 2015', '1.3.20', '2.2 and up']\n",
      "\n",
      "\n",
      "['BT MeetMe with Dolby Voice', 'COMMUNICATION', '3.6', '437', '12M', '100,000+', 'Free', '0', 'Everyone', 'Communication', 'July 13, 2018', '2.66.5', '5.0 and up']\n",
      "\n",
      "\n",
      "['Bluetooth Auto Connect', 'COMMUNICATION', '3.9', '20829', '1.9M', '5,000,000+', 'Free', '0', 'Everyone', 'Communication', 'November 17, 2017', '4.5.4', '3.0 and up']\n",
      "\n",
      "\n",
      "['AudioBT: BT audio GPS/SMS/Text', 'COMMUNICATION', '3.4', '198', '219k', '50,000+', 'Free', '0', 'Everyone', 'Communication', 'February 21, 2017', '3.2.1', '4.0 and up']\n",
      "\n",
      "\n",
      "['BV', 'COMMUNICATION', '5.0', '3', '1.6M', '100+', 'Free', '0', 'Everyone', 'Communication', 'August 4, 2016', '1,01', '3.0 and up']\n",
      "\n",
      "\n",
      "['Feel Performer', 'COMMUNICATION', '2.2', '62', '34M', '10,000+', 'Free', '0', 'Everyone', 'Communication', 'April 9, 2018', '2.0.3', '4.1 and up']\n",
      "\n",
      "\n",
      "['Tiny Call Confirm', 'COMMUNICATION', '4.1', '22782', '351k', '1,000,000+', 'Free', '0', 'Everyone', 'Communication', 'March 25, 2015', '4.2.0', '2.2 and up']\n",
      "\n",
      "\n",
      "['CB Radio Chat - for friends!', 'COMMUNICATION', '4.0', '17998', '7.9M', '1,000,000+', 'Free', '0', 'Teen', 'Communication', 'March 27, 2018', '2.6.3', '4.0 and up']\n",
      "\n",
      "\n",
      "['CB On Mobile', 'COMMUNICATION', '4.1', '901', '323k', '100,000+', 'Free', '0', 'Teen', 'Communication', 'April 26, 2017', '1.0.5', '4.0 and up']\n",
      "\n",
      "\n",
      "['Virtual Walkie Talkie', 'COMMUNICATION', '3.8', '21785', '2.5M', '1,000,000+', 'Free', '0', 'Everyone', 'Communication', 'August 13, 2015', '1.41', '2.3 and up']\n",
      "\n",
      "\n",
      "['Channel 19', 'COMMUNICATION', '3.7', '916', '12M', '100,000+', 'Free', '0', 'Mature 17+', 'Communication', 'July 13, 2018', '2.2.6', '4.1 and up']\n",
      "\n",
      "\n",
      "['Cb browser', 'COMMUNICATION', '5.0', '5', '3.7M', '50+', 'Free', '0', 'Everyone', 'Communication', 'April 2, 2018', '1.0', '4.0 and up']\n",
      "\n",
      "\n",
      "['CF Chat: Connecting Friends', 'COMMUNICATION', '3.4', '5', '2.4M', '100+', 'Free', '0', 'Teen', 'Communication', 'April 27, 2016', '1.4', '2.3 and up']\n",
      "\n",
      "\n",
      "['retteMi.ch', 'COMMUNICATION', 'NaN', '31', 'Varies with device', '5,000+', 'Free', '0', 'Everyone', 'Communication', 'April 28, 2018', 'Varies with device', 'Varies with device']\n",
      "\n",
      "\n",
      "['Chrome Dev', 'COMMUNICATION', '4.4', '63576', 'Varies with device', '5,000,000+', 'Free', '0', 'Everyone', 'Communication', 'August 2, 2018', '69.0.3497.24', 'Varies with device']\n",
      "\n",
      "\n",
      "['CJ Browser - Fast & Private', 'COMMUNICATION', '4.2', '5', '15M', '100+', 'Free', '0', 'Everyone', 'Communication', 'November 7, 2017', '1.0', '4.0 and up']\n",
      "\n",
      "\n",
      "['CJ DVD Rentals', 'COMMUNICATION', '1.0', '5', '13M', '100+', 'Free', '0', 'Everyone', 'Communication', 'October 6, 2017', '1.0', '4.1 and up']\n",
      "\n",
      "\n",
      "['CK Call NEW', 'COMMUNICATION', 'NaN', '0', '4.2M', '10+', 'Free', '0', 'Everyone', 'Communication', 'April 26, 2017', '3.8.8', '2.2 and up']\n",
      "\n",
      "\n",
      "['CM Transfer - Share any files with friends nearby', 'COMMUNICATION', '4.6', '71740', '5.8M', '5,000,000+', 'Free', '0', 'Everyone', 'Communication', 'June 27, 2018', '2.0.7.0014', '4.0 and up']\n",
      "\n",
      "\n",
      "['mail.co.uk Mail', 'COMMUNICATION', '4.2', '21', '8.7M', '5,000+', 'Free', '0', 'Everyone', 'Communication', 'July 24, 2018', '1.1.0', '4.0.3 and up']\n",
      "\n",
      "\n",
      "['ClanPlay: Community and Tools for Gamers', 'COMMUNICATION', '4.8', '34443', '27M', '1,000,000+', 'Free', '0', 'Teen', 'Communication', 'June 28, 2018', '1.14.3', '5.0 and up']\n",
      "\n",
      "\n",
      "['CQ-Mobile', 'COMMUNICATION', 'NaN', '10', '8.1M', '1,000+', 'Free', '0', 'Everyone', 'Communication', 'November 28, 2016', '5.5.0', '4.0 and up']\n",
      "\n",
      "\n",
      "['CQ-Alert', 'COMMUNICATION', 'NaN', '3', '8.1M', '500+', 'Free', '0', 'Everyone', 'Communication', 'November 28, 2016', '5.5.0', '4.0 and up']\n",
      "\n",
      "\n",
      "['QRZ Assistant', 'COMMUNICATION', '4.2', '1044', '3.5M', '100,000+', 'Free', '0', 'Everyone', 'Communication', 'May 30, 2018', '2.0', '4.4 and up']\n",
      "\n",
      "\n",
      "['Pocket Prefix Plus', 'COMMUNICATION', '4.5', '192', '15M', '10,000+', 'Free', '0', 'Everyone', 'Communication', 'February 12, 2018', 'v2.6.0', '3.0 and up']\n",
      "\n",
      "\n",
      "['Ham Radio Prefixes', 'COMMUNICATION', '3.7', '218', '3.7M', '10,000+', 'Free', '0', 'Everyone', 'Communication', 'July 12, 2014', '1.12', '2.3 and up']\n",
      "\n",
      "\n",
      "['CS Customizer', 'COMMUNICATION', '3.7', '25', '3.7M', '1,000+', 'Free', '0', 'Everyone', 'Communication', 'February 6, 2017', '1.2.11', '3.0 and up']\n",
      "\n",
      "\n",
      "['CS Browser | #1 & BEST BROWSER', 'COMMUNICATION', '3.8', '52', '2.1M', '1,000+', 'Free', '0', 'Everyone', 'Communication', 'August 28, 2015', '2.0', '3.0 and up']\n",
      "\n",
      "\n",
      "['CS Browser Beta', 'COMMUNICATION', '4.3', '125', '53M', '5,000+', 'Free', '0', 'Everyone', 'Communication', 'October 16, 2017', '60.0.3112.3046279', '4.1 and up']\n",
      "\n",
      "\n",
      "['My Vodafone (GR)', 'COMMUNICATION', '3.8', '12667', '34M', '1,000,000+', 'Free', '0', 'Everyone', 'Communication', 'August 1, 2018', '4.5.5.1-2090AL-REL', '4.3 and up']\n",
      "\n",
      "\n",
      "['IZ2UUF Morse Koch CW', 'COMMUNICATION', '4.6', '649', '837k', '50,000+', 'Free', '0', 'Everyone', 'Communication', 'August 8, 2013', '1.0.013', '2.1 and up']\n",
      "\n",
      "\n",
      "['C W Browser', 'COMMUNICATION', '4.4', '14', '17M', '100+', 'Free', '0', 'Everyone', 'Communication', 'October 28, 2017', '1.0', '4.0 and up']\n",
      "\n",
      "\n",
      "['CW Bluetooth SPP', 'COMMUNICATION', 'NaN', '3', '961k', '100+', 'Free', '0', 'Everyone', 'Communication', 'March 31, 2018', '1.2', '6.0 and up']\n",
      "\n",
      "\n",
      "['CW BLE Peripheral Simulator', 'COMMUNICATION', 'NaN', '2', '1.5M', '500+', 'Free', '0', 'Everyone', 'Communication', 'March 8, 2017', '1.0', '4.4 and up']\n",
      "\n",
      "\n",
      "['Morse Code Reader', 'COMMUNICATION', '3.9', '1436', '20k', '100,000+', 'Free', '0', 'Everyone', 'Communication', 'August 26, 2013', '1.0', '1.6 and up']\n",
      "\n",
      "\n",
      "['Learn Morse Code - G0HYN Learn Morse', 'COMMUNICATION', '4.0', '27', '600k', '5,000+', 'Free', '0', 'Everyone', 'Communication', 'May 8, 2018', '5.0', '2.2 and up']\n",
      "\n",
      "\n"
     ]
    },
    {
     "name": "stdout",
     "output_type": "stream",
     "text": [
      "['Ring', 'COMMUNICATION', '3.9', '517', '35M', '10,000+', 'Free', '0', 'Everyone', 'Communication', 'August 6, 2018', '20180805', '4.4 and up']\n",
      "\n",
      "\n",
      "['Hyundai CX Conference', 'COMMUNICATION', 'NaN', '0', '20M', '50+', 'Free', '0', 'Everyone', 'Communication', 'May 27, 2018', '2.10.2', '4.2 and up']\n",
      "\n",
      "\n",
      "['Cy Messenger', 'COMMUNICATION', '4.5', '4', '8.1M', '100+', 'Free', '0', 'Everyone', 'Communication', 'August 30, 2014', '1.3.0', '2.3.3 and up']\n",
      "\n",
      "\n",
      "['Amadeus GR & CY', 'COMMUNICATION', 'NaN', '4', '3.8M', '100+', 'Free', '0', 'Everyone', 'Communication', 'February 1, 2018', '2.07', '4.1 and up']\n",
      "\n",
      "\n",
      "['Hlášenírozhlasu.cz', 'COMMUNICATION', 'NaN', '0', '17M', '10+', 'Free', '0', 'Everyone', 'Communication', 'July 27, 2018', '2.1.3', '4.1 and up']\n",
      "\n",
      "\n",
      "['SMS Sender - sluzba.cz', 'COMMUNICATION', 'NaN', '12', '72k', '1,000+', 'Free', '0', 'Everyone', 'Communication', 'June 1, 2012', '2.00.00', '2.0 and up']\n",
      "\n",
      "\n",
      "['WEB.DE Mail', 'COMMUNICATION', '4.3', '226541', 'Varies with device', '10,000,000+', 'Free', '0', 'Everyone', 'Communication', 'July 25, 2018', 'Varies with device', 'Varies with device']\n",
      "\n",
      "\n",
      "['Your Freedom VPN Client', 'COMMUNICATION', '4.0', '74497', '5.3M', '5,000,000+', 'Free', '0', 'Everyone', 'Communication', 'May 19, 2018', '20180518-01', '4.0 and up']\n",
      "\n",
      "\n",
      "['CallApp: Caller ID, Blocker & Phone Call Recorder', 'COMMUNICATION', '4.4', '483782', '20M', '10,000,000+', 'Free', '0', 'Everyone', 'Communication', 'July 29, 2018', '1.286', '4.1 and up']\n",
      "\n",
      "\n",
      "['Rádio Sol Nascente DF', 'COMMUNICATION', 'NaN', '12', '1.6M', '500+', 'Free', '0', 'Everyone', 'Communication', 'July 28, 2016', '3.1', '2.3 and up']\n",
      "\n",
      "\n",
      "['DG Card', 'COMMUNICATION', 'NaN', '0', 'Varies with device', '100+', 'Free', '0', 'Everyone', 'Communication', 'August 15, 2017', 'Varies with device', 'Varies with device']\n",
      "\n",
      "\n",
      "['Whoscall - Caller ID & Block', 'COMMUNICATION', '4.4', '552635', '29M', '10,000,000+', 'Free', '0', 'Everyone', 'Communication', 'August 1, 2018', '6.19.1', '4.1 and up']\n",
      "\n",
      "\n",
      "['DK Browser', 'COMMUNICATION', '4.0', '1', '2.4M', '10+', 'Free', '0', 'Everyone', 'Communication', 'April 25, 2017', '1.0', '4.2 and up']\n",
      "\n",
      "\n",
      "['cluster.dk', 'COMMUNICATION', 'NaN', '49', '1.1M', '1,000+', 'Free', '0', 'Everyone', 'Communication', 'June 25, 2013', '1.0.2', '2.3 and up']\n",
      "\n",
      "\n",
      "['DK TEL Dialer', 'COMMUNICATION', 'NaN', '0', '4.2M', '50+', 'Free', '0', 'Everyone', 'Communication', 'November 26, 2017', '3.8.8', '2.2 and up']\n",
      "\n",
      "\n",
      "['DM for WhatsApp', 'COMMUNICATION', '4.4', '25', '2.9M', '5,000+', 'Free', '0', 'Everyone', 'Communication', 'June 3, 2018', '0.3.7', '4.4 and up']\n",
      "\n",
      "\n",
      "['DM Talk New', 'COMMUNICATION', 'NaN', '3', '4.2M', '5,000+', 'Free', '0', 'Everyone', 'Communication', 'February 7, 2018', '3.8.8', '2.2 and up']\n",
      "\n",
      "\n",
      "['DM - The Offical Messaging App', 'COMMUNICATION', 'NaN', '0', '11M', '10+', 'Free', '0', 'Teen', 'Communication', 'December 20, 2017', '1.3', '4.0.3 and up']\n",
      "\n",
      "\n",
      "['DM Tracker', 'COMMUNICATION', '3.5', '11', '5.2M', '1,000+', 'Free', '0', 'Everyone', 'Communication', 'July 26, 2018', '2.0.1', '4.3 and up']\n",
      "\n",
      "\n",
      "['Call Blocker & Blacklist', 'COMMUNICATION', '4.0', '6', '4.2M', '1,000+', 'Free', '0', 'Everyone', 'Communication', 'July 13, 2018', '3.1.0', '4.0 and up']\n",
      "\n",
      "\n",
      "['ReadyOp DT', 'COMMUNICATION', '4.6', '8', '1.1M', '1,000+', 'Free', '0', 'Everyone', 'Communication', 'July 6, 2018', '1.0.56', '2.3.3 and up']\n",
      "\n",
      "\n",
      "['DU Browser—Browse fast & fun', 'COMMUNICATION', '4.3', '1133539', '4.7M', '10,000,000+', 'Free', '0', 'Everyone', 'Communication', 'April 1, 2016', '6.4.0.4', '4.0 and up']\n",
      "\n",
      "\n",
      "['Caller ID & Call Block - DU Caller', 'COMMUNICATION', '4.6', '93930', '14M', '5,000,000+', 'Free', '0', 'Everyone', 'Communication', 'August 1, 2018', '4.0.8', '4.2 and up']\n",
      "\n",
      "\n",
      "['BlueDV AMBE', 'COMMUNICATION', 'NaN', '0', 'Varies with device', '1,000+', 'Free', '0', 'Everyone', 'Communication', 'May 23, 2018', 'Varies with device', 'Varies with device']\n",
      "\n",
      "\n",
      "['DW Contacts & Phone & Dialer', 'COMMUNICATION', '4.3', '21186', '10M', '1,000,000+', 'Free', '0', 'Everyone', 'Communication', 'August 4, 2018', 'Varies with device', 'Varies with device']\n",
      "\n",
      "\n",
      "['Deaf World DW', 'COMMUNICATION', '4.3', '298', 'Varies with device', '10,000+', 'Free', '0', 'Teen', 'Communication', 'November 28, 2017', 'Varies with device', '4.1 and up']\n",
      "\n",
      "\n",
      "['Ham DX Cluster & Spots Finder', 'COMMUNICATION', '4.5', '115', '2.8M', '5,000+', 'Free', '0', 'Everyone', 'Communication', 'July 15, 2016', '1.4.4', '4.1 and up']\n",
      "\n",
      "\n",
      "['Mircules DX Cluster Lite', 'COMMUNICATION', '4.5', '51', '21M', '5,000+', 'Free', '0', 'Everyone', 'Communication', 'May 10, 2016', '3.0', '4.1 and up']\n",
      "\n",
      "\n",
      "['3G DZ Configuration', 'COMMUNICATION', '4.3', '488', '2.5M', '50,000+', 'Free', '0', 'Everyone', 'Communication', 'November 19, 2015', '6.2.3', '3.0 and up']\n",
      "\n",
      "\n",
      "['chat dz', 'COMMUNICATION', '5.0', '8', '29M', '100+', 'Free', '0', 'Teen', 'Communication', 'March 14, 2018', '1.0', '4.1 and up']\n",
      "\n",
      "\n",
      "['love sms good morning', 'COMMUNICATION', '4.2', '10', '3.1M', '5,000+', 'Free', '0', 'Everyone', 'Communication', 'April 28, 2016', '1.0', '2.3 and up']\n",
      "\n",
      "\n",
      "['Goodbox - Mega App', 'COMMUNICATION', '4.3', '3429', 'Varies with device', '100,000+', 'Free', '0', 'Everyone', 'Communication', 'March 8, 2018', '1.10.279.2', '4.2 and up']\n",
      "\n",
      "\n",
      "['Call Blocker - Blacklist, SMS Blocker', 'COMMUNICATION', '4.2', '30350', '3.7M', '1,000,000+', 'Free', '0', 'Everyone', 'Communication', 'January 16, 2018', '10.0.0', '4.1 and up']\n",
      "\n",
      "\n",
      "['[EF]ShoutBox', 'COMMUNICATION', 'NaN', '3', '2.5M', '100+', 'Free', '0', 'Teen', 'Communication', 'August 7, 2018', 'Build 54', '4.0.3 and up']\n",
      "\n",
      "\n",
      "['Eg Call', 'COMMUNICATION', '4.2', '91', '6.0M', '10,000+', 'Free', '0', 'Everyone', 'Communication', 'February 26, 2017', '3.8.6', '2.2 and up']\n",
      "\n",
      "\n",
      "['ei', 'COMMUNICATION', 'NaN', '2', '4.5M', '10+', 'Free', '0', 'Teen', 'Communication', 'July 16, 2018', '0.0.10', '4.4 and up']\n",
      "\n",
      "\n",
      "['EJ messenger', 'COMMUNICATION', '5.0', '1', '25M', '10+', 'Free', '0', 'Teen', 'Communication', 'October 18, 2017', '1.0', '4.0 and up']\n",
      "\n",
      "\n",
      "['Ek IRA', 'COMMUNICATION', 'NaN', '0', '5.7M', '10+', 'Free', '0', 'Everyone', 'Communication', 'July 27, 2018', '0.3.1', '4.1 and up']\n",
      "\n",
      "\n",
      "['Orfox: Tor Browser for Android', 'COMMUNICATION', '4.2', '44233', '31M', '10,000,000+', 'Free', '0', 'Everyone', 'Communication', 'July 2, 2018', 'Fennec-52.9.0esr/TorBrowser-7.5-1/Orfox-1.5.4-RC-1', '4.0.3 and up']\n",
      "\n",
      "\n",
      "['EO Mumbai', 'COMMUNICATION', 'NaN', '0', '11M', '10+', 'Free', '0', 'Everyone', 'Communication', 'February 21, 2018', '1.02', '4.1 and up']\n",
      "\n",
      "\n",
      "['EP RSS Reader', 'COMMUNICATION', '3.8', '4', '892k', '100+', 'Free', '0', 'Everyone', 'Communication', 'July 16, 2018', '0.99', '4.0.3 and up']\n",
      "\n",
      "\n",
      "['Voxer Walkie Talkie Messenger', 'COMMUNICATION', '4.3', '230564', 'Varies with device', '10,000,000+', 'Free', '0', 'Everyone', 'Communication', 'July 31, 2018', 'Varies with device', 'Varies with device']\n",
      "\n",
      "\n",
      "['ES-1', 'COMMUNICATION', 'NaN', '6', '2.7M', '500+', 'Free', '0', 'Everyone', 'Communication', 'July 5, 2016', '1.0', '1.6 and up']\n",
      "\n",
      "\n",
      "['Hangouts Dialer - Call Phones', 'COMMUNICATION', '4.0', '122512', '79k', '10,000,000+', 'Free', '0', 'Everyone', 'Communication', 'September 2, 2015', '0.1.100944346', '4.0.3 and up']\n",
      "\n",
      "\n",
      "['EU Council', 'COMMUNICATION', 'NaN', '7', '19M', '1,000+', 'Free', '0', 'Everyone', 'Communication', 'July 4, 2018', '1.3.0', '4.4 and up']\n",
      "\n",
      "\n",
      "['Council Voting Calculator', 'COMMUNICATION', '3.9', '33', '3.4M', '5,000+', 'Free', '0', 'Everyone', 'Communication', 'January 6, 2017', '2.3.0', '4.1 and up']\n",
      "\n",
      "\n",
      "['Have your say on Europe', 'COMMUNICATION', '3.8', '19', '21M', '500+', 'Free', '0', 'Everyone', 'Communication', 'April 19, 2018', '1.1.0', '4.1 and up']\n",
      "\n",
      "\n",
      "['Programi podrške EU', 'COMMUNICATION', 'NaN', '0', '5.4M', '100+', 'Free', '0', 'Everyone', 'Communication', 'January 15, 2018', '1.0.3', '4.1 and up']\n",
      "\n",
      "\n",
      "['Inbox.eu', 'COMMUNICATION', '3.7', '98', '9.7M', '10,000+', 'Free', '0', 'Everyone', 'Communication', 'July 11, 2018', '6.4.7', '4.3 and up']\n",
      "\n",
      "\n",
      "['Web Browser for Android', 'COMMUNICATION', '4.1', '55110', '4.3M', '1,000,000+', 'Free', '0', 'Everyone', 'Communication', 'June 20, 2018', '2.2', '4.0 and up']\n",
      "\n",
      "\n",
      "['Everbridge', 'COMMUNICATION', '3.1', '497', '36M', '100,000+', 'Free', '0', 'Everyone', 'Communication', 'July 17, 2018', '8.6.2', '4.4 and up']\n",
      "\n",
      "\n",
      "['Best Auto Call Recorder Free', 'COMMUNICATION', '3.7', '7', '4.3M', '500+', 'Free', '0', 'Everyone', 'Communication', 'October 2, 2017', '2.1', '4.1 and up']\n",
      "\n",
      "\n",
      "['EZ Wifi Notification', 'COMMUNICATION', '4.3', '260', '193k', '10,000+', 'Free', '0', 'Everyone', 'Communication', 'August 11, 2014', '1.8', '2.2 and up']\n",
      "\n",
      "\n",
      "['Test Server SMS FA', 'COMMUNICATION', 'NaN', '0', '1.8M', '5+', 'Free', '0', 'Everyone', 'Communication', 'July 27, 2018', '1.0', '4.0.3 and up']\n",
      "\n",
      "\n",
      "['Lite for Facebook Messenger', 'COMMUNICATION', '4.3', '76498', '4.3M', '1,000,000+', 'Free', '0', 'Teen', 'Communication', 'June 20, 2018', '6.3.2', 'Varies with device']\n",
      "\n",
      "\n",
      "['FC Browser - Focus Privacy Browser', 'COMMUNICATION', '4.1', '26', '4.6M', '1,000+', 'Free', '0', 'Everyone', 'Communication', 'November 24, 2017', '1.0', '5.0 and up']\n",
      "\n",
      "\n",
      "['EHiN-FH conferenceapp', 'COMMUNICATION', 'NaN', '5', '26M', '100+', 'Free', '0', 'Everyone', 'Communication', 'November 15, 2016', '1.17', '4.1 and up']\n",
      "\n",
      "\n",
      "['Carpooling FH Hagenberg', 'COMMUNICATION', 'NaN', '0', 'Varies with device', '100+', 'Free', '0', 'Everyone', 'Communication', 'May 18, 2017', 'Varies with device', 'Varies with device']\n",
      "\n",
      "\n",
      "['Wi-Fi Auto-connect', 'COMMUNICATION', '3.8', '15036', '253k', '1,000,000+', 'Free', '0', 'Everyone', 'Communication', 'August 1, 2015', '1.2.0', '1.6 and up']\n",
      "\n",
      "\n",
      "['Talkie - Wi-Fi Calling, Chats, File Sharing', 'COMMUNICATION', '4.2', '4838', 'Varies with device', '500,000+', 'Free', '0', 'Everyone', 'Communication', 'January 6, 2018', 'Varies with device', 'Varies with device']\n",
      "\n",
      "\n",
      "['WeFi - Free Fast WiFi Connect & Find Wi-Fi Map', 'COMMUNICATION', '4.0', '13469', '5.1M', '1,000,000+', 'Free', '0', 'Everyone', 'Communication', 'June 5, 2018', '4.7.0.2200000', '4.0 and up']\n",
      "\n",
      "\n",
      "['Sat-Fi', 'COMMUNICATION', '3.6', '97', 'Varies with device', '5,000+', 'Free', '0', 'Everyone', 'Communication', 'August 31, 2017', 'Varies with device', 'Varies with device']\n",
      "\n",
      "\n",
      "['Portable Wi-Fi hotspot Free', 'COMMUNICATION', '4.0', '1711', '2.1M', '100,000+', 'Free', '0', 'Everyone', 'Communication', 'January 11, 2018', '1.2.5.4-11', '2.3 and up']\n",
      "\n",
      "\n",
      "['TownWiFi | Wi-Fi Everywhere', 'COMMUNICATION', '3.9', '2372', '58M', '500,000+', 'Free', '0', 'Everyone', 'Communication', 'August 2, 2018', '4.2.1', '4.2 and up']\n",
      "\n",
      "\n",
      "['Jazz Wi-Fi', 'COMMUNICATION', '3.4', '49', '4.0M', '10,000+', 'Free', '0', 'Everyone', 'Communication', 'February 10, 2017', '0.1', '2.3 and up']\n",
      "\n",
      "\n",
      "['Sat-Fi Voice', 'COMMUNICATION', '3.4', '37', '14M', '1,000+', 'Free', '0', 'Everyone', 'Communication', 'November 21, 2014', '2.2.1.5', '2.2 and up']\n",
      "\n",
      "\n",
      "['Free Wi-fi HotspoT', 'COMMUNICATION', '4.1', '382', '2.3M', '50,000+', 'Free', '0', 'Everyone', 'Communication', 'July 20, 2018', '2.5', '4.0 and up']\n",
      "\n",
      "\n",
      "['FN Web Radio', 'COMMUNICATION', 'NaN', '0', '1.6M', '10+', 'Free', '0', 'Everyone', 'Communication', 'May 18, 2018', '1.1', '2.3 and up']\n",
      "\n",
      "\n",
      "['FNH Payment Info', 'COMMUNICATION', 'NaN', '0', '2.1M', '10+', 'Free', '0', 'Everyone', 'Communication', 'March 17, 2018', '1.3', '4.0.3 and up']\n",
      "\n",
      "\n",
      "['MARKET FO', 'COMMUNICATION', 'NaN', '0', '15M', '100+', 'Free', '0', 'Everyone', 'Communication', 'November 30, 2017', '1.0', '4.1 and up']\n",
      "\n",
      "\n",
      "['FO OP St-Nazaire', 'COMMUNICATION', 'NaN', '1', '17M', '100+', 'Free', '0', 'Everyone', 'Communication', 'December 19, 2017', '1.0', '4.1 and up']\n",
      "\n",
      "\n",
      "['FO SODEXO', 'COMMUNICATION', 'NaN', '0', '16M', '100+', 'Free', '0', 'Everyone', 'Communication', 'March 13, 2018', '1.0', '4.1 and up']\n",
      "\n",
      "\n",
      "['FO RCBT', 'COMMUNICATION', 'NaN', '5', '15M', '100+', 'Free', '0', 'Everyone', 'Communication', 'November 15, 2017', '1.0', '4.1 and up']\n",
      "\n",
      "\n",
      "['FO Interim', 'COMMUNICATION', 'NaN', '1', '11M', '100+', 'Free', '0', 'Everyone', 'Communication', 'March 14, 2017', '1.0', '4.1 and up']\n",
      "\n",
      "\n",
      "['FO PSA Sept-Fons', 'COMMUNICATION', 'NaN', '2', '15M', '100+', 'Free', '0', 'Everyone', 'Communication', 'March 22, 2018', '1.0', '4.1 and up']\n",
      "\n",
      "\n",
      "['FO AIRBUS TLSE', 'COMMUNICATION', 'NaN', '4', '16M', '1,000+', 'Free', '0', 'Everyone', 'Communication', 'January 25, 2018', '1.1', '4.1 and up']\n",
      "\n",
      "\n",
      "['FO STELIA Méaulte', 'COMMUNICATION', 'NaN', '2', '18M', '100+', 'Free', '0', 'Everyone', 'Communication', 'December 19, 2017', '1.1', '4.1 and up']\n",
      "\n",
      "\n",
      "['FO AIRBUS Nantes', 'COMMUNICATION', 'NaN', '0', '17M', '100+', 'Free', '0', 'Everyone', 'Communication', 'December 14, 2017', '1.0', '4.1 and up']\n",
      "\n",
      "\n",
      "['Firefox Focus: The privacy browser', 'COMMUNICATION', '4.4', '36981', '4.0M', '1,000,000+', 'Free', '0', 'Everyone', 'Communication', 'July 6, 2018', '5.2', '5.0 and up']\n",
      "\n",
      "\n",
      "['FP Connect', 'COMMUNICATION', 'NaN', '0', '22M', '100+', 'Free', '0', 'Teen', 'Communication', 'December 15, 2017', '3.15.1', '4.1 and up']\n",
      "\n",
      "\n",
      "['FreedomPop Messaging Phone/SIM', 'COMMUNICATION', '3.6', '9894', '39M', '500,000+', 'Free', '0', 'Everyone', 'Communication', 'July 26, 2018', '23.01.1265.0712', '4.1 and up']\n",
      "\n",
      "\n",
      "['FP Live', 'COMMUNICATION', 'NaN', '0', '3.3M', '10+', 'Free', '0', 'Teen', 'Communication', 'November 3, 2017', '1.2.4', '4.2 and up']\n",
      "\n",
      "\n",
      "['HipChat - beta version', 'COMMUNICATION', '4.1', '1035', '20M', '50,000+', 'Free', '0', 'Everyone', 'Communication', 'August 7, 2018', '3.20.001', '4.1 and up']\n",
      "\n",
      "\n"
     ]
    }
   ],
   "source": [
    "for app in android_final:\n",
    "    if app[1] == 'COMMUNICATION':\n",
    "        print(app)\n",
    "        print('\\n')"
   ]
  },
  {
   "cell_type": "markdown",
   "metadata": {},
   "source": [
    "A quantidade de instalação da categoria COMMUNICATION está muito alterado por conta de gigantes de tecnologia como WhatsApp, Skype, Messenger, Gmail, Hangouts entre outros. Talvez na seja uma boa ideia competir com empresas desse tipo."
   ]
  },
  {
   "cell_type": "code",
   "execution_count": 40,
   "metadata": {},
   "outputs": [
    {
     "name": "stdout",
     "output_type": "stream",
     "text": [
      "['YouTube', 'VIDEO_PLAYERS', '4.3', '25655305', 'Varies with device', '1,000,000,000+', 'Free', '0', 'Teen', 'Video Players & Editors', 'August 2, 2018', 'Varies with device', 'Varies with device']\n",
      "\n",
      "\n",
      "['All Video Downloader 2018', 'VIDEO_PLAYERS', '4.3', '7557', '5.6M', '1,000,000+', 'Free', '0', 'Everyone', 'Video Players & Editors', 'July 25, 2018', '1.0.1', '4.4 and up']\n",
      "\n",
      "\n",
      "['Video Downloader', 'VIDEO_PLAYERS', '4.2', '59089', '5.4M', '10,000,000+', 'Free', '0', 'Everyone', 'Video Players & Editors', 'August 3, 2018', '1.0.8', '4.4 and up']\n",
      "\n",
      "\n",
      "['HD Video Player', 'VIDEO_PLAYERS', '4.3', '1551', '2.9M', '1,000,000+', 'Free', '0', 'Everyone', 'Video Players & Editors', 'July 25, 2018', '1.1', '4.1 and up']\n",
      "\n",
      "\n",
      "['Iqiyi (for tablet)', 'VIDEO_PLAYERS', '3.6', '12764', '25M', '1,000,000+', 'Free', '0', 'Teen', 'Video Players & Editors', 'July 11, 2018', '7.1', '4.0 and up']\n",
      "\n",
      "\n",
      "['Video Player All Format', 'VIDEO_PLAYERS', '4.8', '259003', 'Varies with device', '10,000,000+', 'Free', '0', 'Everyone', 'Video Players & Editors', 'August 3, 2018', 'Varies with device', '4.3 and up']\n",
      "\n",
      "\n",
      "['Motorola Gallery', 'VIDEO_PLAYERS', '3.9', '121916', '23M', '100,000,000+', 'Free', '0', 'Everyone', 'Video Players & Editors', 'January 25, 2016', 'Varies with device', 'Varies with device']\n",
      "\n",
      "\n",
      "['Free TV series', 'VIDEO_PLAYERS', '3.7', '400', '7.2M', '100,000+', 'Free', '0', 'Teen', 'Video Players & Editors', 'May 28, 2018', 'v1.0.3', '4.0.3 and up']\n",
      "\n",
      "\n",
      "['Video Player All Format for Android', 'VIDEO_PLAYERS', '4.6', '3930', '3.3M', '500,000+', 'Free', '0', 'Everyone', 'Video Players & Editors', 'July 26, 2018', '1.1.7', '4.0.3 and up']\n",
      "\n",
      "\n",
      "['VLC for Android', 'VIDEO_PLAYERS', '4.4', '1032076', 'Varies with device', '100,000,000+', 'Free', '0', 'Everyone', 'Video Players & Editors', 'July 30, 2018', 'Varies with device', '2.3 and up']\n",
      "\n",
      "\n",
      "['Code', 'VIDEO_PLAYERS', '4.4', '239242', 'Varies with device', '10,000,000+', 'Free', '0', 'Everyone', 'Video Players & Editors', 'November 19, 2017', '17.6', '5.0 and up']\n",
      "\n",
      "\n",
      "['Vote for', 'VIDEO_PLAYERS', '4.2', '193381', '17M', '50,000,000+', 'Free', '0', 'Teen', 'Video Players & Editors', 'August 3, 2018', '1.78', '4.0.3 and up']\n",
      "\n",
      "\n",
      "['XX HD Video downloader-Free Video Downloader', 'VIDEO_PLAYERS', '4.1', '7624', '6.0M', '1,000,000+', 'Free', '0', 'Everyone', 'Video Players & Editors', 'April 20, 2018', '1.9', '4.0.3 and up']\n",
      "\n",
      "\n",
      "['OBJECTIVE', 'VIDEO_PLAYERS', '3.8', '19738', '33M', '1,000,000+', 'Free', '0', 'Teen', 'Video Players & Editors', 'August 7, 2018', '9.7.6', '4.0 and up']\n",
      "\n",
      "\n",
      "['Music - Mp3 Player', 'VIDEO_PLAYERS', '4.4', '259605', '3.1M', '10,000,000+', 'Free', '0', 'Everyone', 'Video Players & Editors', 'August 3, 2018', '1.6.1', '4.0.3 and up']\n",
      "\n",
      "\n",
      "['HD Movie Video Player', 'VIDEO_PLAYERS', '4.5', '18699', '4.1M', '1,000,000+', 'Free', '0', 'Everyone', 'Video Players & Editors', 'March 27, 2018', '1.0', '4.0.3 and up']\n",
      "\n",
      "\n",
      "['YouCut - Video Editor & Video Maker, No Watermark', 'VIDEO_PLAYERS', '4.6', '98819', '27M', '5,000,000+', 'Free', '0', 'Everyone', 'Video Players & Editors', 'August 6, 2018', '1.251.54', '4.3 and up']\n",
      "\n",
      "\n",
      "['Video Editor,Crop Video,Movie Video,Music,Effects', 'VIDEO_PLAYERS', '4.7', '53006', '44M', '1,000,000+', 'Free', '0', 'Everyone', 'Video Players & Editors', 'August 3, 2018', '1.5.1', '4.4 and up']\n",
      "\n",
      "\n",
      "['YouTube Studio', 'VIDEO_PLAYERS', '4.3', '436921', 'Varies with device', '10,000,000+', 'Free', '0', 'Teen', 'Video Players & Editors', 'June 28, 2018', 'Varies with device', 'Varies with device']\n",
      "\n",
      "\n",
      "['video player for android', 'VIDEO_PLAYERS', '4.5', '351168', '13M', '10,000,000+', 'Free', '0', 'Everyone', 'Video Players & Editors', 'October 18, 2016', '2.0.0', '2.3 and up']\n",
      "\n",
      "\n",
      "['Vigo Video', 'VIDEO_PLAYERS', '4.3', '1615596', 'Varies with device', '50,000,000+', 'Free', '0', 'Teen', 'Video Players & Editors', 'August 3, 2018', 'Varies with device', '4.0.3 and up']\n",
      "\n",
      "\n",
      "['Google Play Movies & TV', 'VIDEO_PLAYERS', '3.7', '906384', 'Varies with device', '1,000,000,000+', 'Free', '0', 'Teen', 'Video Players & Editors', 'August 6, 2018', 'Varies with device', 'Varies with device']\n",
      "\n",
      "\n",
      "['HTC Service － DLNA', 'VIDEO_PLAYERS', '3.9', '3484', '3.0M', '10,000,000+', 'Free', '0', 'Everyone', 'Video Players & Editors', 'December 3, 2015', '7.10.621414', '5.0 and up']\n",
      "\n",
      "\n",
      "['VPlayer', 'VIDEO_PLAYERS', '3.6', '5639', 'Varies with device', '1,000,000+', 'Free', '0', 'Everyone', 'Video Players & Editors', 'April 12, 2018', 'Varies with device', 'Varies with device']\n",
      "\n",
      "\n",
      "['MiniMovie - Free Video and Slideshow Editor', 'VIDEO_PLAYERS', '4.5', '504823', 'Varies with device', '50,000,000+', 'Free', '0', 'Everyone', 'Video Players & Editors', 'December 13, 2017', 'Varies with device', 'Varies with device']\n",
      "\n",
      "\n",
      "['Samsung Video Library', 'VIDEO_PLAYERS', '4.4', '25922', '6.1M', '50,000,000+', 'Free', '0', 'Everyone', 'Video Players & Editors', 'May 9, 2018', '1.4.08.2', '7.0 and up']\n",
      "\n",
      "\n",
      "['OnePlus Gallery', 'VIDEO_PLAYERS', '3.8', '5555', '64M', '1,000,000+', 'Free', '0', 'Everyone', 'Video Players & Editors', 'July 12, 2018', '2.6.71', '7.1 and up']\n",
      "\n",
      "\n",
      "['LIKE – Magic Video Maker & Community', 'VIDEO_PLAYERS', '4.6', '921868', '47M', '50,000,000+', 'Free', '0', 'Teen', 'Video Players & Editors', 'August 4, 2018', '2.4.11', '4.0 and up']\n",
      "\n",
      "\n",
      "['HTC Service—Video Player', 'VIDEO_PLAYERS', '4.2', '6449', 'Varies with device', '5,000,000+', 'Free', '0', 'Everyone', 'Video Players & Editors', 'February 13, 2015', '6.5.852058', '5.0 and up']\n",
      "\n",
      "\n",
      "['Play Tube', 'VIDEO_PLAYERS', '4.3', '15874', '5.4M', '1,000,000+', 'Free', '0', 'Everyone', 'Video Players & Editors', 'July 5, 2018', '1.2', '4.1 and up']\n",
      "\n",
      "\n",
      "['Droid Zap by Motorola', 'VIDEO_PLAYERS', '3.8', '2093', 'Varies with device', '5,000,000+', 'Free', '0', 'Everyone', 'Video Players & Editors', 'February 3, 2015', 'Varies with device', 'Varies with device']\n",
      "\n",
      "\n",
      "['video player', 'VIDEO_PLAYERS', '4.4', '26421', 'Varies with device', '1,000,000+', 'Free', '0', 'Everyone', 'Video Players & Editors', 'May 30, 2018', '3.4.5', '4.1 and up']\n",
      "\n",
      "\n",
      "['G Guide Program Guide (SOFTBANK EMOBILE WILLCOM version)', 'VIDEO_PLAYERS', '3.1', '2689', 'Varies with device', '1,000,000+', 'Free', '0', 'Everyone', 'Video Players & Editors', 'July 18, 2018', 'Varies with device', 'Varies with device']\n",
      "\n",
      "\n",
      "['Video.Guru - Video Maker', 'VIDEO_PLAYERS', '4.6', '36969', '27M', '1,000,000+', 'Free', '0', 'Everyone', 'Video Players & Editors', 'August 6, 2018', '1.137.22', '4.3 and up']\n",
      "\n",
      "\n",
      "['HTC Gallery', 'VIDEO_PLAYERS', '4.1', '45744', 'Varies with device', '10,000,000+', 'Free', '0', 'Everyone', 'Video Players & Editors', 'June 3, 2016', '9.51.755029', '4.4 and up']\n",
      "\n",
      "\n",
      "['PowerDirector Video Editor App: 4K, Slow Mo & More', 'VIDEO_PLAYERS', '4.5', '714665', '50M', '10,000,000+', 'Free', '0', 'Everyone', 'Video Players & Editors', 'July 24, 2018', '4.13.3', '4.3 and up']\n",
      "\n",
      "\n",
      "['Cartoon Network App', 'VIDEO_PLAYERS', '4.0', '119202', 'Varies with device', '10,000,000+', 'Free', '0', 'Everyone 10+', 'Video Players & Editors;Music & Video', 'June 21, 2018', 'Varies with device', 'Varies with device']\n",
      "\n",
      "\n",
      "['Video Status', 'VIDEO_PLAYERS', '4.3', '6685', '4.0M', '1,000,000+', 'Free', '0', 'Everyone', 'Video Players & Editors', 'August 2, 2018', '1.1.4', '4.1 and up']\n",
      "\n",
      "\n",
      "['Video Wallpaper Show', 'VIDEO_PLAYERS', 'NaN', '0', '13M', '500+', 'Free', '0', 'Everyone', 'Video Players & Editors', 'July 26, 2018', '3.1', '4.0.3 and up']\n",
      "\n",
      "\n",
      "['SVT Play', 'VIDEO_PLAYERS', '3.7', '11549', 'Varies with device', '1,000,000+', 'Free', '0', 'Teen', 'Video Players & Editors', 'July 13, 2018', 'Varies with device', 'Varies with device']\n",
      "\n",
      "\n",
      "['BluTV', 'VIDEO_PLAYERS', '3.9', '28835', 'Varies with device', '1,000,000+', 'Free', '0', 'Teen', 'Video Players & Editors', 'July 26, 2018', 'Varies with device', 'Varies with device']\n",
      "\n",
      "\n",
      "['Tencent Video - Supporting the whole network', 'VIDEO_PLAYERS', '3.5', '13205', '44M', '1,000,000+', 'Free', '0', 'Teen', 'Video Players & Editors', 'July 31, 2018', '6.2.2.17136', '3.0 and up']\n",
      "\n",
      "\n",
      "['Casper Ssinema', 'VIDEO_PLAYERS', '3.3', '1261', '2.5M', '10,000+', 'Free', '0', 'Everyone', 'Video Players & Editors', 'October 30, 2014', '1.0', '2.3 and up']\n",
      "\n",
      "\n",
      "['amazer - Global Kpop Video Community', 'VIDEO_PLAYERS', '4.3', '1215', '23M', '100,000+', 'Free', '0', 'Everyone 10+', 'Video Players & Editors', 'July 20, 2018', '1.5.4', '4.1 and up']\n",
      "\n",
      "\n",
      "['MX Player', 'VIDEO_PLAYERS', '4.5', '6474672', 'Varies with device', '500,000,000+', 'Free', '0', 'Everyone', 'Video Players & Editors', 'August 6, 2018', 'Varies with device', 'Varies with device']\n",
      "\n",
      "\n",
      "['Video Editor', 'VIDEO_PLAYERS', '4.1', '159622', '23M', '5,000,000+', 'Free', '0', 'Everyone', 'Video Players & Editors;Creativity', 'July 17, 2018', '6.14.091', '4.3 and up']\n",
      "\n",
      "\n",
      "['Omlet Arcade - Stream, Meet, Play', 'VIDEO_PLAYERS', '4.4', '169965', '14M', '10,000,000+', 'Free', '0', 'Teen', 'Video Players & Editors', 'August 2, 2018', '1.32.1', '4.3 and up']\n",
      "\n",
      "\n",
      "['VUE: video editor & camcorder', 'VIDEO_PLAYERS', '4.4', '38630', '89M', '1,000,000+', 'Free', '0', 'Everyone', 'Video Players & Editors', 'August 5, 2018', '2.1.6', '4.4 and up']\n",
      "\n",
      "\n",
      "['Magisto Video Editor & Maker', 'VIDEO_PLAYERS', '4.3', '960726', 'Varies with device', '10,000,000+', 'Free', '0', 'Everyone', 'Video Players & Editors', 'August 2, 2018', 'Varies with device', 'Varies with device']\n",
      "\n",
      "\n",
      "['Dubsmash', 'VIDEO_PLAYERS', '4.2', '1971777', '29M', '100,000,000+', 'Free', '0', 'Teen', 'Video Players & Editors', 'May 11, 2018', '2.35.8', '4.1 and up']\n",
      "\n",
      "\n",
      "['DU Recorder – Screen Recorder, Video Editor, Live', 'VIDEO_PLAYERS', '4.8', '2588730', '9.7M', '50,000,000+', 'Free', '0', 'Everyone', 'Video Players & Editors', 'July 30, 2018', '1.7.1.3', '5.0 and up']\n",
      "\n",
      "\n",
      "['KineMaster – Pro Video Editor', 'VIDEO_PLAYERS', '4.5', '1013867', '32M', '50,000,000+', 'Free', '0', 'Everyone', 'Video Players & Editors', 'August 3, 2018', '4.5.0.10701.GP', '4.1 and up']\n",
      "\n",
      "\n",
      "['Mobizen Screen Recorder for SAMSUNG', 'VIDEO_PLAYERS', '4.4', '953894', '37M', '10,000,000+', 'Free', '0', 'Everyone', 'Video Players & Editors', 'April 26, 2018', '3.5.1.8', 'Varies with device']\n",
      "\n",
      "\n",
      "['Mobizen Screen Recorder for LG - Record, Capture', 'VIDEO_PLAYERS', '4.5', '58820', '37M', '1,000,000+', 'Free', '0', 'Everyone', 'Video Players & Editors', 'April 26, 2018', '3.5.1.8', '4.4 and up']\n",
      "\n",
      "\n",
      "['M-Sight Pro', 'VIDEO_PLAYERS', '3.3', '30', '15M', '5,000+', 'Free', '0', 'Everyone', 'Video Players & Editors', 'July 25, 2018', '3.1.0.1-r4', '4.0 and up']\n",
      "\n",
      "\n",
      "[\"Sketch 'n' go\", 'VIDEO_PLAYERS', '3.8', '3965', '6.4M', '100,000+', 'Free', '0', 'Everyone', 'Video Players & Editors', 'March 26, 2018', '2.2.9', '4.1 and up']\n",
      "\n",
      "\n",
      "['Q-See Plus', 'VIDEO_PLAYERS', '2.2', '32', '33M', '5,000+', 'Free', '0', 'Everyone', 'Video Players & Editors', 'July 9, 2018', '3.1.0', '4.0.3 and up']\n",
      "\n",
      "\n",
      "['Ustream', 'VIDEO_PLAYERS', '4.0', '93638', '7.3M', '10,000,000+', 'Free', '0', 'Mature 17+', 'Video Players & Editors', 'July 11, 2018', '3.2.2', '4.1 and up']\n",
      "\n",
      "\n",
      "['VMate', 'VIDEO_PLAYERS', '4.2', '192677', '17M', '50,000,000+', 'Free', '0', 'Teen', 'Video Players & Editors', 'August 3, 2018', '1.78', '4.0.3 and up']\n",
      "\n",
      "\n",
      "['All Video Downloader', 'VIDEO_PLAYERS', '3.8', '165723', '1.6M', '10,000,000+', 'Free', '0', 'Everyone', 'Video Players & Editors', 'August 4, 2018', '7.5.9', '4.0 and up']\n",
      "\n",
      "\n",
      "['VidPlay', 'VIDEO_PLAYERS', '4.2', '3546', '3.7M', '1,000,000+', 'Free', '0', 'Everyone', 'Video Players & Editors', 'May 27, 2018', '2.0.19', '4.1 and up']\n",
      "\n",
      "\n",
      "['HD Video Downloader : 2018 Best video mate', 'VIDEO_PLAYERS', '3.7', '430643', '4.9M', '50,000,000+', 'Free', '0', 'Everyone', 'Video Players & Editors', 'May 31, 2018', '2.5.0', '4.1 and up']\n",
      "\n",
      "\n",
      "['VivaVideo - Video Editor & Photo Movie', 'VIDEO_PLAYERS', '4.6', '9879473', '40M', '100,000,000+', 'Free', '0', 'Teen', 'Video Players & Editors', 'August 4, 2018', '7.2.1', '4.1 and up']\n",
      "\n",
      "\n",
      "['VideoShow-Video Editor, Video Maker, Beauty Camera', 'VIDEO_PLAYERS', '4.6', '4016834', 'Varies with device', '100,000,000+', 'Free', '0', 'Everyone', 'Video Players & Editors', 'July 23, 2018', 'Varies with device', 'Varies with device']\n",
      "\n",
      "\n",
      "['W Box VMS', 'VIDEO_PLAYERS', '1.9', '105', '9.1M', '10,000+', 'Free', '0', 'Everyone', 'Video Players & Editors', 'January 9, 2017', '4.0.4', '2.3.3 and up']\n",
      "\n",
      "\n",
      "['W Box VMS HD', 'VIDEO_PLAYERS', '2.5', '24', '16M', '5,000+', 'Free', '0', 'Everyone', 'Video Players & Editors', 'January 4, 2017', '4.0.3', '3.0 and up']\n",
      "\n",
      "\n",
      "['AB Repeat Player', 'VIDEO_PLAYERS', '4.3', '1628', '18M', '100,000+', 'Free', '0', 'Everyone', 'Video Players & Editors', 'March 6, 2018', '4.1.1', '4.4 and up']\n",
      "\n",
      "\n",
      "['A-B repeater', 'VIDEO_PLAYERS', '4.4', '32', '239k', '5,000+', 'Free', '0', 'Everyone', 'Video Players & Editors', 'May 18, 2018', '1.8', '3.0 and up']\n",
      "\n",
      "\n",
      "['Ez Screen Recorder (no ad)', 'VIDEO_PLAYERS', '4.7', '8696', '14M', '100,000+', 'Free', '0', 'Everyone', 'Video Players & Editors', 'June 3, 2018', '2.1.4', '5.0 and up']\n",
      "\n",
      "\n",
      "['Adobe Premiere Clip', 'VIDEO_PLAYERS', '3.9', '39495', '59M', '5,000,000+', 'Free', '0', 'Everyone', 'Video Players & Editors', 'June 26, 2018', '1.1.4.1296', '4.4 and up']\n",
      "\n",
      "\n",
      "['FilmoraGo - Free Video Editor', 'VIDEO_PLAYERS', '4.4', '238459', '35M', '10,000,000+', 'Free', '0', 'Everyone', 'Video Players & Editors', 'June 6, 2018', '3.1.4', '4.2 and up']\n",
      "\n",
      "\n",
      "['ActionDirector Video Editor - Edit Videos Fast', 'VIDEO_PLAYERS', '4.5', '74531', '32M', '5,000,000+', 'Free', '0', 'Everyone', 'Video Players & Editors', 'June 15, 2018', '2.12.0', '4.3 and up']\n",
      "\n",
      "\n",
      "['AJ Player', 'VIDEO_PLAYERS', '4.8', '18', '1.7M', '100+', 'Free', '0', 'Everyone', 'Video Players & Editors', 'April 22, 2018', '1.6.3.1', '5.0 and up']\n",
      "\n",
      "\n",
      "['AK Lodi Films', 'VIDEO_PLAYERS', '4.9', '23', '2.1M', '100+', 'Free', '0', 'Everyone', 'Video Players & Editors', 'August 11, 2015', '1.1', '4.0 and up']\n",
      "\n",
      "\n",
      "['WiFi Baby Monitor - NannyCam', 'VIDEO_PLAYERS', '4.1', '29867', '1.7M', '5,000,000+', 'Free', '0', 'Everyone', 'Video Players & Editors', 'May 24, 2017', '3.1.0 (build 1210)', '2.3.3 and up']\n",
      "\n",
      "\n",
      "['Ringdroid', 'VIDEO_PLAYERS', '4.4', '326232', 'Varies with device', '50,000,000+', 'Free', '0', 'Everyone', 'Video Players & Editors', 'December 3, 2016', 'Varies with device', 'Varies with device']\n",
      "\n",
      "\n",
      "['Multiple Videos at Same Time', 'VIDEO_PLAYERS', '4.4', '4706', '1.5M', '1,000,000+', 'Free', '0', 'Everyone', 'Video Players & Editors', 'June 19, 2018', 'Z (Special Edition R9)', '4.4 and up']\n",
      "\n",
      "\n",
      "['AV-IPTV', 'VIDEO_PLAYERS', '4.4', '43', '44M', '1,000+', 'Free', '0', 'Everyone', 'Video Players & Editors', 'April 27, 2018', '1.0', '4.1 and up']\n",
      "\n",
      "\n",
      "['HD Video Player (wmv,avi,mp4,flv,av,mpg,mkv)2017', 'VIDEO_PLAYERS', '3.3', '171', '4.8M', '10,000+', 'Free', '0', 'Everyone', 'Video Players & Editors', 'August 10, 2017', '1.1', '4.1 and up']\n",
      "\n",
      "\n",
      "['HD Video Player - Video & MP3 Player | AV Player |', 'VIDEO_PLAYERS', '4.4', '22', '19M', '5,000+', 'Free', '0', 'Everyone', 'Video Players & Editors', 'March 6, 2018', '1.0.1', '4.0 and up']\n",
      "\n",
      "\n",
      "['EML UPnP-AV Control Point', 'VIDEO_PLAYERS', '3.0', '78', '322k', '10,000+', 'Free', '0', 'Everyone', 'Video Players & Editors', 'September 19, 2013', '1.3', '1.6 and up']\n",
      "\n",
      "\n",
      "['AW Screen Recorder No Root', 'VIDEO_PLAYERS', '4.3', '1659', '3.7M', '100,000+', 'Free', '0', 'Everyone', 'Video Players & Editors', 'July 6, 2017', '1.1', '5.0 and up']\n",
      "\n",
      "\n",
      "['AX Player -Nougat Video Player', 'VIDEO_PLAYERS', '4.1', '15765', '10M', '1,000,000+', 'Free', '0', 'Everyone', 'Video Players & Editors', 'September 12, 2014', '2.0', '2.2 and up']\n",
      "\n",
      "\n",
      "['AX Video Player', 'VIDEO_PLAYERS', '4.4', '569', '2.6M', '50,000+', 'Free', '0', 'Everyone', 'Video Players & Editors', 'November 11, 2015', '1.0.9', '3.0 and up']\n",
      "\n",
      "\n",
      "['Ay', 'VIDEO_PLAYERS', '3.8', '11', '3.6M', '5,000+', 'Free', '0', 'Teen', 'Video Players & Editors', 'May 4, 2018', '1.0.261', '2.3 and up']\n",
      "\n",
      "\n",
      "['Ay Sabz Gunbad Waly', 'VIDEO_PLAYERS', 'NaN', '4', '3.9M', '1,000+', 'Free', '0', 'Everyone', 'Video Players & Editors', 'September 11, 2017', '1.1', '4.0 and up']\n",
      "\n",
      "\n",
      "['iMediaShare – Photos & Music', 'VIDEO_PLAYERS', '4.2', '104551', '18M', '10,000,000+', 'Free', '0', 'Everyone', 'Video Players & Editors', 'December 19, 2017', '1.0.10', '2.2 and up']\n",
      "\n",
      "\n",
      "['AZ Screen Recorder - No Root', 'VIDEO_PLAYERS', '4.6', '751911', 'Varies with device', '10,000,000+', 'Free', '0', 'Everyone', 'Video Players & Editors', 'August 2, 2018', 'Varies with device', '5.0 and up']\n",
      "\n",
      "\n",
      "['Movie Downloader Torrent : Az Torrent', 'VIDEO_PLAYERS', '4.7', '70', '14M', '1,000+', 'Free', '0', 'Everyone', 'Video Players & Editors', 'July 7, 2018', '1.9', '4.1 and up']\n",
      "\n",
      "\n",
      "['A-Z Screen Recorder -', 'VIDEO_PLAYERS', 'NaN', '17', '3.7M', '500+', 'Free', '0', 'Everyone', 'Video Players & Editors', 'July 23, 2018', '1.0', '4.4 and up']\n",
      "\n",
      "\n",
      "['BC iptv player', 'VIDEO_PLAYERS', '4.4', '8', '14M', '1,000+', 'Free', '0', 'Everyone', 'Video Players & Editors', 'October 12, 2017', 'Final', '4.0 and up']\n",
      "\n",
      "\n",
      "['Bc Vod', 'VIDEO_PLAYERS', 'NaN', '1', '62M', '100+', 'Free', '0', 'Everyone', 'Video Players & Editors', 'April 17, 2018', '1.2', '4.2 and up']\n",
      "\n",
      "\n",
      "['Funny videos for whatsapp', 'VIDEO_PLAYERS', '4.4', '3066', '9.0M', '1,000,000+', 'Free', '0', 'Everyone', 'Video Players & Editors', 'December 17, 2017', '1.7', '4.0.3 and up']\n",
      "\n",
      "\n",
      "['BG video - floating video - background video', 'VIDEO_PLAYERS', '4.1', '64', '2.0M', '5,000+', 'Free', '0', 'Everyone', 'Video Players & Editors', 'May 21, 2018', '2.0', '4.0 and up']\n",
      "\n",
      "\n",
      "['BG MUSIC PLAYER - MUSIC PLAYER', 'VIDEO_PLAYERS', 'NaN', '0', '8.6M', '100+', 'Free', '0', 'Everyone', 'Video Players & Editors', 'June 26, 2018', '1.0', '4.1 and up']\n",
      "\n",
      "\n",
      "['bgtime.tv', 'VIDEO_PLAYERS', '3.4', '694', 'Varies with device', '50,000+', 'Free', '0', 'Everyone', 'Video Players & Editors', 'July 27, 2018', 'Varies with device', 'Varies with device']\n",
      "\n",
      "\n",
      "['YourTube Video Views BG', 'VIDEO_PLAYERS', 'NaN', '8', '2.5M', '500+', 'Free', '0', 'Everyone', 'Video Players & Editors', 'November 12, 2015', '1.1.1', '4.0 and up']\n",
      "\n",
      "\n",
      "['Music for Youtube - Tube Music BG, Red+', 'VIDEO_PLAYERS', '4.3', '47', '8.7M', '1,000+', 'Free', '0', 'Teen', 'Video Players & Editors', 'September 23, 2017', '1.10', '4.2 and up']\n",
      "\n",
      "\n",
      "['BGCN TV', 'VIDEO_PLAYERS', '3.4', '4334', '4.9M', '100,000+', 'Free', '0', 'Everyone', 'Video Players & Editors', 'November 4, 2015', '3.1.891', 'Varies with device']\n",
      "\n",
      "\n",
      "['AfreecaTV', 'VIDEO_PLAYERS', '3.3', '381023', '53M', '10,000,000+', 'Free', '0', 'Everyone', 'Video Players & Editors', 'July 26, 2018', '2.7.8', '4.0 and up']\n",
      "\n",
      "\n",
      "['BK News Channel', 'VIDEO_PLAYERS', '4.6', '277', '6.8M', '10,000+', 'Free', '0', 'Everyone', 'Video Players & Editors', 'July 16, 2016', '1.01', '2.3 and up']\n",
      "\n",
      "\n",
      "['BR Video Player', 'VIDEO_PLAYERS', '4.0', '46', '3.1M', '5,000+', 'Free', '0', 'Everyone', 'Video Players & Editors', 'April 20, 2015', '1.0.6', '3.0 and up']\n",
      "\n",
      "\n",
      "['BR Series', 'VIDEO_PLAYERS', '3.9', '1016', '13M', '50,000+', 'Free', '0', 'Teen', 'Video Players & Editors', 'May 28, 2018', '6.0', '4.1 and up']\n",
      "\n",
      "\n",
      "['CINE BR', 'VIDEO_PLAYERS', 'NaN', '23', '7.5M', '1,000+', 'Free', '0', 'Everyone', 'Video Players & Editors', 'March 29, 2018', '1', '4.2 and up']\n",
      "\n",
      "\n",
      "['iPlayIT for YouTube VR Player', 'VIDEO_PLAYERS', '4.3', '5879', 'Varies with device', '1,000,000+', 'Free', '0', 'Teen', 'Video Players & Editors', 'June 12, 2018', 'Varies with device', '4.1 and up']\n",
      "\n",
      "\n",
      "['BSPlayer FREE', 'VIDEO_PLAYERS', '4.3', '138337', 'Varies with device', '10,000,000+', 'Free', '0', 'Everyone', 'Video Players & Editors', 'April 3, 2018', 'Varies with device', 'Varies with device']\n",
      "\n",
      "\n",
      "['BSPlayer ARMv7 VFP CPU support', 'VIDEO_PLAYERS', '4.3', '9966', '5.5M', '1,000,000+', 'Free', '0', 'Everyone', 'Video Players & Editors', 'March 31, 2017', '1.23', '2.1 and up']\n",
      "\n",
      "\n",
      "['BS player remote', 'VIDEO_PLAYERS', '3.5', '54', '186k', '10,000+', 'Free', '0', 'Everyone', 'Video Players & Editors', 'April 22, 2013', '1.0', '2.2 and up']\n",
      "\n",
      "\n",
      "['BitTorrent®- Torrent Downloads', 'VIDEO_PLAYERS', '4.5', '641219', 'Varies with device', '10,000,000+', 'Free', '0', 'Everyone', 'Video Players & Editors', 'July 26, 2018', '5.2.2', '4.1 and up']\n",
      "\n",
      "\n",
      "['Bx-WiFi-GI', 'VIDEO_PLAYERS', 'NaN', '0', '21M', '100+', 'Free', '0', 'Everyone', 'Video Players & Editors', 'August 15, 2017', '1.3.6', '4.1 and up']\n",
      "\n",
      "\n",
      "['BZ Langenthaler Tagblatt', 'VIDEO_PLAYERS', 'NaN', '22', '8.5M', '1,000+', 'Free', '0', 'Everyone', 'Video Players & Editors', 'August 3, 2018', '7.5.9.1', '4.1 and up']\n",
      "\n",
      "\n",
      "['Nero AirBurn', 'VIDEO_PLAYERS', '4.2', '1008', '1.7M', '100,000+', 'Free', '0', 'Everyone', 'Video Players & Editors', 'June 26, 2015', '1.0.9', '4.0 and up']\n",
      "\n",
      "\n",
      "['CI Stream', 'VIDEO_PLAYERS', 'NaN', '0', '14M', '10+', 'Free', '0', 'Everyone', 'Video Players & Editors', 'July 12, 2018', '1.0', '4.4 and up']\n",
      "\n",
      "\n",
      "['CJ Camcorder', 'VIDEO_PLAYERS', '4.7', '3', '2.8M', '500+', 'Free', '0', 'Everyone', 'Video Players & Editors', 'November 26, 2017', '1.0', '4.0 and up']\n",
      "\n",
      "\n",
      "['CJ VLC HD Remote (+ Stream)', 'VIDEO_PLAYERS', '4.2', '4074', '1.3M', '500,000+', 'Free', '0', 'Everyone', 'Video Players & Editors', 'November 13, 2013', '1.2.4', '2.1 and up']\n",
      "\n",
      "\n",
      "['ACTIVEON CX & CX GOLD', 'VIDEO_PLAYERS', '3.3', '439', '35M', '50,000+', 'Free', '0', 'Everyone', 'Video Players & Editors', 'March 4, 2016', '0.7.9', '4.0 and up']\n",
      "\n",
      "\n",
      "['CX Monthly Tech News', 'VIDEO_PLAYERS', 'NaN', '2', '6.9M', '500+', 'Free', '0', 'Everyone', 'Video Players & Editors', 'June 9, 2016', '6.1.0', '4.0 and up']\n",
      "\n",
      "\n",
      "['DG UPnP Player Free', 'VIDEO_PLAYERS', '3.2', '39', '12M', '10,000+', 'Free', '0', 'Everyone', 'Video Players & Editors', 'March 18, 2016', '2.0', '4.0.3 and up']\n",
      "\n",
      "\n",
      "['DG Screen Recorder', 'VIDEO_PLAYERS', '3.3', '12', '2.9M', '500+', 'Free', '0', 'Everyone', 'Video Players & Editors', 'October 20, 2015', '1.7', '5.0 and up']\n",
      "\n",
      "\n",
      "['DG Video Editor', 'VIDEO_PLAYERS', '4.0', '486', '2.5M', '10,000+', 'Free', '0', 'Everyone', 'Video Players & Editors', 'September 6, 2016', '1.0.3', '4.4 and up']\n",
      "\n",
      "\n",
      "['Video Downloader - for Instagram Repost App', 'VIDEO_PLAYERS', '4.8', '332623', '4.6M', '10,000,000+', 'Free', '0', 'Everyone', 'Video Players & Editors', 'July 27, 2018', '1.1.58', '4.1 and up']\n",
      "\n",
      "\n",
      "['Quik – Free Video Editor for photos, clips, music', 'VIDEO_PLAYERS', '4.7', '696665', '91M', '10,000,000+', 'Free', '0', 'Everyone', 'Video Players & Editors', 'July 5, 2018', '4.7.4.3869-7b2372c3e', '5.0 and up']\n",
      "\n",
      "\n",
      "['FrostWire: Torrent Downloader & Music Player', 'VIDEO_PLAYERS', '4.1', '253207', '13M', '10,000,000+', 'Free', '0', 'Everyone', 'Video Players & Editors', 'August 2, 2018', '2.0.7', '4.4 and up']\n",
      "\n",
      "\n",
      "['Inst Download - Video & Photo', 'VIDEO_PLAYERS', '4.6', '148715', '3.3M', '10,000,000+', 'Free', '0', 'Everyone', 'Video Players & Editors', 'December 20, 2017', '2.0', '4.0 and up']\n",
      "\n",
      "\n",
      "['Vuze Torrent Downloader', 'VIDEO_PLAYERS', '4.1', '24565', '5.5M', '1,000,000+', 'Free', '0', 'Everyone', 'Video Players & Editors', 'March 4, 2016', '2.1', '2.3.3 and up']\n",
      "\n",
      "\n",
      "['AndStream - Streaming Download', 'VIDEO_PLAYERS', '4.3', '38607', '2.9M', '1,000,000+', 'Free', '0', 'Everyone', 'Video Players & Editors', 'March 19, 2017', '3.1.8', '2.3 and up']\n",
      "\n",
      "\n",
      "['DR TV', 'VIDEO_PLAYERS', '3.3', '6716', '4.7M', '500,000+', 'Free', '0', 'Mature 17+', 'Video Players & Editors', 'June 25, 2018', '3.0.6', '4.4 and up']\n",
      "\n",
      "\n",
      "['DS photo', 'VIDEO_PLAYERS', '3.8', '7335', 'Varies with device', '1,000,000+', 'Free', '0', 'Everyone', 'Video Players & Editors', 'July 17, 2018', 'Varies with device', 'Varies with device']\n",
      "\n",
      "\n",
      "['DS video', 'VIDEO_PLAYERS', '3.8', '12443', 'Varies with device', '1,000,000+', 'Free', '0', 'Everyone', 'Video Players & Editors', 'August 6, 2018', 'Varies with device', 'Varies with device']\n",
      "\n",
      "\n",
      "['DU Privacy-hide apps、sms、file', 'VIDEO_PLAYERS', '4.4', '21762', 'Varies with device', '1,000,000+', 'Free', '0', 'Everyone', 'Video Players & Editors', 'August 16, 2017', 'Varies with device', '4.0.3 and up']\n",
      "\n",
      "\n",
      "['iSmart DV', 'VIDEO_PLAYERS', '3.6', '5692', '31M', '1,000,000+', 'Free', '0', 'Everyone', 'Video Players & Editors', 'July 27, 2018', 'R1.4.14.B1.4', '4.1 and up']\n",
      "\n",
      "\n",
      "['dv Prompter', 'VIDEO_PLAYERS', '3.7', '321', '1.3M', '50,000+', 'Free', '0', 'Everyone', 'Video Players & Editors', 'March 14, 2017', '1.2.9', '4.2 and up']\n",
      "\n",
      "\n",
      "['DV Lottery Photo', 'VIDEO_PLAYERS', '2.9', '23', '4.0M', '5,000+', 'Free', '0', 'Everyone', 'Video Players & Editors', 'December 16, 2016', '1.1', '3.0 and up']\n",
      "\n",
      "\n",
      "['MelifeCam-M', 'VIDEO_PLAYERS', '3.5', '81', '22M', '10,000+', 'Free', '0', 'Everyone', 'Video Players & Editors', 'July 21, 2016', 'R1.3.21.3', '4.1 and up']\n",
      "\n",
      "\n",
      "['GoPlus Cam', 'VIDEO_PLAYERS', '3.5', '3484', '41M', '500,000+', 'Free', '0', 'Everyone', 'Video Players & Editors', 'December 18, 2017', '3.0.1', '4.0.3 and up']\n",
      "\n",
      "\n",
      "['GoAction', 'VIDEO_PLAYERS', '3.6', '1522', '65M', '100,000+', 'Free', '0', 'Everyone', 'Video Players & Editors', 'July 17, 2018', 'V1.5.3', '4.4 and up']\n",
      "\n",
      "\n",
      "['4K VIDEO PLAYER ULTRA HD', 'VIDEO_PLAYERS', '3.7', '20', '24M', '5,000+', 'Free', '0', 'Everyone', 'Video Players & Editors', 'May 1, 2017', '7.0', '2.3.3 and up']\n",
      "\n",
      "\n",
      "['Downvids Helper - One touch DW', 'VIDEO_PLAYERS', '3.5', '197', '9.8M', '10,000+', 'Free', '0', 'Everyone', 'Video Players & Editors', 'February 5, 2017', '1.0', '4.0.3 and up']\n",
      "\n",
      "\n",
      "['DZ Popup Video Player', 'VIDEO_PLAYERS', '4.5', '83', '4.5M', '5,000+', 'Free', '0', 'Everyone', 'Video Players & Editors', 'May 16, 2018', '4.6', '4.1 and up']\n",
      "\n",
      "\n",
      "['EC MANAGER', 'VIDEO_PLAYERS', 'NaN', '2', '17M', '100+', 'Free', '0', 'Everyone', 'Video Players & Editors', 'June 13, 2018', '8.3.13.6', '4.1 and up']\n",
      "\n",
      "\n",
      "['EF Sidekick', 'VIDEO_PLAYERS', '3.1', '36', 'Varies with device', '5,000+', 'Free', '0', 'Everyone', 'Video Players & Editors', 'March 20, 2017', 'Varies with device', 'Varies with device']\n",
      "\n",
      "\n",
      "['ek tuhi', 'VIDEO_PLAYERS', '4.7', '316', '2.8M', '10,000+', 'Free', '0', 'Everyone', 'Video Players & Editors', 'July 4, 2014', '1.0', '4.0 and up']\n",
      "\n",
      "\n",
      "['Naruto Shippuden - Watch Free!', 'VIDEO_PLAYERS', '3.9', '141515', '5.7M', '10,000,000+', 'Free', '0', 'Teen', 'Video Players & Editors', 'April 23, 2014', '0.6.0', '2.3 and up']\n",
      "\n",
      "\n",
      "['ES Audio Player ( Shortcut )', 'VIDEO_PLAYERS', '4.2', '1236', '33k', '100,000+', 'Free', '0', 'Everyone', 'Video Players & Editors', 'July 17, 2013', '1.1', '2.2 and up']\n",
      "\n",
      "\n",
      "['Furrion ES Control', 'VIDEO_PLAYERS', '1.8', '26', '2.7M', '5,000+', 'Free', '0', 'Everyone', 'Video Players & Editors', 'September 29, 2016', '1.0', '4.2 and up']\n",
      "\n",
      "\n",
      "['ES-IPTV', 'VIDEO_PLAYERS', '4.0', '944', '11M', '50,000+', 'Free', '0', 'Everyone', 'Video Players & Editors', 'October 15, 2017', '4.2.1', '4.1 and up']\n",
      "\n",
      "\n",
      "['EZCast – Cast Media to TV', 'VIDEO_PLAYERS', '3.6', '32112', 'Varies with device', '1,000,000+', 'Free', '0', 'Everyone', 'Video Players & Editors', 'July 4, 2018', 'Varies with device', 'Varies with device']\n",
      "\n",
      "\n",
      "['EZ Web Video Cast | Chromecast', 'VIDEO_PLAYERS', '4.1', '1276', '4.6M', '100,000+', 'Free', '0', 'Everyone', 'Video Players & Editors', 'December 14, 2017', '1.0', '4.4 and up']\n",
      "\n",
      "\n",
      "['EZ-SEE', 'VIDEO_PLAYERS', '2.8', '71', '10M', '10,000+', 'Free', '0', 'Everyone', 'Video Players & Editors', 'July 18, 2018', '3.08', '5.0 and up']\n",
      "\n",
      "\n",
      "['EZ TV Player', 'VIDEO_PLAYERS', '3.5', '51', '11M', '10,000+', 'Free', '0', 'Everyone', 'Video Players & Editors', 'June 26, 2018', '8.0.9', '5.0 and up']\n",
      "\n",
      "\n",
      "['EZ Usenet for Easynews®', 'VIDEO_PLAYERS', '3.9', '244', 'Varies with device', '10,000+', 'Free', '0', 'Everyone', 'Video Players & Editors', 'June 23, 2016', 'Varies with device', 'Varies with device']\n",
      "\n",
      "\n",
      "['EZ game screen recorder with audio 1080P', 'VIDEO_PLAYERS', '4.1', '40', '3.9M', '1,000+', 'Free', '0', 'Everyone', 'Video Players & Editors', 'July 13, 2017', '1.0.0', '5.0 and up']\n",
      "\n",
      "\n",
      "['Videos downloader for Facebook:fast fb video saver', 'VIDEO_PLAYERS', '4.3', '20', '5.1M', '5,000+', 'Free', '0', 'Everyone', 'Video Players & Editors', 'April 27, 2018', '1.0.0', '4.0.3 and up']\n",
      "\n",
      "\n",
      "['Video Downloader for FB : Video Download with Link', 'VIDEO_PLAYERS', '4.5', '1060', '3.2M', '100,000+', 'Free', '0', 'Everyone', 'Video Players & Editors', 'December 20, 2017', '2.1', '4.0 and up']\n"
     ]
    },
    {
     "name": "stdout",
     "output_type": "stream",
     "text": [
      "\n",
      "\n",
      "['HD VideoDownlaoder For Fb : XXVideo Downloader', 'VIDEO_PLAYERS', '4.2', '61', '6.1M', '10,000+', 'Free', '0', 'Everyone', 'Video Players & Editors', 'July 30, 2018', '1.0.3', '4.0.3 and up']\n",
      "\n",
      "\n",
      "['HD Video Download for Facebook', 'VIDEO_PLAYERS', '4.4', '20755', '17M', '1,000,000+', 'Free', '0', 'Everyone', 'Video Players & Editors', 'March 16, 2018', '4.0.3', '4.1 and up']\n",
      "\n",
      "\n",
      "['Art of F J Taylor', 'VIDEO_PLAYERS', 'NaN', '2', '1.5M', '10+', 'Free', '0', 'Everyone', 'Video Players & Editors', 'June 23, 2015', '1.0.2', '4.3 and up']\n",
      "\n",
      "\n",
      "['Motorola FM Radio', 'VIDEO_PLAYERS', '3.9', '54815', 'Varies with device', '100,000,000+', 'Free', '0', 'Everyone', 'Video Players & Editors', 'May 2, 2018', 'Varies with device', 'Varies with device']\n",
      "\n",
      "\n",
      "['List iptv FR', 'VIDEO_PLAYERS', 'NaN', '1', '2.9M', '100+', 'Free', '0', 'Everyone', 'Video Players & Editors', 'April 22, 2018', '1.0', '4.0.3 and up']\n",
      "\n",
      "\n"
     ]
    }
   ],
   "source": [
    "for app in android_final:\n",
    "    if app[1] == 'VIDEO_PLAYERS':\n",
    "        print(app)\n",
    "        print('\\n')"
   ]
  },
  {
   "cell_type": "markdown",
   "metadata": {},
   "source": [
    "O mesmo comportamento ocorre na categoria VIDEO_PLAYERS, com números inflados por conta das gigantes como YouTube, VLC, VivaVideo, etc."
   ]
  },
  {
   "cell_type": "markdown",
   "metadata": {},
   "source": [
    "No conjunto de dados do Google Play, as categorias Business e Lifestyle também possuem poucas instalações. Entretanto, a quantidade concorrentes é um pouco maior que o encontrado na App Store."
   ]
  },
  {
   "cell_type": "markdown",
   "metadata": {},
   "source": [
    "## Conclusão"
   ]
  },
  {
   "cell_type": "markdown",
   "metadata": {},
   "source": [
    "Em nenhuma categoria é fácil de se inserir e criar um aplicativo de sucesso. Algumas já estão saturadas e outras ainda possuem espaço para competição. Foi o caso encontrado na categoria Business e Lifestyle. Essas categorias possuem poucas instalações e poucos concorrentes. São também categorias que podem prender a atenção do usuário, fazendo assim com que fique mais propenso a clicar em uma propaganda, ação essa que gera a fonte de renda para empresa. Uma estratégia válida então seria entrar nesse nicho, pois acredito possuir boas oportunidades. "
   ]
  }
 ],
 "metadata": {
  "kernelspec": {
   "display_name": "Python 3",
   "language": "python",
   "name": "python3"
  },
  "language_info": {
   "codemirror_mode": {
    "name": "ipython",
    "version": 3
   },
   "file_extension": ".py",
   "mimetype": "text/x-python",
   "name": "python",
   "nbconvert_exporter": "python",
   "pygments_lexer": "ipython3",
   "version": "3.8.5"
  }
 },
 "nbformat": 4,
 "nbformat_minor": 4
}
