{
 "cells": [
  {
   "cell_type": "markdown",
   "metadata": {},
   "source": [
    "# Análise de dados para empresa desenvolvedora de aplicativos móveis"
   ]
  },
  {
   "cell_type": "markdown",
   "metadata": {},
   "source": [
    "Para este projeto, vamos simular que estamos trabalhando como analistas de dados para uma empresa que desenvolve aplicativos móveis (daqui pra frente vou chamá-los de app’s)  Android e iOS. Nossos apps são disponibilizados no Google Play e na App Store.\n",
    "\n",
    "Nós construímos apps que são grátis para baixar e instalar, e nossa principal fonte de receita são as publicidades (ads) dentro dos aplicativos. Isso quer dizer que nossa receita é influenciada pelo número de usuários que usam nosso aplicativo, ou seja, quanto mais usuários olham e clicam nas propagandas, melhor.\n",
    "\n",
    "O objetivo desse projeto é praticar as ferramentas e conceitos aprendidas no curso “dataquestio link” como por exemplo:\n",
    "\n",
    "- O básico de programação em Python (operações aritiméticas, variáveis, tipo de dados, etc.)\n",
    "- lista e estrutra de repetição for\n",
    "- condicionais\n",
    "- dicionários e tabela de frequência\n",
    "- funções\n",
    "- Jupyter notebook\n",
    "- Exploração de dados\n",
    "- Limpeza de dados\n",
    "- Análise de dados"
   ]
  },
  {
   "cell_type": "markdown",
   "metadata": {},
   "source": [
    "## Funções auxiliares para a análise"
   ]
  },
  {
   "cell_type": "markdown",
   "metadata": {},
   "source": [
    "Nessa seção ficarão as funções auxiliares que foram criadas para ajudar na análise."
   ]
  },
  {
   "cell_type": "code",
   "execution_count": 1,
   "metadata": {},
   "outputs": [],
   "source": [
    "def csv_to_list(path, encoding='utf-8'):\n",
    "    file_csv = open(path, encoding=encoding )\n",
    "    from csv import reader\n",
    "    \n",
    "    return list(reader(file_csv))"
   ]
  },
  {
   "cell_type": "code",
   "execution_count": 2,
   "metadata": {},
   "outputs": [],
   "source": [
    "# return header and dataset without header\n",
    "def remove_header(dataset_list):\n",
    "    return dataset_list[0], dataset_list[1:]"
   ]
  },
  {
   "cell_type": "code",
   "execution_count": 3,
   "metadata": {},
   "outputs": [],
   "source": [
    "def explore_data(dataset, start, end, rows_and_columns=False):\n",
    "    dataset_slice = dataset[start:end]    \n",
    "    for row in dataset_slice:\n",
    "        print(row)\n",
    "        print('\\n') # adds a new (empty) line after each row\n",
    "\n",
    "    if rows_and_columns:\n",
    "        print('Número de linhas:', len(dataset))\n",
    "        print('Número de colunas:', len(dataset[0]))"
   ]
  },
  {
   "cell_type": "markdown",
   "metadata": {},
   "source": [
    "## Abrindo os arquivos e explorando os dados"
   ]
  },
  {
   "cell_type": "markdown",
   "metadata": {},
   "source": [
    "Para a análise serão utilizados 2 datasets: um da App Store e outro da Google Play.\n",
    "Eles estão no formato csv, então abriremos e converteremos para lista utilizando a função auxiliar csv_to_list."
   ]
  },
  {
   "cell_type": "code",
   "execution_count": 4,
   "metadata": {},
   "outputs": [],
   "source": [
    "apple_list = csv_to_list('data/AppleStore.csv')\n",
    "google_list = csv_to_list('data/googleplaystore.csv')"
   ]
  },
  {
   "cell_type": "markdown",
   "metadata": {},
   "source": [
    "Os arquivos possuem cabeçalho, então para facilitar a análise o cabeçalho será separado dos dados."
   ]
  },
  {
   "cell_type": "code",
   "execution_count": 5,
   "metadata": {},
   "outputs": [],
   "source": [
    "apple_header, apple_list = remove_header(apple_list)\n",
    "google_header, google_list = remove_header(google_list)"
   ]
  },
  {
   "cell_type": "markdown",
   "metadata": {},
   "source": [
    "Com os dados devidamente separados, vamos deixar registrado o que significa cada coluna com a sua respectiva descrição.\n"
   ]
  },
  {
   "cell_type": "code",
   "execution_count": 6,
   "metadata": {},
   "outputs": [
    {
     "name": "stdout",
     "output_type": "stream",
     "text": [
      "['id', 'track_name', 'size_bytes', 'currency', 'price', 'rating_count_tot', 'rating_count_ver', 'user_rating', 'user_rating_ver', 'ver', 'cont_rating', 'prime_genre', 'sup_devices.num', 'ipadSc_urls.num', 'lang.num', 'vpp_lic']\n"
     ]
    }
   ],
   "source": [
    "print(apple_header)"
   ]
  },
  {
   "cell_type": "markdown",
   "metadata": {},
   "source": [
    "|Coluna          | Descrição                                       |\n",
    "|--------------- | ----------------------------------------------- |\n",
    "|id              | Identificador do aplicativo                                           |\n",
    "|track_name      | Nome do aplicativo                                                    |\n",
    "|size_bytes      | Tamanho (em Bytes)                                                    |\n",
    "|currency        | Moeda                                                                 |\n",
    "|price           | Preço                                                                 |\n",
    "|ratingcounttot  | Quantidade de classificações de usuário (para todas as versões do app)|\n",
    "|ratingcountver  | Quantidade de classificações de usuário (para a versão atual do app)  |\n",
    "|user_rating     | Nota média da avaliação do usuário (for all version)                  |\n",
    "|userratingver   | Nota média da avaliação do usuário (para a versão atual do app)       |\n",
    "|ver             | Última versão do app                                                  |\n",
    "|cont_rating     | Classificação do conteúdo                                             |\n",
    "|prime_genre     | Gênero primário                                                       |\n",
    "|sup_devices.num | Quantidade de dispositivos suportados                                 |\n",
    "|ipadSc_urls.num | Quantidade de captura de telas mostradas por exibição                 |\n",
    "|lang.num        | Quantidade de idiomas suportados                                      |\n",
    "|vpp_lic         | Licenciamento baseado em dispositivo Vpp ativado 1-Sim 0-Não          |\n",
    "\n",
    "Fonte dos dados da App Store: [Kaggle Mobile App Store](https://www.kaggle.com/ramamet4/app-store-apple-data-set-10k-apps)"
   ]
  },
  {
   "cell_type": "markdown",
   "metadata": {},
   "source": [
    "Imprimindo alguns exemplos de dados do conjunto App Store."
   ]
  },
  {
   "cell_type": "code",
   "execution_count": 7,
   "metadata": {},
   "outputs": [
    {
     "name": "stdout",
     "output_type": "stream",
     "text": [
      "['284882215', 'Facebook', '389879808', 'USD', '0.0', '2974676', '212', '3.5', '3.5', '95.0', '4+', 'Social Networking', '37', '1', '29', '1']\n",
      "\n",
      "\n",
      "['389801252', 'Instagram', '113954816', 'USD', '0.0', '2161558', '1289', '4.5', '4.0', '10.23', '12+', 'Photo & Video', '37', '0', '29', '1']\n",
      "\n",
      "\n",
      "['529479190', 'Clash of Clans', '116476928', 'USD', '0.0', '2130805', '579', '4.5', '4.5', '9.24.12', '9+', 'Games', '38', '5', '18', '1']\n",
      "\n",
      "\n",
      "['420009108', 'Temple Run', '65921024', 'USD', '0.0', '1724546', '3842', '4.5', '4.0', '1.6.2', '9+', 'Games', '40', '5', '1', '1']\n",
      "\n",
      "\n",
      "['284035177', 'Pandora - Music & Radio', '130242560', 'USD', '0.0', '1126879', '3594', '4.0', '4.5', '8.4.1', '12+', 'Music', '37', '4', '1', '1']\n",
      "\n",
      "\n",
      "Número de linhas: 7197\n",
      "Número de colunas: 16\n",
      "None\n"
     ]
    }
   ],
   "source": [
    "print(explore_data(apple_list, 0, 5, True))"
   ]
  },
  {
   "cell_type": "markdown",
   "metadata": {},
   "source": [
    "Em um primeiro momento, as colunas mais relevantes identificadas são:\n",
    "- track_name\n",
    "- size_bytes\n",
    "- price (somente os grátis)\n",
    "- user_rating\n",
    "- cont_rating\n",
    "- prime_genre\n",
    "- sup_devices.num\n",
    "- lang.num"
   ]
  },
  {
   "cell_type": "markdown",
   "metadata": {},
   "source": [
    "Agora verificaremos as informações para os dados do Google Play:"
   ]
  },
  {
   "cell_type": "code",
   "execution_count": 8,
   "metadata": {},
   "outputs": [
    {
     "name": "stdout",
     "output_type": "stream",
     "text": [
      "['App', 'Category', 'Rating', 'Reviews', 'Size', 'Installs', 'Type', 'Price', 'Content Rating', 'Genres', 'Last Updated', 'Current Ver', 'Android Ver']\n"
     ]
    }
   ],
   "source": [
    "print(google_header)"
   ]
  },
  {
   "cell_type": "markdown",
   "metadata": {},
   "source": [
    "|Column | Description|\n",
    "|-------|------------|\n",
    "|App | Nome do aplicativo|\n",
    "|Category | Categoria principal |\n",
    "|Rating | Avaliação |\n",
    "|Reviews | Quantidade de avaliações|\n",
    "|Size | Tamanho do app|\n",
    "|Installs | Quantidade de downlodas/instalações do app|\n",
    "|Type | Tipo: Pago ou grátis (Paid or Free)|\n",
    "|Price | Preço do aplicativo|\n",
    "|Content Rating | Classificação de conteúdo. Ex: Livre, maiores de 18 anos, etc.|\n",
    "|Genres | Gênero. Um app pode pertencer a vários gêneros. Exemplo um jogo musical pode pertencer aos gêneros Música, Jogo, Família|\n",
    "|Last Updated | Data de quando o app foi atualizado pela última vez.|\n",
    "|Current Ver | Versão atual do app no Google Play|\n",
    "|Android Ver | Versão mínima requirida do Android|\n",
    "\n",
    "\n",
    "Fonte dos dados da Google Play: [Kaggle Google Play Store Apps](https://www.kaggle.com/lava18/google-play-store-apps)"
   ]
  },
  {
   "cell_type": "markdown",
   "metadata": {},
   "source": [
    "Imprimindo alguns exemplos de dados do conjunto App Store."
   ]
  },
  {
   "cell_type": "code",
   "execution_count": 9,
   "metadata": {},
   "outputs": [
    {
     "name": "stdout",
     "output_type": "stream",
     "text": [
      "\n",
      "\n",
      "['Photo Editor & Candy Camera & Grid & ScrapBook', 'ART_AND_DESIGN', '4.1', '159', '19M', '10,000+', 'Free', '0', 'Everyone', 'Art & Design', 'January 7, 2018', '1.0.0', '4.0.3 and up']\n",
      "\n",
      "\n",
      "['Coloring book moana', 'ART_AND_DESIGN', '3.9', '967', '14M', '500,000+', 'Free', '0', 'Everyone', 'Art & Design;Pretend Play', 'January 15, 2018', '2.0.0', '4.0.3 and up']\n",
      "\n",
      "\n",
      "['U Launcher Lite – FREE Live Cool Themes, Hide Apps', 'ART_AND_DESIGN', '4.7', '87510', '8.7M', '5,000,000+', 'Free', '0', 'Everyone', 'Art & Design', 'August 1, 2018', '1.2.4', '4.0.3 and up']\n",
      "\n",
      "\n",
      "['Sketch - Draw & Paint', 'ART_AND_DESIGN', '4.5', '215644', '25M', '50,000,000+', 'Free', '0', 'Teen', 'Art & Design', 'June 8, 2018', 'Varies with device', '4.2 and up']\n",
      "\n",
      "\n",
      "['Pixel Draw - Number Art Coloring Book', 'ART_AND_DESIGN', '4.3', '967', '2.8M', '100,000+', 'Free', '0', 'Everyone', 'Art & Design;Creativity', 'June 20, 2018', '1.1', '4.4 and up']\n",
      "\n",
      "\n",
      "Número de linhas: 10841\n",
      "Número de colunas: 13\n",
      "None\n"
     ]
    }
   ],
   "source": [
    "print('\\n')\n",
    "print(explore_data(google_list, 0, 5, True))"
   ]
  },
  {
   "cell_type": "markdown",
   "metadata": {},
   "source": [
    "Para o conjunto de dados do Google Play, foi identificado que as colunas abaixo são mais relevantes.\n",
    "- app\n",
    "- category\n",
    "- rating\n",
    "- size\n",
    "- type\n",
    "- content rating\n",
    "- genres"
   ]
  },
  {
   "cell_type": "markdown",
   "metadata": {},
   "source": [
    "Identifiquei também que os arquivos `AppleStore.csv` e `googleplaystore.csv` contém layout e informações diferentes."
   ]
  },
  {
   "cell_type": "markdown",
   "metadata": {},
   "source": [
    "## Data Cleaning (Limpeza dos dados)"
   ]
  },
  {
   "cell_type": "markdown",
   "metadata": {},
   "source": [
    "\"*O processo para preparar os dados para análise é chamado de limpeza de dados (Data Cleaning). A limpeza dos dados é feita antes da análise dos dados. O processo inclui remover ou corrigir dados inconsistentes, removendo dados duplicados e modificando os dados para o proṕosito da análise.*\n",
    "\n",
    "*Costuma-se dizer que os cientistas de dados gatam cerca de 80% de seu tempo limpando dados e apenas 20% realmente analisando. Nesse projeto veremos que isso não está longe da verdade*\""
   ]
  },
  {
   "cell_type": "markdown",
   "metadata": {},
   "source": [
    "No passo anterior, abri os dois datasets e fiz uma breve exploração dos dados. Nesse passo, verificarei algumas inconsistências nos dados e realizarei o ajuste/limpeza nos dados."
   ]
  },
  {
   "cell_type": "markdown",
   "metadata": {},
   "source": [
    "### Removendo dados incorretos"
   ]
  },
  {
   "cell_type": "markdown",
   "metadata": {},
   "source": [
    "O conjunto de dados do Google Play possui uma [sessão de discussão](https://www.kaggle.com/lava18/google-play-store-apps/discussion) e [uma dessas discussões](https://www.kaggle.com/lava18/google-play-store-apps/discussion/66015) descreve um erro para a linha 10472."
   ]
  },
  {
   "cell_type": "markdown",
   "metadata": {},
   "source": [
    "\n",
    "\n",
    ">**Wrong rating for entry 10472**\n",
    ">\n",
    "> this entry has missing 'Rating' and a column shift happened for next columns..\n",
    "10472 Life Made WI-Fi Touchscreen Photo Frame 1.9 19.0 3.0M 1,000+ Free 0 Everyone NaN February 11, 2018 1.0.19 4.0 and up NaN"
   ]
  },
  {
   "cell_type": "markdown",
   "metadata": {},
   "source": [
    "Na linha 10472 faltou a informação do 'Rating' fazendo com que a coluna 'Rating' recebesse a infromação da coluna 'Reviews'. Assim sucessivamente as outras colunas ficaram com dados errados."
   ]
  },
  {
   "cell_type": "markdown",
   "metadata": {},
   "source": [
    "Vamos comparar a quantidade de colunas do registro de **indice 10472** com a quantidade de colunas do registro de **indice 0**."
   ]
  },
  {
   "cell_type": "code",
   "execution_count": 10,
   "metadata": {},
   "outputs": [
    {
     "name": "stdout",
     "output_type": "stream",
     "text": [
      "12\n"
     ]
    }
   ],
   "source": [
    "print(len(google_list[10472]))"
   ]
  },
  {
   "cell_type": "code",
   "execution_count": 11,
   "metadata": {},
   "outputs": [
    {
     "name": "stdout",
     "output_type": "stream",
     "text": [
      "13\n"
     ]
    }
   ],
   "source": [
    "print(len(google_list[0]))"
   ]
  },
  {
   "cell_type": "markdown",
   "metadata": {},
   "source": [
    "De fato, falta o registro em uma coluna no indice 10472, pois no **indice 10472 temos 12 colunas** e no **indice 0 temos 13 colunas**."
   ]
  },
  {
   "cell_type": "markdown",
   "metadata": {},
   "source": [
    "Dessa forma será necessário remover o registro de indice 10472."
   ]
  },
  {
   "cell_type": "code",
   "execution_count": 12,
   "metadata": {},
   "outputs": [],
   "source": [
    "del(google_list[10472])"
   ]
  },
  {
   "cell_type": "markdown",
   "metadata": {},
   "source": [
    "### Removendo registros duplicados"
   ]
  },
  {
   "cell_type": "markdown",
   "metadata": {},
   "source": [
    "Podemos verificar no dataset do Google Play se existem registros duplicados:"
   ]
  },
  {
   "cell_type": "code",
   "execution_count": 13,
   "metadata": {},
   "outputs": [
    {
     "name": "stdout",
     "output_type": "stream",
     "text": [
      "Quantidade duplicada:  1181\n",
      "Exemplos duplicados:  ['Quick PDF Scanner + OCR FREE', 'Box', 'Google My Business', 'ZOOM Cloud Meetings', 'join.me - Simple Meetings', 'Box', 'Zenefits', 'Google Ads', 'Google My Business', 'Slack']\n"
     ]
    }
   ],
   "source": [
    "duplicate_apps = []\n",
    "unique_apps = []\n",
    "\n",
    "for app in google_list:\n",
    "    name = app[0]\n",
    "    if name in unique_apps:\n",
    "        duplicate_apps.append(name)\n",
    "    else:\n",
    "        unique_apps.append(name)\n",
    "\n",
    "print(\"Quantidade duplicada: \", len(duplicate_apps))\n",
    "print(\"Exemplos duplicados: \", duplicate_apps[:10])"
   ]
  },
  {
   "cell_type": "markdown",
   "metadata": {},
   "source": [
    "O resultado anterior mostra que existem algumas duplicidades de registros. Pegaremos como exemplo o app Slack e verificaremos quantas vezes ele aparece duplicado."
   ]
  },
  {
   "cell_type": "code",
   "execution_count": 14,
   "metadata": {},
   "outputs": [
    {
     "name": "stdout",
     "output_type": "stream",
     "text": [
      "['Slack', 'BUSINESS', '4.4', '51507', 'Varies with device', '5,000,000+', 'Free', '0', 'Everyone', 'Business', 'August 2, 2018', 'Varies with device', 'Varies with device']\n",
      "['Slack', 'BUSINESS', '4.4', '51507', 'Varies with device', '5,000,000+', 'Free', '0', 'Everyone', 'Business', 'August 2, 2018', 'Varies with device', 'Varies with device']\n",
      "['Slack', 'BUSINESS', '4.4', '51510', 'Varies with device', '5,000,000+', 'Free', '0', 'Everyone', 'Business', 'August 2, 2018', 'Varies with device', 'Varies with device']\n"
     ]
    }
   ],
   "source": [
    "for app in google_list:\n",
    "    name = app[0]\n",
    "    \n",
    "    if name == 'Slack':\n",
    "        print(app)"
   ]
  },
  {
   "cell_type": "markdown",
   "metadata": {},
   "source": [
    "O Slack aparece duplicado 3 vezes mudando apenas o valor na coluna de indice 3, que corresponde a quantide de Reviews. Dessa forma, podemos manter apenas o registro que tiver a maior quantidade de reviews, pois parece ser o mais recente, e descartar os outros."
   ]
  },
  {
   "cell_type": "code",
   "execution_count": 15,
   "metadata": {},
   "outputs": [
    {
     "name": "stdout",
     "output_type": "stream",
     "text": [
      "Quantidade esperada sem repetição:  9659\n"
     ]
    }
   ],
   "source": [
    "print('Quantidade esperada sem repetição: ', len(google_list) - len(duplicate_apps))"
   ]
  },
  {
   "cell_type": "code",
   "execution_count": 16,
   "metadata": {},
   "outputs": [
    {
     "name": "stdout",
     "output_type": "stream",
     "text": [
      "Quantidades únicas:  9659\n"
     ]
    }
   ],
   "source": [
    "reviews_max = {}\n",
    "\n",
    "for app in google_list:\n",
    "    name = app[0]\n",
    "    n_reviews = float(app[3])\n",
    "    \n",
    "    if name in reviews_max and reviews_max[name] < n_reviews:\n",
    "        reviews_max[name] = n_reviews\n",
    "    elif name not in reviews_max:\n",
    "        reviews_max[name] = n_reviews\n",
    "\n",
    "print('Quantidades únicas: ', len(reviews_max))"
   ]
  },
  {
   "cell_type": "markdown",
   "metadata": {},
   "source": [
    "Veja que o algoritmo funcionou pois o registro Slack ficou com a quantidade maior de reviews"
   ]
  },
  {
   "cell_type": "code",
   "execution_count": 17,
   "metadata": {},
   "outputs": [
    {
     "data": {
      "text/plain": [
       "51510.0"
      ]
     },
     "execution_count": 17,
     "metadata": {},
     "output_type": "execute_result"
    }
   ],
   "source": [
    "reviews_max['Slack']"
   ]
  },
  {
   "cell_type": "markdown",
   "metadata": {},
   "source": [
    "Com os registros únicos em mãos, o próximo passo é criar uma nova lista limpa e adicionar somente os registros únicos, com a maior quantidade de reviews"
   ]
  },
  {
   "cell_type": "code",
   "execution_count": 18,
   "metadata": {},
   "outputs": [
    {
     "name": "stdout",
     "output_type": "stream",
     "text": [
      "Nova lista:  9659\n"
     ]
    }
   ],
   "source": [
    "android_clean = []\n",
    "already_added = []\n",
    "\n",
    "for app in google_list:\n",
    "    name = app[0]\n",
    "    n_reviews = float(app[3])\n",
    "    \n",
    "    if name not in already_added:\n",
    "        if reviews_max[name] == n_reviews:\n",
    "            already_added.append(name)\n",
    "            android_clean.append(app)\n",
    "            \n",
    "print('Nova lista: ', len(android_clean))"
   ]
  },
  {
   "cell_type": "markdown",
   "metadata": {},
   "source": [
    "A nova lista possui 9659 registros únicos conforme esperado anteriormente."
   ]
  },
  {
   "cell_type": "markdown",
   "metadata": {},
   "source": [
    "### Removendo apps que não estão em inglês"
   ]
  },
  {
   "cell_type": "markdown",
   "metadata": {},
   "source": [
    "Como o estudo se refere a apps do idioma inglês, removerei os apps que não são desse idioma.\n",
    "Alguns exemplos:"
   ]
  },
  {
   "cell_type": "code",
   "execution_count": 19,
   "metadata": {},
   "outputs": [
    {
     "name": "stdout",
     "output_type": "stream",
     "text": [
      "爱奇艺PPS -《欢乐颂2》电视剧热播\n",
      "【脱出ゲーム】絶対に最後までプレイしないで 〜謎解き＆ブロックパズル〜\n"
     ]
    }
   ],
   "source": [
    "print(apple_list[813][1])\n",
    "print(apple_list[6731][1])"
   ]
  },
  {
   "cell_type": "markdown",
   "metadata": {},
   "source": [
    "Para facilitar o processo, crio uma função auxiliar para identificar se o título está inglês. Nesse caso, uma palavra será considerada em inglês se tiver mais que 3 letras fora do da tabela [ASCII](http://www.asciitable.com/)."
   ]
  },
  {
   "cell_type": "code",
   "execution_count": 20,
   "metadata": {},
   "outputs": [],
   "source": [
    "# Returns True if outside_letters < 3\n",
    "def is_english(title):\n",
    "    outside_letters = 0\n",
    "    \n",
    "    for letter in title:\n",
    "        if ord(letter) > 127:\n",
    "            outside_letters += 1\n",
    "            \n",
    "    return outside_letters <= 3"
   ]
  },
  {
   "cell_type": "code",
   "execution_count": 21,
   "metadata": {},
   "outputs": [
    {
     "name": "stdout",
     "output_type": "stream",
     "text": [
      "True\n",
      "False\n",
      "True\n",
      "True\n"
     ]
    }
   ],
   "source": [
    "# Teste da função\n",
    "print(is_english('Instagram'))\n",
    "print(is_english('爱奇艺PPS -《欢乐颂2》电视剧热播'))\n",
    "print(is_english('Docs To Go™ Free Office Suite'))\n",
    "print(is_english('Instachat 😜'))"
   ]
  },
  {
   "cell_type": "markdown",
   "metadata": {},
   "source": [
    "Com a função auxiliar criada, filtraremos apenas os app que tem o nome em inglês."
   ]
  },
  {
   "cell_type": "code",
   "execution_count": 22,
   "metadata": {},
   "outputs": [],
   "source": [
    "android_english = []\n",
    "ios_english = []\n",
    "\n",
    "for app in android_clean:\n",
    "    if is_english(app[0]):\n",
    "        android_english.append(app)\n",
    "        \n",
    "for app in apple_list:\n",
    "    if is_english(app[1]):\n",
    "        ios_english.append(app)"
   ]
  },
  {
   "cell_type": "code",
   "execution_count": 23,
   "metadata": {},
   "outputs": [
    {
     "name": "stdout",
     "output_type": "stream",
     "text": [
      "['Photo Editor & Candy Camera & Grid & ScrapBook', 'ART_AND_DESIGN', '4.1', '159', '19M', '10,000+', 'Free', '0', 'Everyone', 'Art & Design', 'January 7, 2018', '1.0.0', '4.0.3 and up']\n",
      "\n",
      "\n",
      "['U Launcher Lite – FREE Live Cool Themes, Hide Apps', 'ART_AND_DESIGN', '4.7', '87510', '8.7M', '5,000,000+', 'Free', '0', 'Everyone', 'Art & Design', 'August 1, 2018', '1.2.4', '4.0.3 and up']\n",
      "\n",
      "\n",
      "['Sketch - Draw & Paint', 'ART_AND_DESIGN', '4.5', '215644', '25M', '50,000,000+', 'Free', '0', 'Teen', 'Art & Design', 'June 8, 2018', 'Varies with device', '4.2 and up']\n",
      "\n",
      "\n",
      "Número de linhas: 9614\n",
      "Número de colunas: 13\n"
     ]
    }
   ],
   "source": [
    "explore_data(android_english, 0, 3, True)"
   ]
  },
  {
   "cell_type": "code",
   "execution_count": 24,
   "metadata": {},
   "outputs": [
    {
     "name": "stdout",
     "output_type": "stream",
     "text": [
      "['284882215', 'Facebook', '389879808', 'USD', '0.0', '2974676', '212', '3.5', '3.5', '95.0', '4+', 'Social Networking', '37', '1', '29', '1']\n",
      "\n",
      "\n",
      "['389801252', 'Instagram', '113954816', 'USD', '0.0', '2161558', '1289', '4.5', '4.0', '10.23', '12+', 'Photo & Video', '37', '0', '29', '1']\n",
      "\n",
      "\n",
      "['529479190', 'Clash of Clans', '116476928', 'USD', '0.0', '2130805', '579', '4.5', '4.5', '9.24.12', '9+', 'Games', '38', '5', '18', '1']\n",
      "\n",
      "\n",
      "Número de linhas: 6183\n",
      "Número de colunas: 16\n"
     ]
    }
   ],
   "source": [
    "explore_data(ios_english, 0, 3, True)"
   ]
  },
  {
   "cell_type": "markdown",
   "metadata": {},
   "source": [
    "## Filtrando os apps free"
   ]
  },
  {
   "cell_type": "markdown",
   "metadata": {},
   "source": [
    "Como mencionado na introdução, o estudo será feito com apps que são grátis para baixar e instalar. Filtro as listas geradas até aqui para manter apenas os app's free."
   ]
  },
  {
   "cell_type": "code",
   "execution_count": 25,
   "metadata": {},
   "outputs": [],
   "source": [
    "android_final = []\n",
    "ios_final = []\n",
    "\n",
    "for app in android_english:\n",
    "    if app[6] == 'Free':\n",
    "        android_final.append(app)\n",
    "        \n",
    "for app in ios_english:    \n",
    "    if float(app[4]) == 0:\n",
    "        ios_final.append(app)"
   ]
  },
  {
   "cell_type": "code",
   "execution_count": 26,
   "metadata": {},
   "outputs": [
    {
     "name": "stdout",
     "output_type": "stream",
     "text": [
      "['Photo Editor & Candy Camera & Grid & ScrapBook', 'ART_AND_DESIGN', '4.1', '159', '19M', '10,000+', 'Free', '0', 'Everyone', 'Art & Design', 'January 7, 2018', '1.0.0', '4.0.3 and up']\n",
      "\n",
      "\n",
      "['U Launcher Lite – FREE Live Cool Themes, Hide Apps', 'ART_AND_DESIGN', '4.7', '87510', '8.7M', '5,000,000+', 'Free', '0', 'Everyone', 'Art & Design', 'August 1, 2018', '1.2.4', '4.0.3 and up']\n",
      "\n",
      "\n",
      "['Sketch - Draw & Paint', 'ART_AND_DESIGN', '4.5', '215644', '25M', '50,000,000+', 'Free', '0', 'Teen', 'Art & Design', 'June 8, 2018', 'Varies with device', '4.2 and up']\n",
      "\n",
      "\n",
      "Número de linhas: 8863\n",
      "Número de colunas: 13\n"
     ]
    }
   ],
   "source": [
    "explore_data(android_final, 0, 3, True)"
   ]
  },
  {
   "cell_type": "code",
   "execution_count": 27,
   "metadata": {},
   "outputs": [
    {
     "name": "stdout",
     "output_type": "stream",
     "text": [
      "['284882215', 'Facebook', '389879808', 'USD', '0.0', '2974676', '212', '3.5', '3.5', '95.0', '4+', 'Social Networking', '37', '1', '29', '1']\n",
      "\n",
      "\n",
      "['389801252', 'Instagram', '113954816', 'USD', '0.0', '2161558', '1289', '4.5', '4.0', '10.23', '12+', 'Photo & Video', '37', '0', '29', '1']\n",
      "\n",
      "\n",
      "['529479190', 'Clash of Clans', '116476928', 'USD', '0.0', '2130805', '579', '4.5', '4.5', '9.24.12', '9+', 'Games', '38', '5', '18', '1']\n",
      "\n",
      "\n",
      "Número de linhas: 3222\n",
      "Número de colunas: 16\n"
     ]
    }
   ],
   "source": [
    "explore_data(ios_final, 0, 3, True)"
   ]
  },
  {
   "cell_type": "markdown",
   "metadata": {},
   "source": [
    "## Data Analysis (Análise de dados)"
   ]
  },
  {
   "cell_type": "markdown",
   "metadata": {},
   "source": [
    "O objetivo da análise é determinar quais os tipos de aplicativos grátis podem ser mais rentáveis.\n",
    "\n",
    "Para minimizar os riscos, a estratégia de validação adotada pela desenvolvedora consiste em 3 passos:\n",
    "\n",
    "- Desenvolver um app android e colocá-lo no Google Play\n",
    "- Se tiver uma boa resposta, continua com o desenvolvimento\n",
    "- Se o aplicativo for lucrativo depois de 6 meses, desenvolve-se uma versão iOS. Por conta disso, precisamos identificar oportunidades de desenvolvimento em apps em ambas as lojas."
   ]
  },
  {
   "cell_type": "markdown",
   "metadata": {},
   "source": [
    "### Mais populares na App Store"
   ]
  },
  {
   "cell_type": "markdown",
   "metadata": {},
   "source": [
    "Verificaremos os gêneros mais cadastrados em cada loja de aplicativos, começando pela App Store."
   ]
  },
  {
   "cell_type": "code",
   "execution_count": 28,
   "metadata": {},
   "outputs": [],
   "source": [
    "def freq_table(dataset, index):\n",
    "    frequency_table = {}\n",
    "    \n",
    "    for data in dataset:\n",
    "        if data[index] in frequency_table:\n",
    "            frequency_table[data[index]] += 1\n",
    "        else:\n",
    "            frequency_table[data[index]] = 1\n",
    "    \n",
    "    return frequency_table"
   ]
  },
  {
   "cell_type": "code",
   "execution_count": 29,
   "metadata": {},
   "outputs": [],
   "source": [
    "def display_table(dataset, index):\n",
    "    table = freq_table(dataset, index)\n",
    "    table_display = []\n",
    "    for key in table:\n",
    "        key_val_as_tuple = (table[key], key)\n",
    "        table_display.append(key_val_as_tuple)\n",
    "\n",
    "    table_sorted = sorted(table_display, reverse = True)\n",
    "    for entry in table_sorted:\n",
    "        print(entry[1], ':', entry[0])"
   ]
  },
  {
   "cell_type": "code",
   "execution_count": 30,
   "metadata": {},
   "outputs": [
    {
     "name": "stdout",
     "output_type": "stream",
     "text": [
      "Games : 1874\n",
      "Entertainment : 254\n",
      "Photo & Video : 160\n",
      "Education : 118\n",
      "Social Networking : 106\n",
      "Shopping : 84\n",
      "Utilities : 81\n",
      "Sports : 69\n",
      "Music : 66\n",
      "Health & Fitness : 65\n",
      "Productivity : 56\n",
      "Lifestyle : 51\n",
      "News : 43\n",
      "Travel : 40\n",
      "Finance : 36\n",
      "Weather : 28\n",
      "Food & Drink : 26\n",
      "Reference : 18\n",
      "Business : 17\n",
      "Book : 14\n",
      "Navigation : 6\n",
      "Medical : 6\n",
      "Catalogs : 4\n"
     ]
    }
   ],
   "source": [
    "# Frequency table columns : Primary Genre\n",
    "display_table(ios_final, 11) "
   ]
  },
  {
   "cell_type": "markdown",
   "metadata": {},
   "source": [
    "As 5 categorias que mais aparecem na loja da App Store são:\n",
    "\n",
    "1. Games\n",
    "2. Entertainment \n",
    "3. Photo & Video\n",
    "4. Education\n",
    "5. Social Networking \n",
    "\n",
    "A grande maioria se refere ao entretenimento (Games, Entertainment e Photo & Video). Não quer dizer que essa quantidade de aplicativos possuem a mesma quantidade de usuários. Como não temos a quantidade de aplicativos instalados no conjunto de dados da App Store, analisaremos a média de avaliações para cada categoria."
   ]
  },
  {
   "cell_type": "code",
   "execution_count": 31,
   "metadata": {},
   "outputs": [],
   "source": [
    "average_ratings_by_genre = {}\n",
    "\n",
    "for genre in freq_table(ios_final, 11):\n",
    "    total = 0\n",
    "    len_genre = 0\n",
    "    \n",
    "    for app in ios_final:\n",
    "        if genre == app[11]:\n",
    "            len_genre += 1\n",
    "            total += float(app[5])\n",
    "            \n",
    "    if len_genre == 0:\n",
    "        len_genre = 1\n",
    "\n",
    "    average_ratings_by_genre[genre] = total / len_genre  "
   ]
  },
  {
   "cell_type": "code",
   "execution_count": 32,
   "metadata": {},
   "outputs": [],
   "source": [
    "def display_freq_table(freq):\n",
    "    table = freq\n",
    "    table_display = []\n",
    "    for key in table:\n",
    "        key_val_as_tuple = (table[key], key)\n",
    "        table_display.append(key_val_as_tuple)\n",
    "\n",
    "    table_sorted = sorted(table_display, reverse = True)\n",
    "    for entry in table_sorted:\n",
    "        print(entry[1], ':', entry[0])"
   ]
  },
  {
   "cell_type": "code",
   "execution_count": 33,
   "metadata": {},
   "outputs": [
    {
     "name": "stdout",
     "output_type": "stream",
     "text": [
      "Navigation : 86090.33333333333\n",
      "Reference : 74942.11111111111\n",
      "Social Networking : 71548.34905660378\n",
      "Music : 57326.530303030304\n",
      "Weather : 52279.892857142855\n",
      "Book : 39758.5\n",
      "Food & Drink : 33333.92307692308\n",
      "Finance : 31467.944444444445\n",
      "Photo & Video : 28441.54375\n",
      "Travel : 28243.8\n",
      "Shopping : 26919.690476190477\n",
      "Health & Fitness : 23298.015384615384\n",
      "Sports : 23008.898550724636\n",
      "Games : 22788.6696905016\n",
      "News : 21248.023255813954\n",
      "Productivity : 21028.410714285714\n",
      "Utilities : 18684.456790123455\n",
      "Lifestyle : 16485.764705882353\n",
      "Entertainment : 14029.830708661417\n",
      "Business : 7491.117647058823\n",
      "Education : 7003.983050847458\n",
      "Catalogs : 4004.0\n",
      "Medical : 612.0\n"
     ]
    }
   ],
   "source": [
    "display_freq_table(average_ratings_by_genre)"
   ]
  },
  {
   "cell_type": "markdown",
   "metadata": {},
   "source": [
    "Os apps da categoria Navigation foram os mais avaliados. Vamos ver o por quê:"
   ]
  },
  {
   "cell_type": "code",
   "execution_count": 34,
   "metadata": {},
   "outputs": [
    {
     "name": "stdout",
     "output_type": "stream",
     "text": [
      "Waze - GPS Navigation, Maps & Real-time Traffic : 345046\n",
      "Google Maps - Navigation & Transit : 154911\n",
      "Geocaching® : 12811\n",
      "CoPilot GPS – Car Navigation & Offline Maps : 3582\n",
      "ImmobilienScout24: Real Estate Search in Germany : 187\n",
      "Railway Route Search : 5\n"
     ]
    }
   ],
   "source": [
    "for app in ios_final:\n",
    "    if app[11] == 'Navigation':\n",
    "        print(app[1], ':', app[5])"
   ]
  },
  {
   "cell_type": "markdown",
   "metadata": {},
   "source": [
    "Os apps Waze e Google Maps inflaram o número de classificações. Apresenta-se uma falsa impressão de que a categoria Navigation seja popular."
   ]
  },
  {
   "cell_type": "markdown",
   "metadata": {},
   "source": [
    "Outra categoria que apresentou um alto número de classificações foi a Reference:"
   ]
  },
  {
   "cell_type": "code",
   "execution_count": 35,
   "metadata": {},
   "outputs": [
    {
     "name": "stdout",
     "output_type": "stream",
     "text": [
      "Bible : 985920\n",
      "Dictionary.com Dictionary & Thesaurus : 200047\n",
      "Dictionary.com Dictionary & Thesaurus for iPad : 54175\n",
      "Google Translate : 26786\n",
      "Muslim Pro: Ramadan 2017 Prayer Times, Azan, Quran : 18418\n",
      "New Furniture Mods - Pocket Wiki & Game Tools for Minecraft PC Edition : 17588\n",
      "Merriam-Webster Dictionary : 16849\n",
      "Night Sky : 12122\n",
      "City Maps for Minecraft PE - The Best Maps for Minecraft Pocket Edition (MCPE) : 8535\n",
      "LUCKY BLOCK MOD ™ for Minecraft PC Edition - The Best Pocket Wiki & Mods Installer Tools : 4693\n",
      "GUNS MODS for Minecraft PC Edition - Mods Tools : 1497\n",
      "Guides for Pokémon GO - Pokemon GO News and Cheats : 826\n",
      "WWDC : 762\n",
      "Horror Maps for Minecraft PE - Download The Scariest Maps for Minecraft Pocket Edition (MCPE) Free : 718\n",
      "VPN Express : 14\n",
      "Real Bike Traffic Rider Virtual Reality Glasses : 8\n",
      "教えて!goo : 0\n",
      "Jishokun-Japanese English Dictionary & Translator : 0\n"
     ]
    }
   ],
   "source": [
    "for app in ios_final:\n",
    "    if app[11] == 'Reference':\n",
    "        print(app[1], ':', app[5])"
   ]
  },
  {
   "cell_type": "markdown",
   "metadata": {},
   "source": [
    "Os apps Bible e Dictionary.com também distorceram a categoria."
   ]
  },
  {
   "cell_type": "markdown",
   "metadata": {},
   "source": [
    "### Análise do conjunto de dados da App Store"
   ]
  },
  {
   "cell_type": "markdown",
   "metadata": {},
   "source": [
    "A categoria de Games possui muitos concorrentes no App Market, então pode ser que esteja saturada.\n",
    "\n",
    "As categoria Businesse e Lifestyle possuem poucos concorrentes e poucas avaliações. Por conta disso, talvez tenhamos uma oportunidade de entrar nesses ramos, já que app's desse tipo prendem a atenção do usuário e fazem com que seja mais fácil ele clicar em uma propaganda e gerar receita para a empresa."
   ]
  },
  {
   "cell_type": "markdown",
   "metadata": {},
   "source": [
    "### Mais populares na Google Play"
   ]
  },
  {
   "cell_type": "markdown",
   "metadata": {},
   "source": [
    "Verificando as categorias mais cadastradas no Google Play."
   ]
  },
  {
   "cell_type": "code",
   "execution_count": 36,
   "metadata": {
    "scrolled": true
   },
   "outputs": [
    {
     "name": "stdout",
     "output_type": "stream",
     "text": [
      "FAMILY : 1675\n",
      "GAME : 862\n",
      "TOOLS : 750\n",
      "BUSINESS : 407\n",
      "LIFESTYLE : 346\n",
      "PRODUCTIVITY : 345\n",
      "FINANCE : 328\n",
      "MEDICAL : 313\n",
      "SPORTS : 301\n",
      "PERSONALIZATION : 294\n",
      "COMMUNICATION : 287\n",
      "HEALTH_AND_FITNESS : 273\n",
      "PHOTOGRAPHY : 261\n",
      "NEWS_AND_MAGAZINES : 248\n",
      "SOCIAL : 236\n",
      "TRAVEL_AND_LOCAL : 207\n",
      "SHOPPING : 199\n",
      "BOOKS_AND_REFERENCE : 190\n",
      "DATING : 165\n",
      "VIDEO_PLAYERS : 159\n",
      "MAPS_AND_NAVIGATION : 124\n",
      "FOOD_AND_DRINK : 110\n",
      "EDUCATION : 103\n",
      "ENTERTAINMENT : 85\n",
      "LIBRARIES_AND_DEMO : 83\n",
      "AUTO_AND_VEHICLES : 82\n",
      "HOUSE_AND_HOME : 73\n",
      "WEATHER : 71\n",
      "EVENTS : 63\n",
      "PARENTING : 58\n",
      "ART_AND_DESIGN : 57\n",
      "COMICS : 55\n",
      "BEAUTY : 53\n"
     ]
    }
   ],
   "source": [
    "# Frequency table columns : Category\n",
    "display_table(android_final, 1) "
   ]
  },
  {
   "cell_type": "markdown",
   "metadata": {},
   "source": [
    "As 5 categorias que possuem mais aparecem na loja da Google Play são:\n",
    "\n",
    "1. FAMILY : 1675\n",
    "2. GAME : 862\n",
    "3. TOOLS : 750\n",
    "4. BUSINESS : 407\n",
    "5. LIFESTYLE : 346\n",
    "\n",
    "Aqui já podemos notar um comportamento um pouco mais distribuído. Apesar do entretenimento (GAME) ter uma grande quantidade, a parte de ferramentas (FAMILY, TOOLS, BUSINESS, LIFESTYLE) possui a maioria."
   ]
  },
  {
   "cell_type": "markdown",
   "metadata": {},
   "source": [
    "O dataset do Google Play possui uma coluna de quantidade de instalação. Ela não é precisa, pois possui categorias (100.000+) por exemplo, que pode indicar 100.000 ou 150.000. Para fins didáticos vamos utilizar a quantidade da categoria. Logo será necessário tratar as informações, removendo os caracteres '+' e ','."
   ]
  },
  {
   "cell_type": "code",
   "execution_count": 37,
   "metadata": {},
   "outputs": [],
   "source": [
    "average_installs_by_category = {}\n",
    "\n",
    "for category in freq_table(android_final, 1):\n",
    "    total = 0\n",
    "    len_category = 0\n",
    "    \n",
    "    for app in android_final:\n",
    "        if app[1] == category:\n",
    "            total += int(app[5].replace('+', '').replace(',', ''))\n",
    "            len_category += 1\n",
    "            \n",
    "    average_installs_by_category[category] = total / len_category"
   ]
  },
  {
   "cell_type": "code",
   "execution_count": 38,
   "metadata": {
    "scrolled": true
   },
   "outputs": [
    {
     "name": "stdout",
     "output_type": "stream",
     "text": [
      "COMMUNICATION : 38456119.167247385\n",
      "VIDEO_PLAYERS : 24727872.452830188\n",
      "SOCIAL : 23253652.127118643\n",
      "PHOTOGRAPHY : 17840110.40229885\n",
      "PRODUCTIVITY : 16787331.344927534\n",
      "GAME : 15588015.603248259\n",
      "TRAVEL_AND_LOCAL : 13984077.710144928\n",
      "ENTERTAINMENT : 11640705.88235294\n",
      "TOOLS : 10801391.298666667\n",
      "NEWS_AND_MAGAZINES : 9549178.467741935\n",
      "BOOKS_AND_REFERENCE : 8767811.894736841\n",
      "SHOPPING : 7036877.311557789\n",
      "PERSONALIZATION : 5201482.6122448975\n",
      "WEATHER : 5074486.197183099\n",
      "HEALTH_AND_FITNESS : 4188821.9853479853\n",
      "MAPS_AND_NAVIGATION : 4056941.7741935486\n",
      "FAMILY : 3697848.1731343283\n",
      "SPORTS : 3638640.1428571427\n",
      "ART_AND_DESIGN : 1986335.0877192982\n",
      "FOOD_AND_DRINK : 1924897.7363636363\n",
      "EDUCATION : 1833495.145631068\n",
      "BUSINESS : 1712290.1474201474\n",
      "LIFESTYLE : 1437816.2687861272\n",
      "FINANCE : 1387692.475609756\n",
      "HOUSE_AND_HOME : 1331540.5616438356\n",
      "DATING : 854028.8303030303\n",
      "COMICS : 817657.2727272727\n",
      "AUTO_AND_VEHICLES : 647317.8170731707\n",
      "LIBRARIES_AND_DEMO : 638503.734939759\n",
      "PARENTING : 542603.6206896552\n",
      "BEAUTY : 513151.88679245283\n",
      "EVENTS : 253542.22222222222\n",
      "MEDICAL : 120550.61980830671\n"
     ]
    }
   ],
   "source": [
    "display_freq_table(average_installs_by_category)"
   ]
  },
  {
   "cell_type": "markdown",
   "metadata": {},
   "source": [
    "As categorias que possuem mais instalações são:\n",
    "\n",
    "1. COMMUNICATION\n",
    "2. VIDEO_PLAYERS\n",
    "3. SOCIAL\n",
    "4. PHOTOGRAPHY\n",
    "5. PRODUCTIVITY\n",
    "\n",
    "Analisaremos mais a fundo as primeiras:"
   ]
  },
  {
   "cell_type": "code",
   "execution_count": 39,
   "metadata": {},
   "outputs": [
    {
     "name": "stdout",
     "output_type": "stream",
     "text": [
      "['WhatsApp Messenger', 'COMMUNICATION', '4.4', '69119316', 'Varies with device', '1,000,000,000+', 'Free', '0', 'Everyone', 'Communication', 'August 3, 2018', 'Varies with device', 'Varies with device']\n",
      "\n",
      "\n",
      "['Skype Lite - Free Video Call & Chat', 'COMMUNICATION', '4.2', '33053', '22M', '5,000,000+', 'Free', '0', 'Everyone', 'Communication', 'July 31, 2018', '1.60.0.31354-release', '4.0.3 and up']\n",
      "\n",
      "\n",
      "['Skype - free IM & video calls', 'COMMUNICATION', '4.1', '10484169', 'Varies with device', '1,000,000,000+', 'Free', '0', 'Everyone', 'Communication', 'August 3, 2018', 'Varies with device', 'Varies with device']\n",
      "\n",
      "\n",
      "['Gmail', 'COMMUNICATION', '4.3', '4604483', 'Varies with device', '1,000,000,000+', 'Free', '0', 'Everyone', 'Communication', 'August 2, 2018', 'Varies with device', 'Varies with device']\n",
      "\n",
      "\n",
      "['myMail – Email for Hotmail, Gmail and Outlook Mail', 'COMMUNICATION', '4.5', '305218', 'Varies with device', '10,000,000+', 'Free', '0', 'Everyone', 'Communication', 'August 3, 2018', 'Varies with device', 'Varies with device']\n",
      "\n",
      "\n",
      "['Newton Mail - Email App for Gmail, Outlook, IMAP', 'COMMUNICATION', '4.0', '122595', '30M', '1,000,000+', 'Free', '0', 'Everyone', 'Communication', 'July 19, 2018', '9.8.376', '5.0 and up']\n",
      "\n",
      "\n",
      "['WhatsApp Business', 'COMMUNICATION', '4.4', '137144', '32M', '10,000,000+', 'Free', '0', 'Everyone', 'Communication', 'July 30, 2018', '2.18.116', '4.0.3 and up']\n",
      "\n",
      "\n",
      "['DM for WhatsApp', 'COMMUNICATION', '4.4', '25', '2.9M', '5,000+', 'Free', '0', 'Everyone', 'Communication', 'June 3, 2018', '0.3.7', '4.4 and up']\n",
      "\n",
      "\n",
      "['Lite for Facebook Messenger', 'COMMUNICATION', '4.3', '76498', '4.3M', '1,000,000+', 'Free', '0', 'Teen', 'Communication', 'June 20, 2018', '6.3.2', 'Varies with device']\n",
      "\n",
      "\n"
     ]
    }
   ],
   "source": [
    "for app in android_final:\n",
    "    if app[1] == 'COMMUNICATION':\n",
    "        if 'WhatsApp' in app[0] or 'Skype' in app[0] or 'Facebook Messenger' in app[0] or 'Gmail' in app[0]:\n",
    "            print(app)\n",
    "            print('\\n')"
   ]
  },
  {
   "cell_type": "markdown",
   "metadata": {},
   "source": [
    "A quantidade de instalação da categoria COMMUNICATION está muito alterado por conta de gigantes de tecnologia como WhatsApp, Skype, Messenger, Gmail, Hangouts entre outros. Talvez na seja uma boa ideia competir com empresas desse tipo."
   ]
  },
  {
   "cell_type": "code",
   "execution_count": 40,
   "metadata": {},
   "outputs": [
    {
     "name": "stdout",
     "output_type": "stream",
     "text": [
      "['YouTube', 'VIDEO_PLAYERS', '4.3', '25655305', 'Varies with device', '1,000,000,000+', 'Free', '0', 'Teen', 'Video Players & Editors', 'August 2, 2018', 'Varies with device', 'Varies with device']\n",
      "\n",
      "\n",
      "['VLC for Android', 'VIDEO_PLAYERS', '4.4', '1032076', 'Varies with device', '100,000,000+', 'Free', '0', 'Everyone', 'Video Players & Editors', 'July 30, 2018', 'Varies with device', '2.3 and up']\n",
      "\n",
      "\n",
      "['YouTube Studio', 'VIDEO_PLAYERS', '4.3', '436921', 'Varies with device', '10,000,000+', 'Free', '0', 'Teen', 'Video Players & Editors', 'June 28, 2018', 'Varies with device', 'Varies with device']\n",
      "\n",
      "\n",
      "['VivaVideo - Video Editor & Photo Movie', 'VIDEO_PLAYERS', '4.6', '9879473', '40M', '100,000,000+', 'Free', '0', 'Teen', 'Video Players & Editors', 'August 4, 2018', '7.2.1', '4.1 and up']\n",
      "\n",
      "\n",
      "['iPlayIT for YouTube VR Player', 'VIDEO_PLAYERS', '4.3', '5879', 'Varies with device', '1,000,000+', 'Free', '0', 'Teen', 'Video Players & Editors', 'June 12, 2018', 'Varies with device', '4.1 and up']\n",
      "\n",
      "\n",
      "['CJ VLC HD Remote (+ Stream)', 'VIDEO_PLAYERS', '4.2', '4074', '1.3M', '500,000+', 'Free', '0', 'Everyone', 'Video Players & Editors', 'November 13, 2013', '1.2.4', '2.1 and up']\n",
      "\n",
      "\n"
     ]
    }
   ],
   "source": [
    "for app in android_final:\n",
    "    if app[1] == 'VIDEO_PLAYERS':\n",
    "        if 'YouTube' in app[0] or 'VLC' in app[0] or 'VivaVideo' in app[0]:\n",
    "            print(app)\n",
    "            print('\\n')"
   ]
  },
  {
   "cell_type": "markdown",
   "metadata": {},
   "source": [
    "O mesmo comportamento ocorre na categoria VIDEO_PLAYERS, com números inflados por conta das gigantes como YouTube, VLC, VivaVideo, etc."
   ]
  },
  {
   "cell_type": "markdown",
   "metadata": {},
   "source": [
    "No conjunto de dados do Google Play, as categorias Business e Lifestyle também possuem poucas instalações. Entretanto, a quantidade concorrentes é um pouco maior que o encontrado na App Store."
   ]
  },
  {
   "cell_type": "markdown",
   "metadata": {},
   "source": [
    "## Conclusão"
   ]
  },
  {
   "cell_type": "markdown",
   "metadata": {},
   "source": [
    "Com esse projeto foi possível colocar em prática os conceitos aprendidos do Python básico (loops for, condicionais, listas, dicionários, funções) e alguns conceitos do processo de Data Science (exploração, limpeza e análise de dados).\n",
    "\n",
    "O projeto nos mostrou também que nenhuma categoria é fácil de se inserir e criar um aplicativo de sucesso. Algumas já estão saturadas e outras ainda possuem espaço para competição. Foi o caso encontrado na categoria Business e Lifestyle. Essas categorias possuem poucas instalações e poucos concorrentes. São também categorias que podem prender a atenção do usuário, fazendo assim com que fique mais propenso a clicar em uma propaganda, ação essa que gera a fonte de renda para empresa."
   ]
  },
  {
   "cell_type": "markdown",
   "metadata": {},
   "source": [
    "## Referências"
   ]
  },
  {
   "cell_type": "markdown",
   "metadata": {},
   "source": [
    "- Dados da App Store: [Kaggle Mobile App Store](https://www.kaggle.com/ramamet4/app-store-apple-data-set-10k-apps)\n",
    "\n",
    "- Dados da Google Play: [Kaggle Google Play Store Apps](https://www.kaggle.com/lava18/google-play-store-apps)"
   ]
  }
 ],
 "metadata": {
  "kernelspec": {
   "display_name": "Python 3",
   "language": "python",
   "name": "python3"
  },
  "language_info": {
   "codemirror_mode": {
    "name": "ipython",
    "version": 3
   },
   "file_extension": ".py",
   "mimetype": "text/x-python",
   "name": "python",
   "nbconvert_exporter": "python",
   "pygments_lexer": "ipython3",
   "version": "3.8.5"
  }
 },
 "nbformat": 4,
 "nbformat_minor": 4
}
